{
 "cells": [
  {
   "cell_type": "markdown",
   "metadata": {},
   "source": [
    "# Third Project\n",
    "For Zoomcamp"
   ]
  },
  {
   "cell_type": "markdown",
   "metadata": {},
   "source": [
    "## prepare environment"
   ]
  },
  {
   "cell_type": "code",
   "execution_count": 144,
   "metadata": {},
   "outputs": [
    {
     "name": "stdout",
     "output_type": "stream",
     "text": [
      "Requirement already satisfied: pandas in c:\\users\\kay_t\\appdata\\local\\packages\\pythonsoftwarefoundation.python.3.9_qbz5n2kfra8p0\\localcache\\local-packages\\python39\\site-packages (from -r requirements.txt (line 1)) (1.3.4)\n",
      "Requirement already satisfied: numpy in c:\\users\\kay_t\\appdata\\local\\packages\\pythonsoftwarefoundation.python.3.9_qbz5n2kfra8p0\\localcache\\local-packages\\python39\\site-packages (from -r requirements.txt (line 2)) (1.19.5)\n",
      "Requirement already satisfied: matplotlib in c:\\users\\kay_t\\appdata\\local\\packages\\pythonsoftwarefoundation.python.3.9_qbz5n2kfra8p0\\localcache\\local-packages\\python39\\site-packages (from -r requirements.txt (line 3)) (3.4.3)\n",
      "Requirement already satisfied: seaborn in c:\\users\\kay_t\\appdata\\local\\packages\\pythonsoftwarefoundation.python.3.9_qbz5n2kfra8p0\\localcache\\local-packages\\python39\\site-packages (from -r requirements.txt (line 4)) (0.11.2)\n",
      "Requirement already satisfied: scikit-learn in c:\\users\\kay_t\\appdata\\local\\packages\\pythonsoftwarefoundation.python.3.9_qbz5n2kfra8p0\\localcache\\local-packages\\python39\\site-packages (from -r requirements.txt (line 5)) (1.0.1)\n",
      "Requirement already satisfied: flask in c:\\users\\kay_t\\appdata\\local\\packages\\pythonsoftwarefoundation.python.3.9_qbz5n2kfra8p0\\localcache\\local-packages\\python39\\site-packages (from -r requirements.txt (line 6)) (2.0.2)\n",
      "Requirement already satisfied: python-dateutil>=2.7.3 in c:\\users\\kay_t\\appdata\\local\\packages\\pythonsoftwarefoundation.python.3.9_qbz5n2kfra8p0\\localcache\\local-packages\\python39\\site-packages (from pandas->-r requirements.txt (line 1)) (2.8.2)\n",
      "Requirement already satisfied: pytz>=2017.3 in c:\\users\\kay_t\\appdata\\local\\packages\\pythonsoftwarefoundation.python.3.9_qbz5n2kfra8p0\\localcache\\local-packages\\python39\\site-packages (from pandas->-r requirements.txt (line 1)) (2021.3)\n",
      "Requirement already satisfied: cycler>=0.10 in c:\\users\\kay_t\\appdata\\local\\packages\\pythonsoftwarefoundation.python.3.9_qbz5n2kfra8p0\\localcache\\local-packages\\python39\\site-packages (from matplotlib->-r requirements.txt (line 3)) (0.10.0)\n",
      "Requirement already satisfied: pillow>=6.2.0 in c:\\users\\kay_t\\appdata\\local\\packages\\pythonsoftwarefoundation.python.3.9_qbz5n2kfra8p0\\localcache\\local-packages\\python39\\site-packages (from matplotlib->-r requirements.txt (line 3)) (8.4.0)\n",
      "Requirement already satisfied: kiwisolver>=1.0.1 in c:\\users\\kay_t\\appdata\\local\\packages\\pythonsoftwarefoundation.python.3.9_qbz5n2kfra8p0\\localcache\\local-packages\\python39\\site-packages (from matplotlib->-r requirements.txt (line 3)) (1.3.2)\n",
      "Requirement already satisfied: pyparsing>=2.2.1 in c:\\users\\kay_t\\appdata\\local\\packages\\pythonsoftwarefoundation.python.3.9_qbz5n2kfra8p0\\localcache\\local-packages\\python39\\site-packages (from matplotlib->-r requirements.txt (line 3)) (2.4.7)\n",
      "Requirement already satisfied: scipy>=1.0 in c:\\users\\kay_t\\appdata\\local\\packages\\pythonsoftwarefoundation.python.3.9_qbz5n2kfra8p0\\localcache\\local-packages\\python39\\site-packages (from seaborn->-r requirements.txt (line 4)) (1.7.1)\n",
      "Requirement already satisfied: threadpoolctl>=2.0.0 in c:\\users\\kay_t\\appdata\\local\\packages\\pythonsoftwarefoundation.python.3.9_qbz5n2kfra8p0\\localcache\\local-packages\\python39\\site-packages (from scikit-learn->-r requirements.txt (line 5)) (3.0.0)\n",
      "Requirement already satisfied: joblib>=0.11 in c:\\users\\kay_t\\appdata\\local\\packages\\pythonsoftwarefoundation.python.3.9_qbz5n2kfra8p0\\localcache\\local-packages\\python39\\site-packages (from scikit-learn->-r requirements.txt (line 5)) (1.1.0)\n",
      "Requirement already satisfied: Jinja2>=3.0 in c:\\users\\kay_t\\appdata\\local\\packages\\pythonsoftwarefoundation.python.3.9_qbz5n2kfra8p0\\localcache\\local-packages\\python39\\site-packages (from flask->-r requirements.txt (line 6)) (3.0.2)\n",
      "Requirement already satisfied: Werkzeug>=2.0 in c:\\users\\kay_t\\appdata\\local\\packages\\pythonsoftwarefoundation.python.3.9_qbz5n2kfra8p0\\localcache\\local-packages\\python39\\site-packages (from flask->-r requirements.txt (line 6)) (2.0.2)\n",
      "Requirement already satisfied: itsdangerous>=2.0 in c:\\users\\kay_t\\appdata\\local\\packages\\pythonsoftwarefoundation.python.3.9_qbz5n2kfra8p0\\localcache\\local-packages\\python39\\site-packages (from flask->-r requirements.txt (line 6)) (2.0.1)\n",
      "Requirement already satisfied: click>=7.1.2 in c:\\users\\kay_t\\appdata\\local\\packages\\pythonsoftwarefoundation.python.3.9_qbz5n2kfra8p0\\localcache\\local-packages\\python39\\site-packages (from flask->-r requirements.txt (line 6)) (8.0.3)\n",
      "Requirement already satisfied: colorama in c:\\users\\kay_t\\appdata\\local\\packages\\pythonsoftwarefoundation.python.3.9_qbz5n2kfra8p0\\localcache\\local-packages\\python39\\site-packages (from click>=7.1.2->flask->-r requirements.txt (line 6)) (0.4.4)\n",
      "Requirement already satisfied: six in c:\\users\\kay_t\\appdata\\local\\packages\\pythonsoftwarefoundation.python.3.9_qbz5n2kfra8p0\\localcache\\local-packages\\python39\\site-packages (from cycler>=0.10->matplotlib->-r requirements.txt (line 3)) (1.15.0)\n",
      "Requirement already satisfied: MarkupSafe>=2.0 in c:\\users\\kay_t\\appdata\\local\\packages\\pythonsoftwarefoundation.python.3.9_qbz5n2kfra8p0\\localcache\\local-packages\\python39\\site-packages (from Jinja2>=3.0->flask->-r requirements.txt (line 6)) (2.0.1)\n"
     ]
    }
   ],
   "source": [
    "# run pip to get requirement.txt\n",
    "!pip install -r requirements.txt"
   ]
  },
  {
   "cell_type": "markdown",
   "metadata": {},
   "source": [
    "# libraries"
   ]
  },
  {
   "cell_type": "code",
   "execution_count": 145,
   "metadata": {},
   "outputs": [],
   "source": [
    "#import main libraries\n",
    "\n",
    "#processing & viz\n",
    "import numpy as np\n",
    "import pandas as pd\n",
    "import matplotlib.pyplot as plt\n",
    "import seaborn as sns\n",
    "\n",
    "#data splitting\n",
    "from sklearn.model_selection import train_test_split\n",
    "from sklearn.metrics import mutual_info_score\n",
    "from sklearn.metrics import auc, roc_curve"
   ]
  },
  {
   "cell_type": "markdown",
   "metadata": {},
   "source": [
    "# Data prep, clean & vizi"
   ]
  },
  {
   "cell_type": "code",
   "execution_count": 146,
   "metadata": {},
   "outputs": [
    {
     "data": {
      "text/html": [
       "<div>\n",
       "<style scoped>\n",
       "    .dataframe tbody tr th:only-of-type {\n",
       "        vertical-align: middle;\n",
       "    }\n",
       "\n",
       "    .dataframe tbody tr th {\n",
       "        vertical-align: top;\n",
       "    }\n",
       "\n",
       "    .dataframe thead th {\n",
       "        text-align: right;\n",
       "    }\n",
       "</style>\n",
       "<table border=\"1\" class=\"dataframe\">\n",
       "  <thead>\n",
       "    <tr style=\"text-align: right;\">\n",
       "      <th></th>\n",
       "      <th>UDI</th>\n",
       "      <th>Product ID</th>\n",
       "      <th>Type</th>\n",
       "      <th>Air temperature [K]</th>\n",
       "      <th>Process temperature [K]</th>\n",
       "      <th>Rotational speed [rpm]</th>\n",
       "      <th>Torque [Nm]</th>\n",
       "      <th>Tool wear [min]</th>\n",
       "      <th>Target</th>\n",
       "      <th>Failure Type</th>\n",
       "    </tr>\n",
       "  </thead>\n",
       "  <tbody>\n",
       "    <tr>\n",
       "      <th>0</th>\n",
       "      <td>51</td>\n",
       "      <td>L47230</td>\n",
       "      <td>L</td>\n",
       "      <td>298.9</td>\n",
       "      <td>309.1</td>\n",
       "      <td>2861</td>\n",
       "      <td>4.6</td>\n",
       "      <td>143</td>\n",
       "      <td>1</td>\n",
       "      <td>Power Failure</td>\n",
       "    </tr>\n",
       "    <tr>\n",
       "      <th>1</th>\n",
       "      <td>70</td>\n",
       "      <td>L47249</td>\n",
       "      <td>L</td>\n",
       "      <td>298.9</td>\n",
       "      <td>309.0</td>\n",
       "      <td>1410</td>\n",
       "      <td>65.7</td>\n",
       "      <td>191</td>\n",
       "      <td>1</td>\n",
       "      <td>Power Failure</td>\n",
       "    </tr>\n",
       "    <tr>\n",
       "      <th>2</th>\n",
       "      <td>78</td>\n",
       "      <td>L47257</td>\n",
       "      <td>L</td>\n",
       "      <td>298.8</td>\n",
       "      <td>308.9</td>\n",
       "      <td>1455</td>\n",
       "      <td>41.3</td>\n",
       "      <td>208</td>\n",
       "      <td>1</td>\n",
       "      <td>Tool Wear Failure</td>\n",
       "    </tr>\n",
       "    <tr>\n",
       "      <th>3</th>\n",
       "      <td>161</td>\n",
       "      <td>L47340</td>\n",
       "      <td>L</td>\n",
       "      <td>298.4</td>\n",
       "      <td>308.2</td>\n",
       "      <td>1282</td>\n",
       "      <td>60.7</td>\n",
       "      <td>216</td>\n",
       "      <td>1</td>\n",
       "      <td>Overstrain Failure</td>\n",
       "    </tr>\n",
       "    <tr>\n",
       "      <th>4</th>\n",
       "      <td>162</td>\n",
       "      <td>L47341</td>\n",
       "      <td>L</td>\n",
       "      <td>298.3</td>\n",
       "      <td>308.1</td>\n",
       "      <td>1412</td>\n",
       "      <td>52.3</td>\n",
       "      <td>218</td>\n",
       "      <td>1</td>\n",
       "      <td>Overstrain Failure</td>\n",
       "    </tr>\n",
       "    <tr>\n",
       "      <th>...</th>\n",
       "      <td>...</td>\n",
       "      <td>...</td>\n",
       "      <td>...</td>\n",
       "      <td>...</td>\n",
       "      <td>...</td>\n",
       "      <td>...</td>\n",
       "      <td>...</td>\n",
       "      <td>...</td>\n",
       "      <td>...</td>\n",
       "      <td>...</td>\n",
       "    </tr>\n",
       "    <tr>\n",
       "      <th>744</th>\n",
       "      <td>9996</td>\n",
       "      <td>M24855</td>\n",
       "      <td>M</td>\n",
       "      <td>298.8</td>\n",
       "      <td>308.4</td>\n",
       "      <td>1604</td>\n",
       "      <td>29.5</td>\n",
       "      <td>14</td>\n",
       "      <td>0</td>\n",
       "      <td>No Failure</td>\n",
       "    </tr>\n",
       "    <tr>\n",
       "      <th>745</th>\n",
       "      <td>9997</td>\n",
       "      <td>H39410</td>\n",
       "      <td>H</td>\n",
       "      <td>298.9</td>\n",
       "      <td>308.4</td>\n",
       "      <td>1632</td>\n",
       "      <td>31.8</td>\n",
       "      <td>17</td>\n",
       "      <td>0</td>\n",
       "      <td>No Failure</td>\n",
       "    </tr>\n",
       "    <tr>\n",
       "      <th>746</th>\n",
       "      <td>9998</td>\n",
       "      <td>M24857</td>\n",
       "      <td>M</td>\n",
       "      <td>299.0</td>\n",
       "      <td>308.6</td>\n",
       "      <td>1645</td>\n",
       "      <td>33.4</td>\n",
       "      <td>22</td>\n",
       "      <td>0</td>\n",
       "      <td>No Failure</td>\n",
       "    </tr>\n",
       "    <tr>\n",
       "      <th>747</th>\n",
       "      <td>9999</td>\n",
       "      <td>H39412</td>\n",
       "      <td>H</td>\n",
       "      <td>299.0</td>\n",
       "      <td>308.7</td>\n",
       "      <td>1408</td>\n",
       "      <td>48.5</td>\n",
       "      <td>25</td>\n",
       "      <td>0</td>\n",
       "      <td>No Failure</td>\n",
       "    </tr>\n",
       "    <tr>\n",
       "      <th>748</th>\n",
       "      <td>10000</td>\n",
       "      <td>M24859</td>\n",
       "      <td>M</td>\n",
       "      <td>299.0</td>\n",
       "      <td>308.7</td>\n",
       "      <td>1500</td>\n",
       "      <td>40.2</td>\n",
       "      <td>30</td>\n",
       "      <td>0</td>\n",
       "      <td>No Failure</td>\n",
       "    </tr>\n",
       "  </tbody>\n",
       "</table>\n",
       "<p>749 rows × 10 columns</p>\n",
       "</div>"
      ],
      "text/plain": [
       "       UDI Product ID Type  Air temperature [K]  Process temperature [K]  \\\n",
       "0       51     L47230    L                298.9                    309.1   \n",
       "1       70     L47249    L                298.9                    309.0   \n",
       "2       78     L47257    L                298.8                    308.9   \n",
       "3      161     L47340    L                298.4                    308.2   \n",
       "4      162     L47341    L                298.3                    308.1   \n",
       "..     ...        ...  ...                  ...                      ...   \n",
       "744   9996     M24855    M                298.8                    308.4   \n",
       "745   9997     H39410    H                298.9                    308.4   \n",
       "746   9998     M24857    M                299.0                    308.6   \n",
       "747   9999     H39412    H                299.0                    308.7   \n",
       "748  10000     M24859    M                299.0                    308.7   \n",
       "\n",
       "     Rotational speed [rpm]  Torque [Nm]  Tool wear [min]  Target  \\\n",
       "0                      2861          4.6              143       1   \n",
       "1                      1410         65.7              191       1   \n",
       "2                      1455         41.3              208       1   \n",
       "3                      1282         60.7              216       1   \n",
       "4                      1412         52.3              218       1   \n",
       "..                      ...          ...              ...     ...   \n",
       "744                    1604         29.5               14       0   \n",
       "745                    1632         31.8               17       0   \n",
       "746                    1645         33.4               22       0   \n",
       "747                    1408         48.5               25       0   \n",
       "748                    1500         40.2               30       0   \n",
       "\n",
       "           Failure Type  \n",
       "0         Power Failure  \n",
       "1         Power Failure  \n",
       "2     Tool Wear Failure  \n",
       "3    Overstrain Failure  \n",
       "4    Overstrain Failure  \n",
       "..                  ...  \n",
       "744          No Failure  \n",
       "745          No Failure  \n",
       "746          No Failure  \n",
       "747          No Failure  \n",
       "748          No Failure  \n",
       "\n",
       "[749 rows x 10 columns]"
      ]
     },
     "execution_count": 146,
     "metadata": {},
     "output_type": "execute_result"
    }
   ],
   "source": [
    "# load & show\n",
    "df = pd.read_csv(\"predictive_maintenance.csv\")\n",
    "df"
   ]
  },
  {
   "cell_type": "markdown",
   "metadata": {},
   "source": [
    "Rename headers"
   ]
  },
  {
   "cell_type": "code",
   "execution_count": 147,
   "metadata": {},
   "outputs": [],
   "source": [
    "df = df.rename(columns={'Product ID':'product_id', 'Air temperature [K]':'air_temperature', 'Process temperature [K]':'process_temperature', 'Rotational speed [rpm]':'rot_speed', 'Torque [Nm]':'torque','Tool wear [min]':'tool_wear','Failure Type':'fail_type','Type':'type','Target':'target' })\n",
    "del df['UDI']"
   ]
  },
  {
   "cell_type": "code",
   "execution_count": 148,
   "metadata": {},
   "outputs": [
    {
     "data": {
      "text/html": [
       "<div>\n",
       "<style scoped>\n",
       "    .dataframe tbody tr th:only-of-type {\n",
       "        vertical-align: middle;\n",
       "    }\n",
       "\n",
       "    .dataframe tbody tr th {\n",
       "        vertical-align: top;\n",
       "    }\n",
       "\n",
       "    .dataframe thead th {\n",
       "        text-align: right;\n",
       "    }\n",
       "</style>\n",
       "<table border=\"1\" class=\"dataframe\">\n",
       "  <thead>\n",
       "    <tr style=\"text-align: right;\">\n",
       "      <th></th>\n",
       "      <th>product_id</th>\n",
       "      <th>type</th>\n",
       "      <th>air_temperature</th>\n",
       "      <th>process_temperature</th>\n",
       "      <th>rot_speed</th>\n",
       "      <th>torque</th>\n",
       "      <th>tool_wear</th>\n",
       "      <th>target</th>\n",
       "      <th>fail_type</th>\n",
       "    </tr>\n",
       "  </thead>\n",
       "  <tbody>\n",
       "    <tr>\n",
       "      <th>0</th>\n",
       "      <td>L47230</td>\n",
       "      <td>L</td>\n",
       "      <td>298.9</td>\n",
       "      <td>309.1</td>\n",
       "      <td>2861</td>\n",
       "      <td>4.6</td>\n",
       "      <td>143</td>\n",
       "      <td>1</td>\n",
       "      <td>Power Failure</td>\n",
       "    </tr>\n",
       "    <tr>\n",
       "      <th>1</th>\n",
       "      <td>L47249</td>\n",
       "      <td>L</td>\n",
       "      <td>298.9</td>\n",
       "      <td>309.0</td>\n",
       "      <td>1410</td>\n",
       "      <td>65.7</td>\n",
       "      <td>191</td>\n",
       "      <td>1</td>\n",
       "      <td>Power Failure</td>\n",
       "    </tr>\n",
       "    <tr>\n",
       "      <th>2</th>\n",
       "      <td>L47257</td>\n",
       "      <td>L</td>\n",
       "      <td>298.8</td>\n",
       "      <td>308.9</td>\n",
       "      <td>1455</td>\n",
       "      <td>41.3</td>\n",
       "      <td>208</td>\n",
       "      <td>1</td>\n",
       "      <td>Tool Wear Failure</td>\n",
       "    </tr>\n",
       "    <tr>\n",
       "      <th>3</th>\n",
       "      <td>L47340</td>\n",
       "      <td>L</td>\n",
       "      <td>298.4</td>\n",
       "      <td>308.2</td>\n",
       "      <td>1282</td>\n",
       "      <td>60.7</td>\n",
       "      <td>216</td>\n",
       "      <td>1</td>\n",
       "      <td>Overstrain Failure</td>\n",
       "    </tr>\n",
       "    <tr>\n",
       "      <th>4</th>\n",
       "      <td>L47341</td>\n",
       "      <td>L</td>\n",
       "      <td>298.3</td>\n",
       "      <td>308.1</td>\n",
       "      <td>1412</td>\n",
       "      <td>52.3</td>\n",
       "      <td>218</td>\n",
       "      <td>1</td>\n",
       "      <td>Overstrain Failure</td>\n",
       "    </tr>\n",
       "    <tr>\n",
       "      <th>...</th>\n",
       "      <td>...</td>\n",
       "      <td>...</td>\n",
       "      <td>...</td>\n",
       "      <td>...</td>\n",
       "      <td>...</td>\n",
       "      <td>...</td>\n",
       "      <td>...</td>\n",
       "      <td>...</td>\n",
       "      <td>...</td>\n",
       "    </tr>\n",
       "    <tr>\n",
       "      <th>744</th>\n",
       "      <td>M24855</td>\n",
       "      <td>M</td>\n",
       "      <td>298.8</td>\n",
       "      <td>308.4</td>\n",
       "      <td>1604</td>\n",
       "      <td>29.5</td>\n",
       "      <td>14</td>\n",
       "      <td>0</td>\n",
       "      <td>No Failure</td>\n",
       "    </tr>\n",
       "    <tr>\n",
       "      <th>745</th>\n",
       "      <td>H39410</td>\n",
       "      <td>H</td>\n",
       "      <td>298.9</td>\n",
       "      <td>308.4</td>\n",
       "      <td>1632</td>\n",
       "      <td>31.8</td>\n",
       "      <td>17</td>\n",
       "      <td>0</td>\n",
       "      <td>No Failure</td>\n",
       "    </tr>\n",
       "    <tr>\n",
       "      <th>746</th>\n",
       "      <td>M24857</td>\n",
       "      <td>M</td>\n",
       "      <td>299.0</td>\n",
       "      <td>308.6</td>\n",
       "      <td>1645</td>\n",
       "      <td>33.4</td>\n",
       "      <td>22</td>\n",
       "      <td>0</td>\n",
       "      <td>No Failure</td>\n",
       "    </tr>\n",
       "    <tr>\n",
       "      <th>747</th>\n",
       "      <td>H39412</td>\n",
       "      <td>H</td>\n",
       "      <td>299.0</td>\n",
       "      <td>308.7</td>\n",
       "      <td>1408</td>\n",
       "      <td>48.5</td>\n",
       "      <td>25</td>\n",
       "      <td>0</td>\n",
       "      <td>No Failure</td>\n",
       "    </tr>\n",
       "    <tr>\n",
       "      <th>748</th>\n",
       "      <td>M24859</td>\n",
       "      <td>M</td>\n",
       "      <td>299.0</td>\n",
       "      <td>308.7</td>\n",
       "      <td>1500</td>\n",
       "      <td>40.2</td>\n",
       "      <td>30</td>\n",
       "      <td>0</td>\n",
       "      <td>No Failure</td>\n",
       "    </tr>\n",
       "  </tbody>\n",
       "</table>\n",
       "<p>749 rows × 9 columns</p>\n",
       "</div>"
      ],
      "text/plain": [
       "    product_id type  air_temperature  process_temperature  rot_speed  torque  \\\n",
       "0       L47230    L            298.9                309.1       2861     4.6   \n",
       "1       L47249    L            298.9                309.0       1410    65.7   \n",
       "2       L47257    L            298.8                308.9       1455    41.3   \n",
       "3       L47340    L            298.4                308.2       1282    60.7   \n",
       "4       L47341    L            298.3                308.1       1412    52.3   \n",
       "..         ...  ...              ...                  ...        ...     ...   \n",
       "744     M24855    M            298.8                308.4       1604    29.5   \n",
       "745     H39410    H            298.9                308.4       1632    31.8   \n",
       "746     M24857    M            299.0                308.6       1645    33.4   \n",
       "747     H39412    H            299.0                308.7       1408    48.5   \n",
       "748     M24859    M            299.0                308.7       1500    40.2   \n",
       "\n",
       "     tool_wear  target           fail_type  \n",
       "0          143       1       Power Failure  \n",
       "1          191       1       Power Failure  \n",
       "2          208       1   Tool Wear Failure  \n",
       "3          216       1  Overstrain Failure  \n",
       "4          218       1  Overstrain Failure  \n",
       "..         ...     ...                 ...  \n",
       "744         14       0          No Failure  \n",
       "745         17       0          No Failure  \n",
       "746         22       0          No Failure  \n",
       "747         25       0          No Failure  \n",
       "748         30       0          No Failure  \n",
       "\n",
       "[749 rows x 9 columns]"
      ]
     },
     "execution_count": 148,
     "metadata": {},
     "output_type": "execute_result"
    }
   ],
   "source": [
    "df"
   ]
  },
  {
   "cell_type": "markdown",
   "metadata": {},
   "source": [
    "Check NaN"
   ]
  },
  {
   "cell_type": "code",
   "execution_count": 149,
   "metadata": {},
   "outputs": [
    {
     "data": {
      "text/plain": [
       "product_id             0\n",
       "type                   0\n",
       "air_temperature        0\n",
       "process_temperature    0\n",
       "rot_speed              0\n",
       "torque                 0\n",
       "tool_wear              0\n",
       "target                 0\n",
       "fail_type              0\n",
       "dtype: int64"
      ]
     },
     "execution_count": 149,
     "metadata": {},
     "output_type": "execute_result"
    }
   ],
   "source": [
    "# Checking NaNs\n",
    "df.isna().sum()"
   ]
  },
  {
   "cell_type": "markdown",
   "metadata": {},
   "source": [
    "clean database, nice"
   ]
  },
  {
   "cell_type": "markdown",
   "metadata": {},
   "source": [
    "## Data info"
   ]
  },
  {
   "cell_type": "code",
   "execution_count": 150,
   "metadata": {},
   "outputs": [
    {
     "name": "stdout",
     "output_type": "stream",
     "text": [
      "Database contains 749 data from 749 unique machines\n"
     ]
    }
   ],
   "source": [
    "print(\"Database contains %d data from %d unique machines\" %(len(df),len(df[\"product_id\"].unique())))"
   ]
  },
  {
   "cell_type": "markdown",
   "metadata": {},
   "source": [
    "## Machine types:"
   ]
  },
  {
   "cell_type": "code",
   "execution_count": 151,
   "metadata": {},
   "outputs": [
    {
     "data": {
      "text/plain": [
       "<AxesSubplot:ylabel='type'>"
      ]
     },
     "execution_count": 151,
     "metadata": {},
     "output_type": "execute_result"
    },
    {
     "data": {
      "image/png": "[encoded data removed]",
      "text/plain": [
       "<Figure size 720x576 with 1 Axes>"
      ]
     },
     "metadata": {},
     "output_type": "display_data"
    }
   ],
   "source": [
    "df.groupby([\"type\"])[[\"type\"]].count().plot.pie(y=\"type\",table=True,figsize=(10,8))"
   ]
  },
  {
   "cell_type": "markdown",
   "metadata": {},
   "source": [
    "## Failure type"
   ]
  },
  {
   "cell_type": "code",
   "execution_count": 152,
   "metadata": {},
   "outputs": [
    {
     "data": {
      "text/plain": [
       "<AxesSubplot:ylabel='fail_type'>"
      ]
     },
     "execution_count": 152,
     "metadata": {},
     "output_type": "execute_result"
    },
    {
     "data": {
      "image/png": "[encoded data removed]",
      "text/plain": [
       "<Figure size 720x576 with 1 Axes>"
      ]
     },
     "metadata": {},
     "output_type": "display_data"
    }
   ],
   "source": [
    "df.groupby([\"fail_type\"])[[\"fail_type\"]].count().plot.pie(y=\"fail_type\",table=True,figsize=(10,8))"
   ]
  },
  {
   "cell_type": "markdown",
   "metadata": {},
   "source": [
    "## Temperatures"
   ]
  },
  {
   "cell_type": "code",
   "execution_count": 153,
   "metadata": {},
   "outputs": [
    {
     "data": {
      "text/plain": [
       "<AxesSubplot:title={'center':'Air Temperature (°K)'}, ylabel='Frequency'>"
      ]
     },
     "execution_count": 153,
     "metadata": {},
     "output_type": "execute_result"
    },
    {
     "data": {
      "image/png": "[encoded data removed]",
      "text/plain": [
       "<Figure size 432x288 with 1 Axes>"
      ]
     },
     "metadata": {
      "needs_background": "light"
     },
     "output_type": "display_data"
    }
   ],
   "source": [
    "df[\"air_temperature\"].plot.hist(title=\"Air Temperature (°K)\",bins=100)"
   ]
  },
  {
   "cell_type": "code",
   "execution_count": 154,
   "metadata": {},
   "outputs": [
    {
     "data": {
      "text/plain": [
       "<AxesSubplot:title={'center':'Process Temperature (°K)'}, ylabel='Frequency'>"
      ]
     },
     "execution_count": 154,
     "metadata": {},
     "output_type": "execute_result"
    },
    {
     "data": {
      "image/png": "[encoded data removed]",
      "text/plain": [
       "<Figure size 432x288 with 1 Axes>"
      ]
     },
     "metadata": {
      "needs_background": "light"
     },
     "output_type": "display_data"
    }
   ],
   "source": [
    "df[\"process_temperature\"].plot.hist(title=\"Process Temperature (°K)\",bins=100)"
   ]
  },
  {
   "cell_type": "markdown",
   "metadata": {},
   "source": [
    "## Rotational speed"
   ]
  },
  {
   "cell_type": "code",
   "execution_count": 155,
   "metadata": {},
   "outputs": [
    {
     "data": {
      "text/plain": [
       "<AxesSubplot:title={'center':'Rotational Speed (RPM)'}, ylabel='Frequency'>"
      ]
     },
     "execution_count": 155,
     "metadata": {},
     "output_type": "execute_result"
    },
    {
     "data": {
      "image/png": "[encoded data removed]",
      "text/plain": [
       "<Figure size 432x288 with 1 Axes>"
      ]
     },
     "metadata": {
      "needs_background": "light"
     },
     "output_type": "display_data"
    }
   ],
   "source": [
    "df[\"rot_speed\"].plot.hist(title=\"Rotational Speed (RPM)\",bins=100)"
   ]
  },
  {
   "cell_type": "markdown",
   "metadata": {},
   "source": [
    "## Torque"
   ]
  },
  {
   "cell_type": "code",
   "execution_count": 156,
   "metadata": {},
   "outputs": [
    {
     "data": {
      "text/plain": [
       "<AxesSubplot:title={'center':'Torque (Nm)'}, ylabel='Frequency'>"
      ]
     },
     "execution_count": 156,
     "metadata": {},
     "output_type": "execute_result"
    },
    {
     "data": {
      "image/png": "[encoded data removed]",
      "text/plain": [
       "<Figure size 432x288 with 1 Axes>"
      ]
     },
     "metadata": {
      "needs_background": "light"
     },
     "output_type": "display_data"
    }
   ],
   "source": [
    "df[\"torque\"].plot.hist(title=\"Torque (Nm)\",bins=100)"
   ]
  },
  {
   "cell_type": "markdown",
   "metadata": {},
   "source": [
    "## Tool wear"
   ]
  },
  {
   "cell_type": "code",
   "execution_count": 157,
   "metadata": {},
   "outputs": [
    {
     "data": {
      "text/plain": [
       "<AxesSubplot:title={'center':'Tool Wear (mins)'}, ylabel='Frequency'>"
      ]
     },
     "execution_count": 157,
     "metadata": {},
     "output_type": "execute_result"
    },
    {
     "data": {
      "image/png": "[encoded data removed]",
      "text/plain": [
       "<Figure size 432x288 with 1 Axes>"
      ]
     },
     "metadata": {
      "needs_background": "light"
     },
     "output_type": "display_data"
    }
   ],
   "source": [
    "df[\"tool_wear\"].plot.hist(title=\"Tool Wear (mins)\",bins=100)"
   ]
  },
  {
   "cell_type": "markdown",
   "metadata": {},
   "source": [
    "# Target"
   ]
  },
  {
   "cell_type": "code",
   "execution_count": 158,
   "metadata": {},
   "outputs": [
    {
     "data": {
      "text/plain": [
       "<AxesSubplot:ylabel='target'>"
      ]
     },
     "execution_count": 158,
     "metadata": {},
     "output_type": "execute_result"
    },
    {
     "data": {
      "image/png": "[encoded data removed]",
      "text/plain": [
       "<Figure size 720x576 with 1 Axes>"
      ]
     },
     "metadata": {},
     "output_type": "display_data"
    }
   ],
   "source": [
    "df.groupby([\"target\"])[[\"target\"]].count().plot.pie(y=\"target\",table=True,figsize=(10,8))"
   ]
  },
  {
   "cell_type": "markdown",
   "metadata": {},
   "source": [
    "## Data description"
   ]
  },
  {
   "cell_type": "code",
   "execution_count": 159,
   "metadata": {},
   "outputs": [
    {
     "data": {
      "text/html": [
       "<div>\n",
       "<style scoped>\n",
       "    .dataframe tbody tr th:only-of-type {\n",
       "        vertical-align: middle;\n",
       "    }\n",
       "\n",
       "    .dataframe tbody tr th {\n",
       "        vertical-align: top;\n",
       "    }\n",
       "\n",
       "    .dataframe thead th {\n",
       "        text-align: right;\n",
       "    }\n",
       "</style>\n",
       "<table border=\"1\" class=\"dataframe\">\n",
       "  <thead>\n",
       "    <tr style=\"text-align: right;\">\n",
       "      <th></th>\n",
       "      <th>air_temperature</th>\n",
       "      <th>process_temperature</th>\n",
       "      <th>rot_speed</th>\n",
       "      <th>torque</th>\n",
       "      <th>tool_wear</th>\n",
       "      <th>target</th>\n",
       "    </tr>\n",
       "  </thead>\n",
       "  <tbody>\n",
       "    <tr>\n",
       "      <th>count</th>\n",
       "      <td>749.000000</td>\n",
       "      <td>749.000000</td>\n",
       "      <td>749.000000</td>\n",
       "      <td>749.000000</td>\n",
       "      <td>749.000000</td>\n",
       "      <td>749.000000</td>\n",
       "    </tr>\n",
       "    <tr>\n",
       "      <th>mean</th>\n",
       "      <td>299.731642</td>\n",
       "      <td>309.849800</td>\n",
       "      <td>1519.867824</td>\n",
       "      <td>44.367156</td>\n",
       "      <td>124.379172</td>\n",
       "      <td>0.440587</td>\n",
       "    </tr>\n",
       "    <tr>\n",
       "      <th>std</th>\n",
       "      <td>1.783683</td>\n",
       "      <td>1.162213</td>\n",
       "      <td>288.848678</td>\n",
       "      <td>14.137177</td>\n",
       "      <td>70.430365</td>\n",
       "      <td>0.496789</td>\n",
       "    </tr>\n",
       "    <tr>\n",
       "      <th>min</th>\n",
       "      <td>295.600000</td>\n",
       "      <td>306.100000</td>\n",
       "      <td>1181.000000</td>\n",
       "      <td>3.800000</td>\n",
       "      <td>0.000000</td>\n",
       "      <td>0.000000</td>\n",
       "    </tr>\n",
       "    <tr>\n",
       "      <th>25%</th>\n",
       "      <td>298.600000</td>\n",
       "      <td>309.200000</td>\n",
       "      <td>1361.000000</td>\n",
       "      <td>35.000000</td>\n",
       "      <td>64.000000</td>\n",
       "      <td>0.000000</td>\n",
       "    </tr>\n",
       "    <tr>\n",
       "      <th>50%</th>\n",
       "      <td>298.900000</td>\n",
       "      <td>309.900000</td>\n",
       "      <td>1433.000000</td>\n",
       "      <td>45.500000</td>\n",
       "      <td>127.000000</td>\n",
       "      <td>0.000000</td>\n",
       "    </tr>\n",
       "    <tr>\n",
       "      <th>75%</th>\n",
       "      <td>301.000000</td>\n",
       "      <td>310.400000</td>\n",
       "      <td>1575.000000</td>\n",
       "      <td>54.500000</td>\n",
       "      <td>190.000000</td>\n",
       "      <td>1.000000</td>\n",
       "    </tr>\n",
       "    <tr>\n",
       "      <th>max</th>\n",
       "      <td>304.400000</td>\n",
       "      <td>313.700000</td>\n",
       "      <td>2886.000000</td>\n",
       "      <td>76.600000</td>\n",
       "      <td>253.000000</td>\n",
       "      <td>1.000000</td>\n",
       "    </tr>\n",
       "  </tbody>\n",
       "</table>\n",
       "</div>"
      ],
      "text/plain": [
       "       air_temperature  process_temperature    rot_speed      torque  \\\n",
       "count       749.000000           749.000000   749.000000  749.000000   \n",
       "mean        299.731642           309.849800  1519.867824   44.367156   \n",
       "std           1.783683             1.162213   288.848678   14.137177   \n",
       "min         295.600000           306.100000  1181.000000    3.800000   \n",
       "25%         298.600000           309.200000  1361.000000   35.000000   \n",
       "50%         298.900000           309.900000  1433.000000   45.500000   \n",
       "75%         301.000000           310.400000  1575.000000   54.500000   \n",
       "max         304.400000           313.700000  2886.000000   76.600000   \n",
       "\n",
       "        tool_wear      target  \n",
       "count  749.000000  749.000000  \n",
       "mean   124.379172    0.440587  \n",
       "std     70.430365    0.496789  \n",
       "min      0.000000    0.000000  \n",
       "25%     64.000000    0.000000  \n",
       "50%    127.000000    0.000000  \n",
       "75%    190.000000    1.000000  \n",
       "max    253.000000    1.000000  "
      ]
     },
     "execution_count": 159,
     "metadata": {},
     "output_type": "execute_result"
    }
   ],
   "source": [
    "df.describe()"
   ]
  },
  {
   "cell_type": "markdown",
   "metadata": {},
   "source": [
    "# Data splitting"
   ]
  },
  {
   "cell_type": "code",
   "execution_count": 160,
   "metadata": {},
   "outputs": [],
   "source": [
    "#split according to random state = 1\n",
    "df_trainval, df_test = train_test_split(df, test_size=0.2, random_state=1) #split train+val [80%], test [20%]\n",
    "df_train, df_val = train_test_split(df_trainval, test_size=0.25, random_state=1,  stratify=df_trainval[\"fail_type\"].values) #split train[60%] val [20%]\n",
    "\n",
    "#reset, drop index\n",
    "df_train = df_train.reset_index(drop=True)\n",
    "df_test = df_test.reset_index(drop=True)\n",
    "df_val = df_val.reset_index(drop=True)\n",
    "\n",
    "y_test = df_test[\"fail_type\"].values\n",
    "y_train = df_train[\"fail_type\"].values\n",
    "y_val = df_val[\"fail_type\"].values\n",
    "\n",
    "del df_test[\"fail_type\"]\n",
    "del df_train[\"fail_type\"]\n",
    "del df_val[\"fail_type\"]\n",
    "\n",
    "\n",
    "del df_test[\"target\"]\n",
    "del df_train[\"target\"]\n",
    "del df_val[\"target\"]"
   ]
  },
  {
   "cell_type": "markdown",
   "metadata": {},
   "source": [
    "Check splitting efficiency:"
   ]
  },
  {
   "cell_type": "code",
   "execution_count": 161,
   "metadata": {},
   "outputs": [
    {
     "name": "stdout",
     "output_type": "stream",
     "text": [
      "After splitting\n"
     ]
    },
    {
     "data": {
      "text/html": [
       "<div>\n",
       "<style scoped>\n",
       "    .dataframe tbody tr th:only-of-type {\n",
       "        vertical-align: middle;\n",
       "    }\n",
       "\n",
       "    .dataframe tbody tr th {\n",
       "        vertical-align: top;\n",
       "    }\n",
       "\n",
       "    .dataframe thead th {\n",
       "        text-align: right;\n",
       "    }\n",
       "</style>\n",
       "<table border=\"1\" class=\"dataframe\">\n",
       "  <thead>\n",
       "    <tr style=\"text-align: right;\">\n",
       "      <th></th>\n",
       "      <th>Name</th>\n",
       "      <th>Count</th>\n",
       "      <th>Percentage</th>\n",
       "      <th>fail_type</th>\n",
       "    </tr>\n",
       "  </thead>\n",
       "  <tbody>\n",
       "    <tr>\n",
       "      <th>0</th>\n",
       "      <td>Training</td>\n",
       "      <td>449</td>\n",
       "      <td>59.946595</td>\n",
       "      <td>6</td>\n",
       "    </tr>\n",
       "    <tr>\n",
       "      <th>1</th>\n",
       "      <td>Validation</td>\n",
       "      <td>150</td>\n",
       "      <td>20.026702</td>\n",
       "      <td>6</td>\n",
       "    </tr>\n",
       "    <tr>\n",
       "      <th>2</th>\n",
       "      <td>Test</td>\n",
       "      <td>150</td>\n",
       "      <td>20.026702</td>\n",
       "      <td>6</td>\n",
       "    </tr>\n",
       "  </tbody>\n",
       "</table>\n",
       "</div>"
      ],
      "text/plain": [
       "         Name  Count  Percentage  fail_type\n",
       "0    Training    449   59.946595          6\n",
       "1  Validation    150   20.026702          6\n",
       "2        Test    150   20.026702          6"
      ]
     },
     "execution_count": 161,
     "metadata": {},
     "output_type": "execute_result"
    }
   ],
   "source": [
    "print(\"After splitting\")\n",
    "dfdesc = pd.DataFrame({ 'Name':[\"Training\",\"Validation\",\"Test\"], 'Count': [len(df_train), len(df_val), len(df_test)]})\n",
    "dfdesc[\"Percentage\"] = dfdesc[\"Count\"] *100 / len(df)\n",
    "dfdesc[\"fail_type\"] = [len(np.unique(y_train)),len(np.unique(y_val)),len(np.unique(y_test))]\n",
    "#dfdesc[\"fail_type_heat\"] = [sum(y_train=='Heat Dissipation Failure'),sum(y_val=='Heat Dissipation Failure'),sum(y_test=='Heat Dissipation Failure')]\n",
    "dfdesc"
   ]
  },
  {
   "cell_type": "code",
   "execution_count": 162,
   "metadata": {},
   "outputs": [
    {
     "data": {
      "text/html": [
       "<div>\n",
       "<style scoped>\n",
       "    .dataframe tbody tr th:only-of-type {\n",
       "        vertical-align: middle;\n",
       "    }\n",
       "\n",
       "    .dataframe tbody tr th {\n",
       "        vertical-align: top;\n",
       "    }\n",
       "\n",
       "    .dataframe thead th {\n",
       "        text-align: right;\n",
       "    }\n",
       "</style>\n",
       "<table border=\"1\" class=\"dataframe\">\n",
       "  <thead>\n",
       "    <tr style=\"text-align: right;\">\n",
       "      <th></th>\n",
       "      <th>air_temperature</th>\n",
       "      <th>process_temperature</th>\n",
       "      <th>rot_speed</th>\n",
       "      <th>torque</th>\n",
       "      <th>tool_wear</th>\n",
       "    </tr>\n",
       "  </thead>\n",
       "  <tbody>\n",
       "    <tr>\n",
       "      <th>count</th>\n",
       "      <td>449.000000</td>\n",
       "      <td>449.000000</td>\n",
       "      <td>449.000000</td>\n",
       "      <td>449.000000</td>\n",
       "      <td>449.000000</td>\n",
       "    </tr>\n",
       "    <tr>\n",
       "      <th>mean</th>\n",
       "      <td>299.782851</td>\n",
       "      <td>309.881514</td>\n",
       "      <td>1529.861915</td>\n",
       "      <td>43.944321</td>\n",
       "      <td>123.131403</td>\n",
       "    </tr>\n",
       "    <tr>\n",
       "      <th>std</th>\n",
       "      <td>1.818652</td>\n",
       "      <td>1.180077</td>\n",
       "      <td>296.587291</td>\n",
       "      <td>14.396838</td>\n",
       "      <td>71.076751</td>\n",
       "    </tr>\n",
       "    <tr>\n",
       "      <th>min</th>\n",
       "      <td>295.600000</td>\n",
       "      <td>306.100000</td>\n",
       "      <td>1212.000000</td>\n",
       "      <td>3.800000</td>\n",
       "      <td>0.000000</td>\n",
       "    </tr>\n",
       "    <tr>\n",
       "      <th>25%</th>\n",
       "      <td>298.600000</td>\n",
       "      <td>309.200000</td>\n",
       "      <td>1362.000000</td>\n",
       "      <td>34.500000</td>\n",
       "      <td>61.000000</td>\n",
       "    </tr>\n",
       "    <tr>\n",
       "      <th>50%</th>\n",
       "      <td>299.000000</td>\n",
       "      <td>310.000000</td>\n",
       "      <td>1437.000000</td>\n",
       "      <td>45.100000</td>\n",
       "      <td>126.000000</td>\n",
       "    </tr>\n",
       "    <tr>\n",
       "      <th>75%</th>\n",
       "      <td>301.400000</td>\n",
       "      <td>310.400000</td>\n",
       "      <td>1582.000000</td>\n",
       "      <td>54.500000</td>\n",
       "      <td>189.000000</td>\n",
       "    </tr>\n",
       "    <tr>\n",
       "      <th>max</th>\n",
       "      <td>303.900000</td>\n",
       "      <td>313.200000</td>\n",
       "      <td>2886.000000</td>\n",
       "      <td>76.200000</td>\n",
       "      <td>251.000000</td>\n",
       "    </tr>\n",
       "  </tbody>\n",
       "</table>\n",
       "</div>"
      ],
      "text/plain": [
       "       air_temperature  process_temperature    rot_speed      torque  \\\n",
       "count       449.000000           449.000000   449.000000  449.000000   \n",
       "mean        299.782851           309.881514  1529.861915   43.944321   \n",
       "std           1.818652             1.180077   296.587291   14.396838   \n",
       "min         295.600000           306.100000  1212.000000    3.800000   \n",
       "25%         298.600000           309.200000  1362.000000   34.500000   \n",
       "50%         299.000000           310.000000  1437.000000   45.100000   \n",
       "75%         301.400000           310.400000  1582.000000   54.500000   \n",
       "max         303.900000           313.200000  2886.000000   76.200000   \n",
       "\n",
       "        tool_wear  \n",
       "count  449.000000  \n",
       "mean   123.131403  \n",
       "std     71.076751  \n",
       "min      0.000000  \n",
       "25%     61.000000  \n",
       "50%    126.000000  \n",
       "75%    189.000000  \n",
       "max    251.000000  "
      ]
     },
     "execution_count": 162,
     "metadata": {},
     "output_type": "execute_result"
    }
   ],
   "source": [
    "df_train.describe()"
   ]
  },
  {
   "cell_type": "markdown",
   "metadata": {},
   "source": [
    "## Feature Analysis"
   ]
  },
  {
   "cell_type": "markdown",
   "metadata": {},
   "source": [
    "### Correlation between numerical features:"
   ]
  },
  {
   "cell_type": "code",
   "execution_count": 163,
   "metadata": {},
   "outputs": [
    {
     "data": {
      "text/html": [
       "<div>\n",
       "<style scoped>\n",
       "    .dataframe tbody tr th:only-of-type {\n",
       "        vertical-align: middle;\n",
       "    }\n",
       "\n",
       "    .dataframe tbody tr th {\n",
       "        vertical-align: top;\n",
       "    }\n",
       "\n",
       "    .dataframe thead th {\n",
       "        text-align: right;\n",
       "    }\n",
       "</style>\n",
       "<table border=\"1\" class=\"dataframe\">\n",
       "  <thead>\n",
       "    <tr style=\"text-align: right;\">\n",
       "      <th></th>\n",
       "      <th>air_temperature</th>\n",
       "      <th>process_temperature</th>\n",
       "      <th>rot_speed</th>\n",
       "      <th>torque</th>\n",
       "      <th>tool_wear</th>\n",
       "    </tr>\n",
       "  </thead>\n",
       "  <tbody>\n",
       "    <tr>\n",
       "      <th>air_temperature</th>\n",
       "      <td>1.000000</td>\n",
       "      <td>0.812156</td>\n",
       "      <td>-0.161508</td>\n",
       "      <td>0.257880</td>\n",
       "      <td>0.012901</td>\n",
       "    </tr>\n",
       "    <tr>\n",
       "      <th>process_temperature</th>\n",
       "      <td>0.812156</td>\n",
       "      <td>1.000000</td>\n",
       "      <td>-0.078160</td>\n",
       "      <td>0.137368</td>\n",
       "      <td>0.035647</td>\n",
       "    </tr>\n",
       "    <tr>\n",
       "      <th>rot_speed</th>\n",
       "      <td>-0.161508</td>\n",
       "      <td>-0.078160</td>\n",
       "      <td>1.000000</td>\n",
       "      <td>-0.838868</td>\n",
       "      <td>-0.119945</td>\n",
       "    </tr>\n",
       "    <tr>\n",
       "      <th>torque</th>\n",
       "      <td>0.257880</td>\n",
       "      <td>0.137368</td>\n",
       "      <td>-0.838868</td>\n",
       "      <td>1.000000</td>\n",
       "      <td>0.076726</td>\n",
       "    </tr>\n",
       "    <tr>\n",
       "      <th>tool_wear</th>\n",
       "      <td>0.012901</td>\n",
       "      <td>0.035647</td>\n",
       "      <td>-0.119945</td>\n",
       "      <td>0.076726</td>\n",
       "      <td>1.000000</td>\n",
       "    </tr>\n",
       "  </tbody>\n",
       "</table>\n",
       "</div>"
      ],
      "text/plain": [
       "                     air_temperature  process_temperature  rot_speed  \\\n",
       "air_temperature             1.000000             0.812156  -0.161508   \n",
       "process_temperature         0.812156             1.000000  -0.078160   \n",
       "rot_speed                  -0.161508            -0.078160   1.000000   \n",
       "torque                      0.257880             0.137368  -0.838868   \n",
       "tool_wear                   0.012901             0.035647  -0.119945   \n",
       "\n",
       "                       torque  tool_wear  \n",
       "air_temperature      0.257880   0.012901  \n",
       "process_temperature  0.137368   0.035647  \n",
       "rot_speed           -0.838868  -0.119945  \n",
       "torque               1.000000   0.076726  \n",
       "tool_wear            0.076726   1.000000  "
      ]
     },
     "execution_count": 163,
     "metadata": {},
     "output_type": "execute_result"
    }
   ],
   "source": [
    "df_train.corr()"
   ]
  },
  {
   "cell_type": "markdown",
   "metadata": {},
   "source": [
    "Torque & rot speed have a high correlation of 87%, they are kept for now\n",
    "\n",
    "Others are not correlated\n",
    "\n"
   ]
  },
  {
   "cell_type": "markdown",
   "metadata": {},
   "source": [
    "### Mutual Information implemented as correlation between binary features"
   ]
  },
  {
   "cell_type": "code",
   "execution_count": null,
   "metadata": {},
   "outputs": [],
   "source": []
  },
  {
   "cell_type": "code",
   "execution_count": 164,
   "metadata": {},
   "outputs": [
    {
     "name": "stderr",
     "output_type": "stream",
     "text": [
      "C:\\Users\\kay_t\\AppData\\Local\\Packages\\PythonSoftwareFoundation.Python.3.9_qbz5n2kfra8p0\\LocalCache\\local-packages\\Python39\\site-packages\\sklearn\\metrics\\cluster\\_supervised.py:65: UserWarning: Clustering metrics expects discrete values but received multiclass values for label, and continuous values for target\n",
      "  warnings.warn(msg, UserWarning)\n",
      "C:\\Users\\kay_t\\AppData\\Local\\Packages\\PythonSoftwareFoundation.Python.3.9_qbz5n2kfra8p0\\LocalCache\\local-packages\\Python39\\site-packages\\sklearn\\metrics\\cluster\\_supervised.py:65: UserWarning: Clustering metrics expects discrete values but received multiclass values for label, and continuous values for target\n",
      "  warnings.warn(msg, UserWarning)\n",
      "C:\\Users\\kay_t\\AppData\\Local\\Packages\\PythonSoftwareFoundation.Python.3.9_qbz5n2kfra8p0\\LocalCache\\local-packages\\Python39\\site-packages\\sklearn\\metrics\\cluster\\_supervised.py:65: UserWarning: Clustering metrics expects discrete values but received multiclass values for label, and continuous values for target\n",
      "  warnings.warn(msg, UserWarning)\n",
      "C:\\Users\\kay_t\\AppData\\Local\\Packages\\PythonSoftwareFoundation.Python.3.9_qbz5n2kfra8p0\\LocalCache\\local-packages\\Python39\\site-packages\\sklearn\\metrics\\cluster\\_supervised.py:65: UserWarning: Clustering metrics expects discrete values but received multiclass values for label, and continuous values for target\n",
      "  warnings.warn(msg, UserWarning)\n",
      "C:\\Users\\kay_t\\AppData\\Local\\Packages\\PythonSoftwareFoundation.Python.3.9_qbz5n2kfra8p0\\LocalCache\\local-packages\\Python39\\site-packages\\sklearn\\metrics\\cluster\\_supervised.py:65: UserWarning: Clustering metrics expects discrete values but received multiclass values for label, and continuous values for target\n",
      "  warnings.warn(msg, UserWarning)\n",
      "C:\\Users\\kay_t\\AppData\\Local\\Packages\\PythonSoftwareFoundation.Python.3.9_qbz5n2kfra8p0\\LocalCache\\local-packages\\Python39\\site-packages\\sklearn\\metrics\\cluster\\_supervised.py:65: UserWarning: Clustering metrics expects discrete values but received multiclass values for label, and continuous values for target\n",
      "  warnings.warn(msg, UserWarning)\n",
      "C:\\Users\\kay_t\\AppData\\Local\\Packages\\PythonSoftwareFoundation.Python.3.9_qbz5n2kfra8p0\\LocalCache\\local-packages\\Python39\\site-packages\\sklearn\\metrics\\cluster\\_supervised.py:65: UserWarning: Clustering metrics expects discrete values but received continuous values for label, and multiclass values for target\n",
      "  warnings.warn(msg, UserWarning)\n",
      "C:\\Users\\kay_t\\AppData\\Local\\Packages\\PythonSoftwareFoundation.Python.3.9_qbz5n2kfra8p0\\LocalCache\\local-packages\\Python39\\site-packages\\sklearn\\metrics\\cluster\\_supervised.py:65: UserWarning: Clustering metrics expects discrete values but received continuous values for label, and multiclass values for target\n",
      "  warnings.warn(msg, UserWarning)\n",
      "C:\\Users\\kay_t\\AppData\\Local\\Packages\\PythonSoftwareFoundation.Python.3.9_qbz5n2kfra8p0\\LocalCache\\local-packages\\Python39\\site-packages\\sklearn\\metrics\\cluster\\_supervised.py:65: UserWarning: Clustering metrics expects discrete values but received continuous values for label, and continuous values for target\n",
      "  warnings.warn(msg, UserWarning)\n",
      "C:\\Users\\kay_t\\AppData\\Local\\Packages\\PythonSoftwareFoundation.Python.3.9_qbz5n2kfra8p0\\LocalCache\\local-packages\\Python39\\site-packages\\sklearn\\metrics\\cluster\\_supervised.py:65: UserWarning: Clustering metrics expects discrete values but received continuous values for label, and continuous values for target\n",
      "  warnings.warn(msg, UserWarning)\n",
      "C:\\Users\\kay_t\\AppData\\Local\\Packages\\PythonSoftwareFoundation.Python.3.9_qbz5n2kfra8p0\\LocalCache\\local-packages\\Python39\\site-packages\\sklearn\\metrics\\cluster\\_supervised.py:65: UserWarning: Clustering metrics expects discrete values but received continuous values for label, and multiclass values for target\n",
      "  warnings.warn(msg, UserWarning)\n",
      "C:\\Users\\kay_t\\AppData\\Local\\Packages\\PythonSoftwareFoundation.Python.3.9_qbz5n2kfra8p0\\LocalCache\\local-packages\\Python39\\site-packages\\sklearn\\metrics\\cluster\\_supervised.py:65: UserWarning: Clustering metrics expects discrete values but received continuous values for label, and continuous values for target\n",
      "  warnings.warn(msg, UserWarning)\n",
      "C:\\Users\\kay_t\\AppData\\Local\\Packages\\PythonSoftwareFoundation.Python.3.9_qbz5n2kfra8p0\\LocalCache\\local-packages\\Python39\\site-packages\\sklearn\\metrics\\cluster\\_supervised.py:65: UserWarning: Clustering metrics expects discrete values but received continuous values for label, and multiclass values for target\n",
      "  warnings.warn(msg, UserWarning)\n",
      "C:\\Users\\kay_t\\AppData\\Local\\Packages\\PythonSoftwareFoundation.Python.3.9_qbz5n2kfra8p0\\LocalCache\\local-packages\\Python39\\site-packages\\sklearn\\metrics\\cluster\\_supervised.py:65: UserWarning: Clustering metrics expects discrete values but received continuous values for label, and multiclass values for target\n",
      "  warnings.warn(msg, UserWarning)\n",
      "C:\\Users\\kay_t\\AppData\\Local\\Packages\\PythonSoftwareFoundation.Python.3.9_qbz5n2kfra8p0\\LocalCache\\local-packages\\Python39\\site-packages\\sklearn\\metrics\\cluster\\_supervised.py:65: UserWarning: Clustering metrics expects discrete values but received continuous values for label, and multiclass values for target\n",
      "  warnings.warn(msg, UserWarning)\n",
      "C:\\Users\\kay_t\\AppData\\Local\\Packages\\PythonSoftwareFoundation.Python.3.9_qbz5n2kfra8p0\\LocalCache\\local-packages\\Python39\\site-packages\\sklearn\\metrics\\cluster\\_supervised.py:65: UserWarning: Clustering metrics expects discrete values but received continuous values for label, and continuous values for target\n",
      "  warnings.warn(msg, UserWarning)\n",
      "C:\\Users\\kay_t\\AppData\\Local\\Packages\\PythonSoftwareFoundation.Python.3.9_qbz5n2kfra8p0\\LocalCache\\local-packages\\Python39\\site-packages\\sklearn\\metrics\\cluster\\_supervised.py:65: UserWarning: Clustering metrics expects discrete values but received continuous values for label, and continuous values for target\n",
      "  warnings.warn(msg, UserWarning)\n",
      "C:\\Users\\kay_t\\AppData\\Local\\Packages\\PythonSoftwareFoundation.Python.3.9_qbz5n2kfra8p0\\LocalCache\\local-packages\\Python39\\site-packages\\sklearn\\metrics\\cluster\\_supervised.py:65: UserWarning: Clustering metrics expects discrete values but received continuous values for label, and multiclass values for target\n",
      "  warnings.warn(msg, UserWarning)\n",
      "C:\\Users\\kay_t\\AppData\\Local\\Packages\\PythonSoftwareFoundation.Python.3.9_qbz5n2kfra8p0\\LocalCache\\local-packages\\Python39\\site-packages\\sklearn\\metrics\\cluster\\_supervised.py:65: UserWarning: Clustering metrics expects discrete values but received continuous values for label, and continuous values for target\n",
      "  warnings.warn(msg, UserWarning)\n",
      "C:\\Users\\kay_t\\AppData\\Local\\Packages\\PythonSoftwareFoundation.Python.3.9_qbz5n2kfra8p0\\LocalCache\\local-packages\\Python39\\site-packages\\sklearn\\metrics\\cluster\\_supervised.py:65: UserWarning: Clustering metrics expects discrete values but received continuous values for label, and multiclass values for target\n",
      "  warnings.warn(msg, UserWarning)\n",
      "C:\\Users\\kay_t\\AppData\\Local\\Packages\\PythonSoftwareFoundation.Python.3.9_qbz5n2kfra8p0\\LocalCache\\local-packages\\Python39\\site-packages\\sklearn\\metrics\\cluster\\_supervised.py:65: UserWarning: Clustering metrics expects discrete values but received multiclass values for label, and continuous values for target\n",
      "  warnings.warn(msg, UserWarning)\n",
      "C:\\Users\\kay_t\\AppData\\Local\\Packages\\PythonSoftwareFoundation.Python.3.9_qbz5n2kfra8p0\\LocalCache\\local-packages\\Python39\\site-packages\\sklearn\\metrics\\cluster\\_supervised.py:65: UserWarning: Clustering metrics expects discrete values but received multiclass values for label, and continuous values for target\n",
      "  warnings.warn(msg, UserWarning)\n",
      "C:\\Users\\kay_t\\AppData\\Local\\Packages\\PythonSoftwareFoundation.Python.3.9_qbz5n2kfra8p0\\LocalCache\\local-packages\\Python39\\site-packages\\sklearn\\metrics\\cluster\\_supervised.py:65: UserWarning: Clustering metrics expects discrete values but received multiclass values for label, and continuous values for target\n",
      "  warnings.warn(msg, UserWarning)\n",
      "C:\\Users\\kay_t\\AppData\\Local\\Packages\\PythonSoftwareFoundation.Python.3.9_qbz5n2kfra8p0\\LocalCache\\local-packages\\Python39\\site-packages\\sklearn\\metrics\\cluster\\_supervised.py:65: UserWarning: Clustering metrics expects discrete values but received continuous values for label, and multiclass values for target\n",
      "  warnings.warn(msg, UserWarning)\n",
      "C:\\Users\\kay_t\\AppData\\Local\\Packages\\PythonSoftwareFoundation.Python.3.9_qbz5n2kfra8p0\\LocalCache\\local-packages\\Python39\\site-packages\\sklearn\\metrics\\cluster\\_supervised.py:65: UserWarning: Clustering metrics expects discrete values but received continuous values for label, and multiclass values for target\n",
      "  warnings.warn(msg, UserWarning)\n",
      "C:\\Users\\kay_t\\AppData\\Local\\Packages\\PythonSoftwareFoundation.Python.3.9_qbz5n2kfra8p0\\LocalCache\\local-packages\\Python39\\site-packages\\sklearn\\metrics\\cluster\\_supervised.py:65: UserWarning: Clustering metrics expects discrete values but received continuous values for label, and continuous values for target\n",
      "  warnings.warn(msg, UserWarning)\n",
      "C:\\Users\\kay_t\\AppData\\Local\\Packages\\PythonSoftwareFoundation.Python.3.9_qbz5n2kfra8p0\\LocalCache\\local-packages\\Python39\\site-packages\\sklearn\\metrics\\cluster\\_supervised.py:65: UserWarning: Clustering metrics expects discrete values but received continuous values for label, and continuous values for target\n",
      "  warnings.warn(msg, UserWarning)\n",
      "C:\\Users\\kay_t\\AppData\\Local\\Packages\\PythonSoftwareFoundation.Python.3.9_qbz5n2kfra8p0\\LocalCache\\local-packages\\Python39\\site-packages\\sklearn\\metrics\\cluster\\_supervised.py:65: UserWarning: Clustering metrics expects discrete values but received continuous values for label, and multiclass values for target\n",
      "  warnings.warn(msg, UserWarning)\n",
      "C:\\Users\\kay_t\\AppData\\Local\\Packages\\PythonSoftwareFoundation.Python.3.9_qbz5n2kfra8p0\\LocalCache\\local-packages\\Python39\\site-packages\\sklearn\\metrics\\cluster\\_supervised.py:65: UserWarning: Clustering metrics expects discrete values but received continuous values for label, and continuous values for target\n",
      "  warnings.warn(msg, UserWarning)\n",
      "C:\\Users\\kay_t\\AppData\\Local\\Packages\\PythonSoftwareFoundation.Python.3.9_qbz5n2kfra8p0\\LocalCache\\local-packages\\Python39\\site-packages\\sklearn\\metrics\\cluster\\_supervised.py:65: UserWarning: Clustering metrics expects discrete values but received continuous values for label, and multiclass values for target\n",
      "  warnings.warn(msg, UserWarning)\n",
      "C:\\Users\\kay_t\\AppData\\Local\\Packages\\PythonSoftwareFoundation.Python.3.9_qbz5n2kfra8p0\\LocalCache\\local-packages\\Python39\\site-packages\\sklearn\\metrics\\cluster\\_supervised.py:65: UserWarning: Clustering metrics expects discrete values but received multiclass values for label, and continuous values for target\n",
      "  warnings.warn(msg, UserWarning)\n",
      "C:\\Users\\kay_t\\AppData\\Local\\Packages\\PythonSoftwareFoundation.Python.3.9_qbz5n2kfra8p0\\LocalCache\\local-packages\\Python39\\site-packages\\sklearn\\metrics\\cluster\\_supervised.py:65: UserWarning: Clustering metrics expects discrete values but received multiclass values for label, and continuous values for target\n",
      "  warnings.warn(msg, UserWarning)\n",
      "C:\\Users\\kay_t\\AppData\\Local\\Packages\\PythonSoftwareFoundation.Python.3.9_qbz5n2kfra8p0\\LocalCache\\local-packages\\Python39\\site-packages\\sklearn\\metrics\\cluster\\_supervised.py:65: UserWarning: Clustering metrics expects discrete values but received multiclass values for label, and continuous values for target\n",
      "  warnings.warn(msg, UserWarning)\n"
     ]
    },
    {
     "data": {
      "text/html": [
       "<div>\n",
       "<style scoped>\n",
       "    .dataframe tbody tr th:only-of-type {\n",
       "        vertical-align: middle;\n",
       "    }\n",
       "\n",
       "    .dataframe tbody tr th {\n",
       "        vertical-align: top;\n",
       "    }\n",
       "\n",
       "    .dataframe thead th {\n",
       "        text-align: right;\n",
       "    }\n",
       "</style>\n",
       "<table border=\"1\" class=\"dataframe\">\n",
       "  <thead>\n",
       "    <tr style=\"text-align: right;\">\n",
       "      <th></th>\n",
       "      <th>product_id</th>\n",
       "      <th>type</th>\n",
       "      <th>air_temperature</th>\n",
       "      <th>process_temperature</th>\n",
       "      <th>rot_speed</th>\n",
       "      <th>torque</th>\n",
       "      <th>tool_wear</th>\n",
       "    </tr>\n",
       "  </thead>\n",
       "  <tbody>\n",
       "    <tr>\n",
       "      <th>product_id</th>\n",
       "      <td>6.107023</td>\n",
       "      <td>0.875744</td>\n",
       "      <td>3.654856</td>\n",
       "      <td>3.700502</td>\n",
       "      <td>5.540741</td>\n",
       "      <td>5.621948</td>\n",
       "      <td>5.165831</td>\n",
       "    </tr>\n",
       "    <tr>\n",
       "      <th>type</th>\n",
       "      <td>0.875744</td>\n",
       "      <td>0.875744</td>\n",
       "      <td>0.166035</td>\n",
       "      <td>0.135065</td>\n",
       "      <td>0.610585</td>\n",
       "      <td>0.615709</td>\n",
       "      <td>0.441997</td>\n",
       "    </tr>\n",
       "    <tr>\n",
       "      <th>air_temperature</th>\n",
       "      <td>3.654856</td>\n",
       "      <td>0.166035</td>\n",
       "      <td>3.654856</td>\n",
       "      <td>2.082892</td>\n",
       "      <td>3.116361</td>\n",
       "      <td>3.197568</td>\n",
       "      <td>2.756889</td>\n",
       "    </tr>\n",
       "    <tr>\n",
       "      <th>process_temperature</th>\n",
       "      <td>3.700502</td>\n",
       "      <td>0.135065</td>\n",
       "      <td>2.082892</td>\n",
       "      <td>3.700502</td>\n",
       "      <td>3.168183</td>\n",
       "      <td>3.230865</td>\n",
       "      <td>2.777836</td>\n",
       "    </tr>\n",
       "    <tr>\n",
       "      <th>rot_speed</th>\n",
       "      <td>5.540741</td>\n",
       "      <td>0.610585</td>\n",
       "      <td>3.116361</td>\n",
       "      <td>3.168183</td>\n",
       "      <td>5.540741</td>\n",
       "      <td>5.055666</td>\n",
       "      <td>4.599549</td>\n",
       "    </tr>\n",
       "    <tr>\n",
       "      <th>torque</th>\n",
       "      <td>5.621948</td>\n",
       "      <td>0.615709</td>\n",
       "      <td>3.197568</td>\n",
       "      <td>3.230865</td>\n",
       "      <td>5.055666</td>\n",
       "      <td>5.621948</td>\n",
       "      <td>4.683843</td>\n",
       "    </tr>\n",
       "    <tr>\n",
       "      <th>tool_wear</th>\n",
       "      <td>5.165831</td>\n",
       "      <td>0.441997</td>\n",
       "      <td>2.756889</td>\n",
       "      <td>2.777836</td>\n",
       "      <td>4.599549</td>\n",
       "      <td>4.683843</td>\n",
       "      <td>5.165831</td>\n",
       "    </tr>\n",
       "  </tbody>\n",
       "</table>\n",
       "</div>"
      ],
      "text/plain": [
       "                     product_id      type  air_temperature  \\\n",
       "product_id             6.107023  0.875744         3.654856   \n",
       "type                   0.875744  0.875744         0.166035   \n",
       "air_temperature        3.654856  0.166035         3.654856   \n",
       "process_temperature    3.700502  0.135065         2.082892   \n",
       "rot_speed              5.540741  0.610585         3.116361   \n",
       "torque                 5.621948  0.615709         3.197568   \n",
       "tool_wear              5.165831  0.441997         2.756889   \n",
       "\n",
       "                     process_temperature  rot_speed    torque  tool_wear  \n",
       "product_id                      3.700502   5.540741  5.621948   5.165831  \n",
       "type                            0.135065   0.610585  0.615709   0.441997  \n",
       "air_temperature                 2.082892   3.116361  3.197568   2.756889  \n",
       "process_temperature             3.700502   3.168183  3.230865   2.777836  \n",
       "rot_speed                       3.168183   5.540741  5.055666   4.599549  \n",
       "torque                          3.230865   5.055666  5.621948   4.683843  \n",
       "tool_wear                       2.777836   4.599549  4.683843   5.165831  "
      ]
     },
     "execution_count": 164,
     "metadata": {},
     "output_type": "execute_result"
    }
   ],
   "source": [
    "from sklearn.metrics import mutual_info_score\n",
    "\n",
    "w = list()\n",
    "for cati in df_train.columns:\n",
    "    v = list()\n",
    "    for catj in df_train.columns:\n",
    "        v.append(mutual_info_score(df_train[cati],df_train[catj]))\n",
    "    w.append(v)\n",
    "pd.DataFrame(w,index=df_train.columns,columns=df_train.columns)\n",
    "\n"
   ]
  },
  {
   "cell_type": "markdown",
   "metadata": {},
   "source": [
    "# Feature importance"
   ]
  },
  {
   "cell_type": "code",
   "execution_count": 165,
   "metadata": {},
   "outputs": [
    {
     "name": "stderr",
     "output_type": "stream",
     "text": [
      "C:\\Users\\kay_t\\AppData\\Local\\Packages\\PythonSoftwareFoundation.Python.3.9_qbz5n2kfra8p0\\LocalCache\\local-packages\\Python39\\site-packages\\sklearn\\metrics\\cluster\\_supervised.py:65: UserWarning: Clustering metrics expects discrete values but received continuous values for label, and multiclass values for target\n",
      "  warnings.warn(msg, UserWarning)\n",
      "C:\\Users\\kay_t\\AppData\\Local\\Packages\\PythonSoftwareFoundation.Python.3.9_qbz5n2kfra8p0\\LocalCache\\local-packages\\Python39\\site-packages\\sklearn\\metrics\\cluster\\_supervised.py:65: UserWarning: Clustering metrics expects discrete values but received continuous values for label, and multiclass values for target\n",
      "  warnings.warn(msg, UserWarning)\n",
      "C:\\Users\\kay_t\\AppData\\Local\\Packages\\PythonSoftwareFoundation.Python.3.9_qbz5n2kfra8p0\\LocalCache\\local-packages\\Python39\\site-packages\\sklearn\\metrics\\cluster\\_supervised.py:65: UserWarning: Clustering metrics expects discrete values but received continuous values for label, and multiclass values for target\n",
      "  warnings.warn(msg, UserWarning)\n"
     ]
    },
    {
     "data": {
      "text/html": [
       "<div>\n",
       "<style scoped>\n",
       "    .dataframe tbody tr th:only-of-type {\n",
       "        vertical-align: middle;\n",
       "    }\n",
       "\n",
       "    .dataframe tbody tr th {\n",
       "        vertical-align: top;\n",
       "    }\n",
       "\n",
       "    .dataframe thead th {\n",
       "        text-align: right;\n",
       "    }\n",
       "</style>\n",
       "<table border=\"1\" class=\"dataframe\">\n",
       "  <thead>\n",
       "    <tr style=\"text-align: right;\">\n",
       "      <th></th>\n",
       "      <th>fault</th>\n",
       "    </tr>\n",
       "  </thead>\n",
       "  <tbody>\n",
       "    <tr>\n",
       "      <th>air_temperature</th>\n",
       "      <td>0.869519</td>\n",
       "    </tr>\n",
       "    <tr>\n",
       "      <th>process_temperature</th>\n",
       "      <td>0.569143</td>\n",
       "    </tr>\n",
       "    <tr>\n",
       "      <th>rot_speed</th>\n",
       "      <td>1.079770</td>\n",
       "    </tr>\n",
       "    <tr>\n",
       "      <th>torque</th>\n",
       "      <td>1.151306</td>\n",
       "    </tr>\n",
       "    <tr>\n",
       "      <th>tool_wear</th>\n",
       "      <td>0.850034</td>\n",
       "    </tr>\n",
       "  </tbody>\n",
       "</table>\n",
       "</div>"
      ],
      "text/plain": [
       "                        fault\n",
       "air_temperature      0.869519\n",
       "process_temperature  0.569143\n",
       "rot_speed            1.079770\n",
       "torque               1.151306\n",
       "tool_wear            0.850034"
      ]
     },
     "execution_count": 165,
     "metadata": {},
     "output_type": "execute_result"
    },
    {
     "data": {
      "image/png": "[encoded data removed]",
      "text/plain": [
       "<Figure size 432x288 with 1 Axes>"
      ]
     },
     "metadata": {
      "needs_background": "light"
     },
     "output_type": "display_data"
    }
   ],
   "source": [
    "#num_columns\n",
    "\n",
    "v= list()\n",
    "for cati in ['air_temperature','process_temperature',\"rot_speed\",\"torque\",\"tool_wear\"]:\n",
    "   v.append(mutual_info_score(df_train[cati], y_train))\n",
    "cat_data_analy = pd.DataFrame(v,index= ['air_temperature','process_temperature',\"rot_speed\",\"torque\",\"tool_wear\"],columns = ['fault'])\n",
    "\n",
    "cat_data_analy.plot.bar()\n",
    "cat_data_analy\n"
   ]
  },
  {
   "cell_type": "markdown",
   "metadata": {},
   "source": [
    "speed & torque seem to be most imporant, followed by the temperature"
   ]
  },
  {
   "cell_type": "markdown",
   "metadata": {},
   "source": [
    "# Multi-class part!"
   ]
  },
  {
   "cell_type": "code",
   "execution_count": 364,
   "metadata": {},
   "outputs": [],
   "source": [
    "#libraries\n",
    "from sklearn.feature_extraction import DictVectorizer\n",
    "dv = DictVectorizer(sparse=False) #import encoder\n",
    "\n",
    "from sklearn.svm import LinearSVC\n",
    "from sklearn.preprocessing import RobustScaler\n",
    "from sklearn.pipeline import make_pipeline\n",
    "\n",
    "#auc\n",
    "from sklearn.metrics import roc_auc_score, roc_curve, f1_score\n",
    "\n",
    "from sklearn.tree import DecisionTreeClassifier\n",
    "from sklearn import tree\n",
    "from sklearn.ensemble import RandomForestClassifier\n",
    "from sklearn.ensemble import ExtraTreesClassifier\n",
    "\n",
    "from sklearn.neighbors import KNeighborsClassifier\n",
    "#from sklearn.neighbors import RadiusNeighborsClassifier\n",
    "\n",
    "from sklearn.naive_bayes import GaussianNB\n",
    "\n",
    "\n",
    "from sklearn.linear_model import RidgeClassifier\n",
    "\n",
    "\n",
    "from sklearn.metrics import confusion_matrix\n",
    "\n",
    "from sklearn.metrics import ConfusionMatrixDisplay\n"
   ]
  },
  {
   "cell_type": "code",
   "execution_count": 167,
   "metadata": {},
   "outputs": [],
   "source": [
    "# Serialize non-numerical data using DictVectorizer (aka One-Hot Encoding)\n",
    "train_dict = df_train.to_dict(orient='records') # get categorial variables from train db, sort them by x and put them into dictionary \n",
    "X_train = dv.fit_transform(train_dict) #one-hot encoding \n",
    "val_dict = df_val.to_dict(orient='records') #apply same \n",
    "X_val = dv.transform(val_dict)"
   ]
  },
  {
   "cell_type": "markdown",
   "metadata": {},
   "source": [
    "## Decision Tree"
   ]
  },
  {
   "cell_type": "code",
   "execution_count": 428,
   "metadata": {},
   "outputs": [
    {
     "data": {
      "text/plain": [
       "[86.0, 90.66666666666666, 86.0, 86.0, 85.33333333333334, 80.0]"
      ]
     },
     "execution_count": 428,
     "metadata": {},
     "output_type": "execute_result"
    },
    {
     "data": {
      "image/png": "[encoded data removed]",
      "text/plain": [
       "<Figure size 432x288 with 2 Axes>"
      ]
     },
     "metadata": {
      "needs_background": "light"
     },
     "output_type": "display_data"
    },
    {
     "data": {
      "image/png": "[encoded data removed]",
      "text/plain": [
       "<Figure size 432x288 with 2 Axes>"
      ]
     },
     "metadata": {
      "needs_background": "light"
     },
     "output_type": "display_data"
    },
    {
     "data": {
      "image/png": "[encoded data removed]",
      "text/plain": [
       "<Figure size 432x288 with 2 Axes>"
      ]
     },
     "metadata": {
      "needs_background": "light"
     },
     "output_type": "display_data"
    },
    {
     "data": {
      "image/png": "[encoded data removed]",
      "text/plain": [
       "<Figure size 432x288 with 2 Axes>"
      ]
     },
     "metadata": {
      "needs_background": "light"
     },
     "output_type": "display_data"
    },
    {
     "data": {
      "image/png": "[encoded data removed]",
      "text/plain": [
       "<Figure size 432x288 with 2 Axes>"
      ]
     },
     "metadata": {
      "needs_background": "light"
     },
     "output_type": "display_data"
    },
    {
     "data": {
      "image/png": "[encoded data removed]",
      "text/plain": [
       "<Figure size 432x288 with 2 Axes>"
      ]
     },
     "metadata": {
      "needs_background": "light"
     },
     "output_type": "display_data"
    }
   ],
   "source": [
    "v = list()\n",
    "\n",
    "for maxdep in [10,20,30,50,100,200]:\n",
    "    \n",
    "    dt = DecisionTreeClassifier(max_depth=maxdep,criterion='gini',splitter='random')\n",
    "    dt.fit(X_train,y_train)\n",
    "    v.append( sum(dt.predict(X_val) == y_val) / len(y_val)*100)\n",
    "    \n",
    "    d = ConfusionMatrixDisplay.from_estimator(dt, X_val, y_val)\n",
    "    d.ax_.set_title('Max depth: ' + str(maxdep))\n",
    "v"
   ]
  },
  {
   "cell_type": "markdown",
   "metadata": {},
   "source": [
    "max depth=20"
   ]
  },
  {
   "cell_type": "code",
   "execution_count": 429,
   "metadata": {},
   "outputs": [
    {
     "data": {
      "text/plain": [
       "[100.0, 92.0]"
      ]
     },
     "execution_count": 429,
     "metadata": {},
     "output_type": "execute_result"
    },
    {
     "data": {
      "image/png": "[encoded data removed]",
      "text/plain": [
       "<Figure size 432x288 with 2 Axes>"
      ]
     },
     "metadata": {
      "needs_background": "light"
     },
     "output_type": "display_data"
    }
   ],
   "source": [
    "dt = make_pipeline(RobustScaler(),\n",
    "                DecisionTreeClassifier(max_depth=20,criterion='gini',splitter='random'))\n",
    "#dt = \n",
    "dt.fit(X_train,y_train)\n",
    "v.append( sum(dt.predict(X_val) == y_val) / len(y_val)*100)\n",
    "\n",
    "d = ConfusionMatrixDisplay.from_estimator(dt, X_val, y_val)\n",
    "[sum(y_train==dt.predict(X_train))/len(y_train)*100,  sum(y_val==dt.predict(X_val))/len(y_val)*100]"
   ]
  },
  {
   "cell_type": "markdown",
   "metadata": {},
   "source": [
    "## Decision Forest"
   ]
  },
  {
   "cell_type": "code",
   "execution_count": 430,
   "metadata": {},
   "outputs": [
    {
     "data": {
      "text/html": [
       "<div>\n",
       "<style scoped>\n",
       "    .dataframe tbody tr th:only-of-type {\n",
       "        vertical-align: middle;\n",
       "    }\n",
       "\n",
       "    .dataframe tbody tr th {\n",
       "        vertical-align: top;\n",
       "    }\n",
       "\n",
       "    .dataframe thead th {\n",
       "        text-align: right;\n",
       "    }\n",
       "</style>\n",
       "<table border=\"1\" class=\"dataframe\">\n",
       "  <thead>\n",
       "    <tr style=\"text-align: right;\">\n",
       "      <th></th>\n",
       "      <th>nestim</th>\n",
       "      <th>maxdepth</th>\n",
       "      <th>class</th>\n",
       "      <th>val</th>\n",
       "    </tr>\n",
       "  </thead>\n",
       "  <tbody>\n",
       "    <tr>\n",
       "      <th>0</th>\n",
       "      <td>1.0</td>\n",
       "      <td>1.0</td>\n",
       "      <td>53.229399</td>\n",
       "      <td>52.666667</td>\n",
       "    </tr>\n",
       "    <tr>\n",
       "      <th>1</th>\n",
       "      <td>2.0</td>\n",
       "      <td>1.0</td>\n",
       "      <td>53.229399</td>\n",
       "      <td>52.666667</td>\n",
       "    </tr>\n",
       "    <tr>\n",
       "      <th>2</th>\n",
       "      <td>3.0</td>\n",
       "      <td>1.0</td>\n",
       "      <td>53.229399</td>\n",
       "      <td>52.666667</td>\n",
       "    </tr>\n",
       "    <tr>\n",
       "      <th>3</th>\n",
       "      <td>4.0</td>\n",
       "      <td>1.0</td>\n",
       "      <td>53.229399</td>\n",
       "      <td>52.666667</td>\n",
       "    </tr>\n",
       "    <tr>\n",
       "      <th>4</th>\n",
       "      <td>5.0</td>\n",
       "      <td>1.0</td>\n",
       "      <td>53.229399</td>\n",
       "      <td>52.666667</td>\n",
       "    </tr>\n",
       "    <tr>\n",
       "      <th>...</th>\n",
       "      <td>...</td>\n",
       "      <td>...</td>\n",
       "      <td>...</td>\n",
       "      <td>...</td>\n",
       "    </tr>\n",
       "    <tr>\n",
       "      <th>787</th>\n",
       "      <td>95.0</td>\n",
       "      <td>25.0</td>\n",
       "      <td>99.777283</td>\n",
       "      <td>91.333333</td>\n",
       "    </tr>\n",
       "    <tr>\n",
       "      <th>788</th>\n",
       "      <td>96.0</td>\n",
       "      <td>25.0</td>\n",
       "      <td>99.777283</td>\n",
       "      <td>90.666667</td>\n",
       "    </tr>\n",
       "    <tr>\n",
       "      <th>789</th>\n",
       "      <td>97.0</td>\n",
       "      <td>25.0</td>\n",
       "      <td>99.777283</td>\n",
       "      <td>90.666667</td>\n",
       "    </tr>\n",
       "    <tr>\n",
       "      <th>790</th>\n",
       "      <td>98.0</td>\n",
       "      <td>25.0</td>\n",
       "      <td>99.777283</td>\n",
       "      <td>90.666667</td>\n",
       "    </tr>\n",
       "    <tr>\n",
       "      <th>791</th>\n",
       "      <td>99.0</td>\n",
       "      <td>25.0</td>\n",
       "      <td>99.777283</td>\n",
       "      <td>90.666667</td>\n",
       "    </tr>\n",
       "  </tbody>\n",
       "</table>\n",
       "<p>792 rows × 4 columns</p>\n",
       "</div>"
      ],
      "text/plain": [
       "     nestim  maxdepth      class        val\n",
       "0       1.0       1.0  53.229399  52.666667\n",
       "1       2.0       1.0  53.229399  52.666667\n",
       "2       3.0       1.0  53.229399  52.666667\n",
       "3       4.0       1.0  53.229399  52.666667\n",
       "4       5.0       1.0  53.229399  52.666667\n",
       "..      ...       ...        ...        ...\n",
       "787    95.0      25.0  99.777283  91.333333\n",
       "788    96.0      25.0  99.777283  90.666667\n",
       "789    97.0      25.0  99.777283  90.666667\n",
       "790    98.0      25.0  99.777283  90.666667\n",
       "791    99.0      25.0  99.777283  90.666667\n",
       "\n",
       "[792 rows x 4 columns]"
      ]
     },
     "execution_count": 430,
     "metadata": {},
     "output_type": "execute_result"
    }
   ],
   "source": [
    "#df_rf = pd.DataFrame(columns=['nestim','maxdepth','class','val','auc','f1'])\n",
    "df_rf = pd.DataFrame(columns=['nestim','maxdepth','class','val'])\n",
    "for max_dep in [1, 5, 7, 9, 10, 15, 20, 25]:\n",
    "        for n_est in np.arange(1,100):\n",
    "                rf = RandomForestClassifier(n_estimators=n_est, max_depth=max_dep, n_jobs=-1, random_state=1)\n",
    "                rf.fit(X_train,y_train)\n",
    "                y_predict = rf.predict(X_val)\n",
    "\n",
    "                df_rf=df_rf.append(dict(zip(['nestim','maxdepth','class','val'], [n_est, max_dep ,sum(y_train==rf.predict(X_train))/len(y_train)*100,  sum(y_val==rf.predict(X_val))/len(y_val)*100])),ignore_index=True)\n",
    "df_rf                "
   ]
  },
  {
   "cell_type": "code",
   "execution_count": 431,
   "metadata": {},
   "outputs": [
    {
     "data": {
      "text/html": [
       "<div>\n",
       "<style scoped>\n",
       "    .dataframe tbody tr th:only-of-type {\n",
       "        vertical-align: middle;\n",
       "    }\n",
       "\n",
       "    .dataframe tbody tr th {\n",
       "        vertical-align: top;\n",
       "    }\n",
       "\n",
       "    .dataframe thead th {\n",
       "        text-align: right;\n",
       "    }\n",
       "</style>\n",
       "<table border=\"1\" class=\"dataframe\">\n",
       "  <thead>\n",
       "    <tr style=\"text-align: right;\">\n",
       "      <th></th>\n",
       "      <th>nestim</th>\n",
       "      <th>maxdepth</th>\n",
       "      <th>class</th>\n",
       "      <th>val</th>\n",
       "    </tr>\n",
       "  </thead>\n",
       "  <tbody>\n",
       "    <tr>\n",
       "      <th>753</th>\n",
       "      <td>61.0</td>\n",
       "      <td>25.0</td>\n",
       "      <td>99.777283</td>\n",
       "      <td>92.666667</td>\n",
       "    </tr>\n",
       "    <tr>\n",
       "      <th>751</th>\n",
       "      <td>59.0</td>\n",
       "      <td>25.0</td>\n",
       "      <td>99.777283</td>\n",
       "      <td>92.666667</td>\n",
       "    </tr>\n",
       "    <tr>\n",
       "      <th>754</th>\n",
       "      <td>62.0</td>\n",
       "      <td>25.0</td>\n",
       "      <td>99.777283</td>\n",
       "      <td>92.666667</td>\n",
       "    </tr>\n",
       "    <tr>\n",
       "      <th>752</th>\n",
       "      <td>60.0</td>\n",
       "      <td>25.0</td>\n",
       "      <td>99.777283</td>\n",
       "      <td>92.666667</td>\n",
       "    </tr>\n",
       "    <tr>\n",
       "      <th>738</th>\n",
       "      <td>46.0</td>\n",
       "      <td>25.0</td>\n",
       "      <td>99.777283</td>\n",
       "      <td>92.666667</td>\n",
       "    </tr>\n",
       "    <tr>\n",
       "      <th>...</th>\n",
       "      <td>...</td>\n",
       "      <td>...</td>\n",
       "      <td>...</td>\n",
       "      <td>...</td>\n",
       "    </tr>\n",
       "    <tr>\n",
       "      <th>70</th>\n",
       "      <td>71.0</td>\n",
       "      <td>1.0</td>\n",
       "      <td>53.006682</td>\n",
       "      <td>52.666667</td>\n",
       "    </tr>\n",
       "    <tr>\n",
       "      <th>71</th>\n",
       "      <td>72.0</td>\n",
       "      <td>1.0</td>\n",
       "      <td>53.006682</td>\n",
       "      <td>52.666667</td>\n",
       "    </tr>\n",
       "    <tr>\n",
       "      <th>72</th>\n",
       "      <td>73.0</td>\n",
       "      <td>1.0</td>\n",
       "      <td>53.006682</td>\n",
       "      <td>52.666667</td>\n",
       "    </tr>\n",
       "    <tr>\n",
       "      <th>73</th>\n",
       "      <td>74.0</td>\n",
       "      <td>1.0</td>\n",
       "      <td>53.006682</td>\n",
       "      <td>52.666667</td>\n",
       "    </tr>\n",
       "    <tr>\n",
       "      <th>0</th>\n",
       "      <td>1.0</td>\n",
       "      <td>1.0</td>\n",
       "      <td>53.229399</td>\n",
       "      <td>52.666667</td>\n",
       "    </tr>\n",
       "  </tbody>\n",
       "</table>\n",
       "<p>792 rows × 4 columns</p>\n",
       "</div>"
      ],
      "text/plain": [
       "     nestim  maxdepth      class        val\n",
       "753    61.0      25.0  99.777283  92.666667\n",
       "751    59.0      25.0  99.777283  92.666667\n",
       "754    62.0      25.0  99.777283  92.666667\n",
       "752    60.0      25.0  99.777283  92.666667\n",
       "738    46.0      25.0  99.777283  92.666667\n",
       "..      ...       ...        ...        ...\n",
       "70     71.0       1.0  53.006682  52.666667\n",
       "71     72.0       1.0  53.006682  52.666667\n",
       "72     73.0       1.0  53.006682  52.666667\n",
       "73     74.0       1.0  53.006682  52.666667\n",
       "0       1.0       1.0  53.229399  52.666667\n",
       "\n",
       "[792 rows x 4 columns]"
      ]
     },
     "execution_count": 431,
     "metadata": {},
     "output_type": "execute_result"
    }
   ],
   "source": [
    "df_rf.sort_values(by='val',ascending=False)"
   ]
  },
  {
   "cell_type": "markdown",
   "metadata": {},
   "source": [
    "Best DF classifier: nestim: 61.0\tmaxdep: 25.0\tclass:  99.083333 val:\t92.66"
   ]
  },
  {
   "cell_type": "code",
   "execution_count": 433,
   "metadata": {},
   "outputs": [
    {
     "data": {
      "text/plain": [
       "[100.0, 92.0]"
      ]
     },
     "execution_count": 433,
     "metadata": {},
     "output_type": "execute_result"
    },
    {
     "data": {
      "image/png": "[encoded data removed]",
      "text/plain": [
       "<Figure size 432x288 with 2 Axes>"
      ]
     },
     "metadata": {
      "needs_background": "light"
     },
     "output_type": "display_data"
    }
   ],
   "source": [
    "rf = RandomForestClassifier(n_estimators=59, max_depth=25, n_jobs=-1, random_state=1)\n",
    "rf.fit(X_train,y_train)\n",
    "#y_predict = rf.predict(X_val)\n",
    "ConfusionMatrixDisplay.from_estimator(rf, X_val, y_val)\n",
    "[sum(y_train==dt.predict(X_train))/len(y_train)*100,  sum(y_val==dt.predict(X_val))/len(y_val)*100]"
   ]
  },
  {
   "cell_type": "markdown",
   "metadata": {},
   "source": [
    "## Extra Tree"
   ]
  },
  {
   "cell_type": "code",
   "execution_count": 370,
   "metadata": {},
   "outputs": [
    {
     "data": {
      "text/html": [
       "<div>\n",
       "<style scoped>\n",
       "    .dataframe tbody tr th:only-of-type {\n",
       "        vertical-align: middle;\n",
       "    }\n",
       "\n",
       "    .dataframe tbody tr th {\n",
       "        vertical-align: top;\n",
       "    }\n",
       "\n",
       "    .dataframe thead th {\n",
       "        text-align: right;\n",
       "    }\n",
       "</style>\n",
       "<table border=\"1\" class=\"dataframe\">\n",
       "  <thead>\n",
       "    <tr style=\"text-align: right;\">\n",
       "      <th></th>\n",
       "      <th>nestim</th>\n",
       "      <th>maxdepth</th>\n",
       "      <th>class</th>\n",
       "      <th>val</th>\n",
       "    </tr>\n",
       "  </thead>\n",
       "  <tbody>\n",
       "    <tr>\n",
       "      <th>53</th>\n",
       "      <td>46.0</td>\n",
       "      <td>50.0</td>\n",
       "      <td>100.000000</td>\n",
       "      <td>87.333333</td>\n",
       "    </tr>\n",
       "    <tr>\n",
       "      <th>44</th>\n",
       "      <td>77.0</td>\n",
       "      <td>40.0</td>\n",
       "      <td>100.000000</td>\n",
       "      <td>86.666667</td>\n",
       "    </tr>\n",
       "    <tr>\n",
       "      <th>52</th>\n",
       "      <td>27.0</td>\n",
       "      <td>50.0</td>\n",
       "      <td>100.000000</td>\n",
       "      <td>86.666667</td>\n",
       "    </tr>\n",
       "    <tr>\n",
       "      <th>73</th>\n",
       "      <td>46.0</td>\n",
       "      <td>75.0</td>\n",
       "      <td>100.000000</td>\n",
       "      <td>86.666667</td>\n",
       "    </tr>\n",
       "    <tr>\n",
       "      <th>79</th>\n",
       "      <td>1000.0</td>\n",
       "      <td>75.0</td>\n",
       "      <td>100.000000</td>\n",
       "      <td>86.666667</td>\n",
       "    </tr>\n",
       "    <tr>\n",
       "      <th>...</th>\n",
       "      <td>...</td>\n",
       "      <td>...</td>\n",
       "      <td>...</td>\n",
       "      <td>...</td>\n",
       "    </tr>\n",
       "    <tr>\n",
       "      <th>3</th>\n",
       "      <td>46.0</td>\n",
       "      <td>10.0</td>\n",
       "      <td>58.351893</td>\n",
       "      <td>54.666667</td>\n",
       "    </tr>\n",
       "    <tr>\n",
       "      <th>0</th>\n",
       "      <td>10.0</td>\n",
       "      <td>10.0</td>\n",
       "      <td>63.919822</td>\n",
       "      <td>54.666667</td>\n",
       "    </tr>\n",
       "    <tr>\n",
       "      <th>1</th>\n",
       "      <td>16.0</td>\n",
       "      <td>10.0</td>\n",
       "      <td>58.129176</td>\n",
       "      <td>54.000000</td>\n",
       "    </tr>\n",
       "    <tr>\n",
       "      <th>5</th>\n",
       "      <td>129.0</td>\n",
       "      <td>10.0</td>\n",
       "      <td>57.461024</td>\n",
       "      <td>54.000000</td>\n",
       "    </tr>\n",
       "    <tr>\n",
       "      <th>2</th>\n",
       "      <td>27.0</td>\n",
       "      <td>10.0</td>\n",
       "      <td>57.906459</td>\n",
       "      <td>53.333333</td>\n",
       "    </tr>\n",
       "  </tbody>\n",
       "</table>\n",
       "<p>100 rows × 4 columns</p>\n",
       "</div>"
      ],
      "text/plain": [
       "    nestim  maxdepth       class        val\n",
       "53    46.0      50.0  100.000000  87.333333\n",
       "44    77.0      40.0  100.000000  86.666667\n",
       "52    27.0      50.0  100.000000  86.666667\n",
       "73    46.0      75.0  100.000000  86.666667\n",
       "79  1000.0      75.0  100.000000  86.666667\n",
       "..     ...       ...         ...        ...\n",
       "3     46.0      10.0   58.351893  54.666667\n",
       "0     10.0      10.0   63.919822  54.666667\n",
       "1     16.0      10.0   58.129176  54.000000\n",
       "5    129.0      10.0   57.461024  54.000000\n",
       "2     27.0      10.0   57.906459  53.333333\n",
       "\n",
       "[100 rows x 4 columns]"
      ]
     },
     "execution_count": 370,
     "metadata": {},
     "output_type": "execute_result"
    }
   ],
   "source": [
    "#df_rf = pd.DataFrame(columns=['nestim','maxdepth','class','val','auc','f1'])\n",
    "df_et = pd.DataFrame(columns=['nestim','maxdepth','class','val'])\n",
    "for max_dep in [10, 20,25,30,40,50,60,75,100,200]:\n",
    "        for n_est in np.logspace(1,3,10,dtype=int):\n",
    "                \n",
    "                et = make_pipeline(RobustScaler(), ExtraTreesClassifier(n_estimators=n_est, max_depth=max_dep, n_jobs=-1, random_state=1))\n",
    "                et.fit(X_train,y_train)\n",
    "                #y_predict = et.predict(X_val)\n",
    "\n",
    "                df_et=df_et.append(dict(zip(['nestim','maxdepth','class','val'], [n_est, max_dep ,sum(y_train==et.predict(X_train))/len(y_train)*100,  sum(y_val==et.predict(X_val))/len(y_val)*100])),ignore_index=True)\n",
    "df_et.sort_values(by='val',ascending=False)                \n",
    "\n"
   ]
  },
  {
   "cell_type": "code",
   "execution_count": 371,
   "metadata": {},
   "outputs": [
    {
     "data": {
      "text/plain": [
       "<sklearn.metrics._plot.confusion_matrix.ConfusionMatrixDisplay at 0x1c74f88b4f0>"
      ]
     },
     "execution_count": 371,
     "metadata": {},
     "output_type": "execute_result"
    },
    {
     "data": {
      "image/png": "[encoded data removed]",
      "text/plain": [
       "<Figure size 432x288 with 2 Axes>"
      ]
     },
     "metadata": {
      "needs_background": "light"
     },
     "output_type": "display_data"
    }
   ],
   "source": [
    "et = ExtraTreesClassifier(n_estimators=46, max_depth=50, n_jobs=-1, random_state=1)\n",
    "et.fit(X_train,y_train)\n",
    "ConfusionMatrixDisplay.from_estimator(et, X_val, y_val)"
   ]
  },
  {
   "cell_type": "markdown",
   "metadata": {},
   "source": [
    "## KNN"
   ]
  },
  {
   "cell_type": "code",
   "execution_count": 373,
   "metadata": {},
   "outputs": [
    {
     "data": {
      "text/plain": [
       "[88.41870824053451, 83.33333333333334]"
      ]
     },
     "execution_count": 373,
     "metadata": {},
     "output_type": "execute_result"
    },
    {
     "data": {
      "image/png": "[encoded data removed]",
      "text/plain": [
       "<Figure size 432x288 with 2 Axes>"
      ]
     },
     "metadata": {
      "needs_background": "light"
     },
     "output_type": "display_data"
    }
   ],
   "source": [
    "knn = make_pipeline(RobustScaler(),KNeighborsClassifier(n_neighbors=5))\n",
    "knn.fit(X_train,y_train)\n",
    "#y_predict = rf.predict(X_val)\n",
    "ConfusionMatrixDisplay.from_estimator(knn, X_val, y_val)\n",
    "\n",
    "[sum(y_train==knn.predict(X_train))/len(y_train)*100,  sum(y_val==knn.predict(X_val))/len(y_val)*100]"
   ]
  },
  {
   "cell_type": "code",
   "execution_count": 374,
   "metadata": {},
   "outputs": [
    {
     "data": {
      "text/html": [
       "<div>\n",
       "<style scoped>\n",
       "    .dataframe tbody tr th:only-of-type {\n",
       "        vertical-align: middle;\n",
       "    }\n",
       "\n",
       "    .dataframe tbody tr th {\n",
       "        vertical-align: top;\n",
       "    }\n",
       "\n",
       "    .dataframe thead th {\n",
       "        text-align: right;\n",
       "    }\n",
       "</style>\n",
       "<table border=\"1\" class=\"dataframe\">\n",
       "  <thead>\n",
       "    <tr style=\"text-align: right;\">\n",
       "      <th></th>\n",
       "      <th>nbrs</th>\n",
       "      <th>class</th>\n",
       "      <th>val</th>\n",
       "    </tr>\n",
       "  </thead>\n",
       "  <tbody>\n",
       "    <tr>\n",
       "      <th>0</th>\n",
       "      <td>5.0</td>\n",
       "      <td>88.418708</td>\n",
       "      <td>83.333333</td>\n",
       "    </tr>\n",
       "    <tr>\n",
       "      <th>2</th>\n",
       "      <td>9.0</td>\n",
       "      <td>85.300668</td>\n",
       "      <td>83.333333</td>\n",
       "    </tr>\n",
       "    <tr>\n",
       "      <th>1</th>\n",
       "      <td>7.0</td>\n",
       "      <td>86.414254</td>\n",
       "      <td>82.666667</td>\n",
       "    </tr>\n",
       "    <tr>\n",
       "      <th>3</th>\n",
       "      <td>11.0</td>\n",
       "      <td>84.409800</td>\n",
       "      <td>82.000000</td>\n",
       "    </tr>\n",
       "    <tr>\n",
       "      <th>4</th>\n",
       "      <td>13.0</td>\n",
       "      <td>83.073497</td>\n",
       "      <td>81.333333</td>\n",
       "    </tr>\n",
       "    <tr>\n",
       "      <th>6</th>\n",
       "      <td>17.0</td>\n",
       "      <td>82.850780</td>\n",
       "      <td>80.000000</td>\n",
       "    </tr>\n",
       "    <tr>\n",
       "      <th>5</th>\n",
       "      <td>15.0</td>\n",
       "      <td>82.628062</td>\n",
       "      <td>79.333333</td>\n",
       "    </tr>\n",
       "    <tr>\n",
       "      <th>7</th>\n",
       "      <td>19.0</td>\n",
       "      <td>81.737194</td>\n",
       "      <td>78.000000</td>\n",
       "    </tr>\n",
       "    <tr>\n",
       "      <th>9</th>\n",
       "      <td>23.0</td>\n",
       "      <td>79.287305</td>\n",
       "      <td>76.666667</td>\n",
       "    </tr>\n",
       "    <tr>\n",
       "      <th>8</th>\n",
       "      <td>21.0</td>\n",
       "      <td>80.846325</td>\n",
       "      <td>75.333333</td>\n",
       "    </tr>\n",
       "    <tr>\n",
       "      <th>10</th>\n",
       "      <td>25.0</td>\n",
       "      <td>78.619154</td>\n",
       "      <td>74.000000</td>\n",
       "    </tr>\n",
       "    <tr>\n",
       "      <th>11</th>\n",
       "      <td>27.0</td>\n",
       "      <td>77.951002</td>\n",
       "      <td>74.000000</td>\n",
       "    </tr>\n",
       "    <tr>\n",
       "      <th>12</th>\n",
       "      <td>29.0</td>\n",
       "      <td>77.951002</td>\n",
       "      <td>74.000000</td>\n",
       "    </tr>\n",
       "    <tr>\n",
       "      <th>17</th>\n",
       "      <td>39.0</td>\n",
       "      <td>75.723831</td>\n",
       "      <td>72.666667</td>\n",
       "    </tr>\n",
       "    <tr>\n",
       "      <th>13</th>\n",
       "      <td>31.0</td>\n",
       "      <td>78.173719</td>\n",
       "      <td>72.666667</td>\n",
       "    </tr>\n",
       "    <tr>\n",
       "      <th>18</th>\n",
       "      <td>41.0</td>\n",
       "      <td>75.723831</td>\n",
       "      <td>72.000000</td>\n",
       "    </tr>\n",
       "    <tr>\n",
       "      <th>15</th>\n",
       "      <td>35.0</td>\n",
       "      <td>76.391982</td>\n",
       "      <td>72.000000</td>\n",
       "    </tr>\n",
       "    <tr>\n",
       "      <th>14</th>\n",
       "      <td>33.0</td>\n",
       "      <td>76.614699</td>\n",
       "      <td>72.000000</td>\n",
       "    </tr>\n",
       "    <tr>\n",
       "      <th>16</th>\n",
       "      <td>37.0</td>\n",
       "      <td>76.614699</td>\n",
       "      <td>72.000000</td>\n",
       "    </tr>\n",
       "    <tr>\n",
       "      <th>19</th>\n",
       "      <td>43.0</td>\n",
       "      <td>75.501114</td>\n",
       "      <td>70.666667</td>\n",
       "    </tr>\n",
       "    <tr>\n",
       "      <th>20</th>\n",
       "      <td>45.0</td>\n",
       "      <td>73.051225</td>\n",
       "      <td>69.333333</td>\n",
       "    </tr>\n",
       "    <tr>\n",
       "      <th>34</th>\n",
       "      <td>73.0</td>\n",
       "      <td>69.487751</td>\n",
       "      <td>68.666667</td>\n",
       "    </tr>\n",
       "    <tr>\n",
       "      <th>46</th>\n",
       "      <td>97.0</td>\n",
       "      <td>68.819599</td>\n",
       "      <td>68.666667</td>\n",
       "    </tr>\n",
       "    <tr>\n",
       "      <th>45</th>\n",
       "      <td>95.0</td>\n",
       "      <td>68.819599</td>\n",
       "      <td>68.666667</td>\n",
       "    </tr>\n",
       "    <tr>\n",
       "      <th>44</th>\n",
       "      <td>93.0</td>\n",
       "      <td>69.042316</td>\n",
       "      <td>68.666667</td>\n",
       "    </tr>\n",
       "    <tr>\n",
       "      <th>43</th>\n",
       "      <td>91.0</td>\n",
       "      <td>68.819599</td>\n",
       "      <td>68.666667</td>\n",
       "    </tr>\n",
       "    <tr>\n",
       "      <th>42</th>\n",
       "      <td>89.0</td>\n",
       "      <td>68.819599</td>\n",
       "      <td>68.666667</td>\n",
       "    </tr>\n",
       "    <tr>\n",
       "      <th>41</th>\n",
       "      <td>87.0</td>\n",
       "      <td>69.042316</td>\n",
       "      <td>68.666667</td>\n",
       "    </tr>\n",
       "    <tr>\n",
       "      <th>40</th>\n",
       "      <td>85.0</td>\n",
       "      <td>69.265033</td>\n",
       "      <td>68.666667</td>\n",
       "    </tr>\n",
       "    <tr>\n",
       "      <th>39</th>\n",
       "      <td>83.0</td>\n",
       "      <td>69.265033</td>\n",
       "      <td>68.666667</td>\n",
       "    </tr>\n",
       "    <tr>\n",
       "      <th>38</th>\n",
       "      <td>81.0</td>\n",
       "      <td>69.265033</td>\n",
       "      <td>68.666667</td>\n",
       "    </tr>\n",
       "    <tr>\n",
       "      <th>37</th>\n",
       "      <td>79.0</td>\n",
       "      <td>69.487751</td>\n",
       "      <td>68.666667</td>\n",
       "    </tr>\n",
       "    <tr>\n",
       "      <th>36</th>\n",
       "      <td>77.0</td>\n",
       "      <td>69.710468</td>\n",
       "      <td>68.666667</td>\n",
       "    </tr>\n",
       "    <tr>\n",
       "      <th>35</th>\n",
       "      <td>75.0</td>\n",
       "      <td>69.710468</td>\n",
       "      <td>68.666667</td>\n",
       "    </tr>\n",
       "    <tr>\n",
       "      <th>24</th>\n",
       "      <td>53.0</td>\n",
       "      <td>70.601336</td>\n",
       "      <td>68.666667</td>\n",
       "    </tr>\n",
       "    <tr>\n",
       "      <th>33</th>\n",
       "      <td>71.0</td>\n",
       "      <td>69.933185</td>\n",
       "      <td>68.666667</td>\n",
       "    </tr>\n",
       "    <tr>\n",
       "      <th>28</th>\n",
       "      <td>61.0</td>\n",
       "      <td>70.601336</td>\n",
       "      <td>68.666667</td>\n",
       "    </tr>\n",
       "    <tr>\n",
       "      <th>27</th>\n",
       "      <td>59.0</td>\n",
       "      <td>70.378619</td>\n",
       "      <td>68.666667</td>\n",
       "    </tr>\n",
       "    <tr>\n",
       "      <th>26</th>\n",
       "      <td>57.0</td>\n",
       "      <td>70.601336</td>\n",
       "      <td>68.666667</td>\n",
       "    </tr>\n",
       "    <tr>\n",
       "      <th>25</th>\n",
       "      <td>55.0</td>\n",
       "      <td>70.378619</td>\n",
       "      <td>68.666667</td>\n",
       "    </tr>\n",
       "    <tr>\n",
       "      <th>23</th>\n",
       "      <td>51.0</td>\n",
       "      <td>71.046771</td>\n",
       "      <td>68.666667</td>\n",
       "    </tr>\n",
       "    <tr>\n",
       "      <th>22</th>\n",
       "      <td>49.0</td>\n",
       "      <td>71.937639</td>\n",
       "      <td>68.666667</td>\n",
       "    </tr>\n",
       "    <tr>\n",
       "      <th>21</th>\n",
       "      <td>47.0</td>\n",
       "      <td>71.714922</td>\n",
       "      <td>68.666667</td>\n",
       "    </tr>\n",
       "    <tr>\n",
       "      <th>47</th>\n",
       "      <td>99.0</td>\n",
       "      <td>68.819599</td>\n",
       "      <td>68.666667</td>\n",
       "    </tr>\n",
       "    <tr>\n",
       "      <th>32</th>\n",
       "      <td>69.0</td>\n",
       "      <td>69.933185</td>\n",
       "      <td>68.000000</td>\n",
       "    </tr>\n",
       "    <tr>\n",
       "      <th>31</th>\n",
       "      <td>67.0</td>\n",
       "      <td>70.155902</td>\n",
       "      <td>68.000000</td>\n",
       "    </tr>\n",
       "    <tr>\n",
       "      <th>30</th>\n",
       "      <td>65.0</td>\n",
       "      <td>69.933185</td>\n",
       "      <td>68.000000</td>\n",
       "    </tr>\n",
       "    <tr>\n",
       "      <th>29</th>\n",
       "      <td>63.0</td>\n",
       "      <td>70.378619</td>\n",
       "      <td>68.000000</td>\n",
       "    </tr>\n",
       "  </tbody>\n",
       "</table>\n",
       "</div>"
      ],
      "text/plain": [
       "    nbrs      class        val\n",
       "0    5.0  88.418708  83.333333\n",
       "2    9.0  85.300668  83.333333\n",
       "1    7.0  86.414254  82.666667\n",
       "3   11.0  84.409800  82.000000\n",
       "4   13.0  83.073497  81.333333\n",
       "6   17.0  82.850780  80.000000\n",
       "5   15.0  82.628062  79.333333\n",
       "7   19.0  81.737194  78.000000\n",
       "9   23.0  79.287305  76.666667\n",
       "8   21.0  80.846325  75.333333\n",
       "10  25.0  78.619154  74.000000\n",
       "11  27.0  77.951002  74.000000\n",
       "12  29.0  77.951002  74.000000\n",
       "17  39.0  75.723831  72.666667\n",
       "13  31.0  78.173719  72.666667\n",
       "18  41.0  75.723831  72.000000\n",
       "15  35.0  76.391982  72.000000\n",
       "14  33.0  76.614699  72.000000\n",
       "16  37.0  76.614699  72.000000\n",
       "19  43.0  75.501114  70.666667\n",
       "20  45.0  73.051225  69.333333\n",
       "34  73.0  69.487751  68.666667\n",
       "46  97.0  68.819599  68.666667\n",
       "45  95.0  68.819599  68.666667\n",
       "44  93.0  69.042316  68.666667\n",
       "43  91.0  68.819599  68.666667\n",
       "42  89.0  68.819599  68.666667\n",
       "41  87.0  69.042316  68.666667\n",
       "40  85.0  69.265033  68.666667\n",
       "39  83.0  69.265033  68.666667\n",
       "38  81.0  69.265033  68.666667\n",
       "37  79.0  69.487751  68.666667\n",
       "36  77.0  69.710468  68.666667\n",
       "35  75.0  69.710468  68.666667\n",
       "24  53.0  70.601336  68.666667\n",
       "33  71.0  69.933185  68.666667\n",
       "28  61.0  70.601336  68.666667\n",
       "27  59.0  70.378619  68.666667\n",
       "26  57.0  70.601336  68.666667\n",
       "25  55.0  70.378619  68.666667\n",
       "23  51.0  71.046771  68.666667\n",
       "22  49.0  71.937639  68.666667\n",
       "21  47.0  71.714922  68.666667\n",
       "47  99.0  68.819599  68.666667\n",
       "32  69.0  69.933185  68.000000\n",
       "31  67.0  70.155902  68.000000\n",
       "30  65.0  69.933185  68.000000\n",
       "29  63.0  70.378619  68.000000"
      ]
     },
     "execution_count": 374,
     "metadata": {},
     "output_type": "execute_result"
    }
   ],
   "source": [
    "df_knn = pd.DataFrame(columns=['nbrs','class','val'])\n",
    "for nn in np.arange(5,100,2):\n",
    "    knn = make_pipeline(RobustScaler(), KNeighborsClassifier(n_neighbors=nn))\n",
    "    knn.fit(X_train,y_train)\n",
    "    df_knn=df_knn.append(dict(zip(['nbrs','class','val'], [nn ,sum(y_train==knn.predict(X_train))/len(y_train)*100,  sum(y_val==knn.predict(X_val))/len(y_val)*100])),ignore_index=True)\n",
    "    #ConfusionMatrixDisplay.from_estimator(knn, X_val, y_val)\n",
    "df_knn.sort_values(by='val',ascending=False)"
   ]
  },
  {
   "cell_type": "markdown",
   "metadata": {},
   "source": [
    "Best for 5 neighbors"
   ]
  },
  {
   "cell_type": "code",
   "execution_count": 376,
   "metadata": {},
   "outputs": [
    {
     "data": {
      "text/plain": [
       "[88.41870824053451, 83.33333333333334]"
      ]
     },
     "execution_count": 376,
     "metadata": {},
     "output_type": "execute_result"
    },
    {
     "data": {
      "image/png": "[encoded data removed]",
      "text/plain": [
       "<Figure size 432x288 with 2 Axes>"
      ]
     },
     "metadata": {
      "needs_background": "light"
     },
     "output_type": "display_data"
    }
   ],
   "source": [
    "knn = make_pipeline(RobustScaler(), KNeighborsClassifier(n_neighbors=5))\n",
    "knn.fit(X_train,y_train)\n",
    "ConfusionMatrixDisplay.from_estimator(knn, X_val, y_val)\n",
    "\n",
    "[sum(y_train==knn.predict(X_train))/len(y_train)*100,  sum(y_val==knn.predict(X_val))/len(y_val)*100]"
   ]
  },
  {
   "cell_type": "markdown",
   "metadata": {},
   "source": [
    "## Bayes"
   ]
  },
  {
   "cell_type": "code",
   "execution_count": 378,
   "metadata": {},
   "outputs": [
    {
     "data": {
      "text/html": [
       "<div>\n",
       "<style scoped>\n",
       "    .dataframe tbody tr th:only-of-type {\n",
       "        vertical-align: middle;\n",
       "    }\n",
       "\n",
       "    .dataframe tbody tr th {\n",
       "        vertical-align: top;\n",
       "    }\n",
       "\n",
       "    .dataframe thead th {\n",
       "        text-align: right;\n",
       "    }\n",
       "</style>\n",
       "<table border=\"1\" class=\"dataframe\">\n",
       "  <thead>\n",
       "    <tr style=\"text-align: right;\">\n",
       "      <th></th>\n",
       "      <th>smoothing</th>\n",
       "      <th>class</th>\n",
       "      <th>val</th>\n",
       "    </tr>\n",
       "  </thead>\n",
       "  <tbody>\n",
       "    <tr>\n",
       "      <th>37</th>\n",
       "      <td>2.222996e-06</td>\n",
       "      <td>89.086860</td>\n",
       "      <td>86.000000</td>\n",
       "    </tr>\n",
       "    <tr>\n",
       "      <th>38</th>\n",
       "      <td>5.428675e-06</td>\n",
       "      <td>87.305122</td>\n",
       "      <td>85.333333</td>\n",
       "    </tr>\n",
       "    <tr>\n",
       "      <th>36</th>\n",
       "      <td>9.102982e-07</td>\n",
       "      <td>91.759465</td>\n",
       "      <td>85.333333</td>\n",
       "    </tr>\n",
       "    <tr>\n",
       "      <th>39</th>\n",
       "      <td>1.325711e-05</td>\n",
       "      <td>85.746102</td>\n",
       "      <td>83.333333</td>\n",
       "    </tr>\n",
       "    <tr>\n",
       "      <th>40</th>\n",
       "      <td>3.237458e-05</td>\n",
       "      <td>82.405345</td>\n",
       "      <td>81.333333</td>\n",
       "    </tr>\n",
       "    <tr>\n",
       "      <th>41</th>\n",
       "      <td>7.906043e-05</td>\n",
       "      <td>79.287305</td>\n",
       "      <td>77.333333</td>\n",
       "    </tr>\n",
       "    <tr>\n",
       "      <th>45</th>\n",
       "      <td>2.811769e-03</td>\n",
       "      <td>69.710468</td>\n",
       "      <td>74.666667</td>\n",
       "    </tr>\n",
       "    <tr>\n",
       "      <th>48</th>\n",
       "      <td>4.094915e-02</td>\n",
       "      <td>69.265033</td>\n",
       "      <td>74.000000</td>\n",
       "    </tr>\n",
       "    <tr>\n",
       "      <th>43</th>\n",
       "      <td>4.714866e-04</td>\n",
       "      <td>72.828508</td>\n",
       "      <td>74.000000</td>\n",
       "    </tr>\n",
       "    <tr>\n",
       "      <th>42</th>\n",
       "      <td>1.930698e-04</td>\n",
       "      <td>74.387528</td>\n",
       "      <td>74.000000</td>\n",
       "    </tr>\n",
       "    <tr>\n",
       "      <th>44</th>\n",
       "      <td>1.151395e-03</td>\n",
       "      <td>71.937639</td>\n",
       "      <td>73.333333</td>\n",
       "    </tr>\n",
       "    <tr>\n",
       "      <th>47</th>\n",
       "      <td>1.676833e-02</td>\n",
       "      <td>68.596882</td>\n",
       "      <td>72.000000</td>\n",
       "    </tr>\n",
       "    <tr>\n",
       "      <th>46</th>\n",
       "      <td>6.866488e-03</td>\n",
       "      <td>69.265033</td>\n",
       "      <td>72.000000</td>\n",
       "    </tr>\n",
       "    <tr>\n",
       "      <th>49</th>\n",
       "      <td>1.000000e-01</td>\n",
       "      <td>62.360802</td>\n",
       "      <td>64.000000</td>\n",
       "    </tr>\n",
       "    <tr>\n",
       "      <th>35</th>\n",
       "      <td>3.727594e-07</td>\n",
       "      <td>74.387528</td>\n",
       "      <td>35.333333</td>\n",
       "    </tr>\n",
       "    <tr>\n",
       "      <th>34</th>\n",
       "      <td>1.526418e-07</td>\n",
       "      <td>49.888641</td>\n",
       "      <td>5.333333</td>\n",
       "    </tr>\n",
       "    <tr>\n",
       "      <th>33</th>\n",
       "      <td>6.250552e-08</td>\n",
       "      <td>50.779510</td>\n",
       "      <td>4.000000</td>\n",
       "    </tr>\n",
       "    <tr>\n",
       "      <th>32</th>\n",
       "      <td>2.559548e-08</td>\n",
       "      <td>100.000000</td>\n",
       "      <td>4.000000</td>\n",
       "    </tr>\n",
       "    <tr>\n",
       "      <th>31</th>\n",
       "      <td>1.048113e-08</td>\n",
       "      <td>100.000000</td>\n",
       "      <td>4.000000</td>\n",
       "    </tr>\n",
       "    <tr>\n",
       "      <th>30</th>\n",
       "      <td>4.291934e-09</td>\n",
       "      <td>100.000000</td>\n",
       "      <td>3.333333</td>\n",
       "    </tr>\n",
       "    <tr>\n",
       "      <th>29</th>\n",
       "      <td>1.757511e-09</td>\n",
       "      <td>100.000000</td>\n",
       "      <td>2.666667</td>\n",
       "    </tr>\n",
       "    <tr>\n",
       "      <th>1</th>\n",
       "      <td>2.442053e-20</td>\n",
       "      <td>100.000000</td>\n",
       "      <td>2.000000</td>\n",
       "    </tr>\n",
       "    <tr>\n",
       "      <th>28</th>\n",
       "      <td>7.196857e-10</td>\n",
       "      <td>100.000000</td>\n",
       "      <td>2.000000</td>\n",
       "    </tr>\n",
       "    <tr>\n",
       "      <th>27</th>\n",
       "      <td>2.947052e-10</td>\n",
       "      <td>100.000000</td>\n",
       "      <td>2.000000</td>\n",
       "    </tr>\n",
       "    <tr>\n",
       "      <th>26</th>\n",
       "      <td>1.206793e-10</td>\n",
       "      <td>100.000000</td>\n",
       "      <td>2.000000</td>\n",
       "    </tr>\n",
       "    <tr>\n",
       "      <th>0</th>\n",
       "      <td>1.000000e-20</td>\n",
       "      <td>100.000000</td>\n",
       "      <td>2.000000</td>\n",
       "    </tr>\n",
       "    <tr>\n",
       "      <th>24</th>\n",
       "      <td>2.023590e-11</td>\n",
       "      <td>100.000000</td>\n",
       "      <td>2.000000</td>\n",
       "    </tr>\n",
       "    <tr>\n",
       "      <th>23</th>\n",
       "      <td>8.286428e-12</td>\n",
       "      <td>100.000000</td>\n",
       "      <td>2.000000</td>\n",
       "    </tr>\n",
       "    <tr>\n",
       "      <th>2</th>\n",
       "      <td>5.963623e-20</td>\n",
       "      <td>100.000000</td>\n",
       "      <td>2.000000</td>\n",
       "    </tr>\n",
       "    <tr>\n",
       "      <th>3</th>\n",
       "      <td>1.456348e-19</td>\n",
       "      <td>100.000000</td>\n",
       "      <td>2.000000</td>\n",
       "    </tr>\n",
       "    <tr>\n",
       "      <th>4</th>\n",
       "      <td>3.556480e-19</td>\n",
       "      <td>100.000000</td>\n",
       "      <td>2.000000</td>\n",
       "    </tr>\n",
       "    <tr>\n",
       "      <th>5</th>\n",
       "      <td>8.685114e-19</td>\n",
       "      <td>100.000000</td>\n",
       "      <td>2.000000</td>\n",
       "    </tr>\n",
       "    <tr>\n",
       "      <th>6</th>\n",
       "      <td>2.120951e-18</td>\n",
       "      <td>100.000000</td>\n",
       "      <td>2.000000</td>\n",
       "    </tr>\n",
       "    <tr>\n",
       "      <th>7</th>\n",
       "      <td>5.179475e-18</td>\n",
       "      <td>100.000000</td>\n",
       "      <td>2.000000</td>\n",
       "    </tr>\n",
       "    <tr>\n",
       "      <th>8</th>\n",
       "      <td>1.264855e-17</td>\n",
       "      <td>100.000000</td>\n",
       "      <td>2.000000</td>\n",
       "    </tr>\n",
       "    <tr>\n",
       "      <th>9</th>\n",
       "      <td>3.088844e-17</td>\n",
       "      <td>100.000000</td>\n",
       "      <td>2.000000</td>\n",
       "    </tr>\n",
       "    <tr>\n",
       "      <th>10</th>\n",
       "      <td>7.543120e-17</td>\n",
       "      <td>100.000000</td>\n",
       "      <td>2.000000</td>\n",
       "    </tr>\n",
       "    <tr>\n",
       "      <th>11</th>\n",
       "      <td>1.842070e-16</td>\n",
       "      <td>100.000000</td>\n",
       "      <td>2.000000</td>\n",
       "    </tr>\n",
       "    <tr>\n",
       "      <th>12</th>\n",
       "      <td>4.498433e-16</td>\n",
       "      <td>100.000000</td>\n",
       "      <td>2.000000</td>\n",
       "    </tr>\n",
       "    <tr>\n",
       "      <th>13</th>\n",
       "      <td>1.098541e-15</td>\n",
       "      <td>100.000000</td>\n",
       "      <td>2.000000</td>\n",
       "    </tr>\n",
       "    <tr>\n",
       "      <th>14</th>\n",
       "      <td>2.682696e-15</td>\n",
       "      <td>100.000000</td>\n",
       "      <td>2.000000</td>\n",
       "    </tr>\n",
       "    <tr>\n",
       "      <th>15</th>\n",
       "      <td>6.551286e-15</td>\n",
       "      <td>100.000000</td>\n",
       "      <td>2.000000</td>\n",
       "    </tr>\n",
       "    <tr>\n",
       "      <th>16</th>\n",
       "      <td>1.599859e-14</td>\n",
       "      <td>100.000000</td>\n",
       "      <td>2.000000</td>\n",
       "    </tr>\n",
       "    <tr>\n",
       "      <th>17</th>\n",
       "      <td>3.906940e-14</td>\n",
       "      <td>100.000000</td>\n",
       "      <td>2.000000</td>\n",
       "    </tr>\n",
       "    <tr>\n",
       "      <th>18</th>\n",
       "      <td>9.540955e-14</td>\n",
       "      <td>100.000000</td>\n",
       "      <td>2.000000</td>\n",
       "    </tr>\n",
       "    <tr>\n",
       "      <th>19</th>\n",
       "      <td>2.329952e-13</td>\n",
       "      <td>100.000000</td>\n",
       "      <td>2.000000</td>\n",
       "    </tr>\n",
       "    <tr>\n",
       "      <th>20</th>\n",
       "      <td>5.689866e-13</td>\n",
       "      <td>100.000000</td>\n",
       "      <td>2.000000</td>\n",
       "    </tr>\n",
       "    <tr>\n",
       "      <th>21</th>\n",
       "      <td>1.389495e-12</td>\n",
       "      <td>100.000000</td>\n",
       "      <td>2.000000</td>\n",
       "    </tr>\n",
       "    <tr>\n",
       "      <th>22</th>\n",
       "      <td>3.393222e-12</td>\n",
       "      <td>100.000000</td>\n",
       "      <td>2.000000</td>\n",
       "    </tr>\n",
       "    <tr>\n",
       "      <th>25</th>\n",
       "      <td>4.941713e-11</td>\n",
       "      <td>100.000000</td>\n",
       "      <td>2.000000</td>\n",
       "    </tr>\n",
       "  </tbody>\n",
       "</table>\n",
       "</div>"
      ],
      "text/plain": [
       "       smoothing       class        val\n",
       "37  2.222996e-06   89.086860  86.000000\n",
       "38  5.428675e-06   87.305122  85.333333\n",
       "36  9.102982e-07   91.759465  85.333333\n",
       "39  1.325711e-05   85.746102  83.333333\n",
       "40  3.237458e-05   82.405345  81.333333\n",
       "41  7.906043e-05   79.287305  77.333333\n",
       "45  2.811769e-03   69.710468  74.666667\n",
       "48  4.094915e-02   69.265033  74.000000\n",
       "43  4.714866e-04   72.828508  74.000000\n",
       "42  1.930698e-04   74.387528  74.000000\n",
       "44  1.151395e-03   71.937639  73.333333\n",
       "47  1.676833e-02   68.596882  72.000000\n",
       "46  6.866488e-03   69.265033  72.000000\n",
       "49  1.000000e-01   62.360802  64.000000\n",
       "35  3.727594e-07   74.387528  35.333333\n",
       "34  1.526418e-07   49.888641   5.333333\n",
       "33  6.250552e-08   50.779510   4.000000\n",
       "32  2.559548e-08  100.000000   4.000000\n",
       "31  1.048113e-08  100.000000   4.000000\n",
       "30  4.291934e-09  100.000000   3.333333\n",
       "29  1.757511e-09  100.000000   2.666667\n",
       "1   2.442053e-20  100.000000   2.000000\n",
       "28  7.196857e-10  100.000000   2.000000\n",
       "27  2.947052e-10  100.000000   2.000000\n",
       "26  1.206793e-10  100.000000   2.000000\n",
       "0   1.000000e-20  100.000000   2.000000\n",
       "24  2.023590e-11  100.000000   2.000000\n",
       "23  8.286428e-12  100.000000   2.000000\n",
       "2   5.963623e-20  100.000000   2.000000\n",
       "3   1.456348e-19  100.000000   2.000000\n",
       "4   3.556480e-19  100.000000   2.000000\n",
       "5   8.685114e-19  100.000000   2.000000\n",
       "6   2.120951e-18  100.000000   2.000000\n",
       "7   5.179475e-18  100.000000   2.000000\n",
       "8   1.264855e-17  100.000000   2.000000\n",
       "9   3.088844e-17  100.000000   2.000000\n",
       "10  7.543120e-17  100.000000   2.000000\n",
       "11  1.842070e-16  100.000000   2.000000\n",
       "12  4.498433e-16  100.000000   2.000000\n",
       "13  1.098541e-15  100.000000   2.000000\n",
       "14  2.682696e-15  100.000000   2.000000\n",
       "15  6.551286e-15  100.000000   2.000000\n",
       "16  1.599859e-14  100.000000   2.000000\n",
       "17  3.906940e-14  100.000000   2.000000\n",
       "18  9.540955e-14  100.000000   2.000000\n",
       "19  2.329952e-13  100.000000   2.000000\n",
       "20  5.689866e-13  100.000000   2.000000\n",
       "21  1.389495e-12  100.000000   2.000000\n",
       "22  3.393222e-12  100.000000   2.000000\n",
       "25  4.941713e-11  100.000000   2.000000"
      ]
     },
     "execution_count": 378,
     "metadata": {},
     "output_type": "execute_result"
    }
   ],
   "source": [
    "df_by = pd.DataFrame(columns=['smoothing','class','val'])\n",
    "for smth in np.logspace(-20,-1,50):\n",
    "    by = GaussianNB(var_smoothing=smth)\n",
    "    by.fit(X_train,y_train)\n",
    "    df_by=df_by.append(dict(zip(['smoothing','class','val'], [smth ,sum(y_train==by.predict(X_train))/len(y_train)*100,  sum(y_val==by.predict(X_val))/len(y_val)*100])),ignore_index=True)\n",
    "    #ConfusionMatrixDisplay.from_estimator(knn, X_val, y_val)\n",
    "df_by.sort_values(by='val',ascending=False)"
   ]
  },
  {
   "cell_type": "markdown",
   "metadata": {},
   "source": [
    "Best smooth factor around 2.22e-6"
   ]
  },
  {
   "cell_type": "code",
   "execution_count": 189,
   "metadata": {},
   "outputs": [
    {
     "data": {
      "text/plain": [
       "<sklearn.metrics._plot.confusion_matrix.ConfusionMatrixDisplay at 0x1c72ebb0d00>"
      ]
     },
     "execution_count": 189,
     "metadata": {},
     "output_type": "execute_result"
    },
    {
     "data": {
      "image/png": "[encoded data removed]",
      "text/plain": [
       "<Figure size 432x288 with 2 Axes>"
      ]
     },
     "metadata": {
      "needs_background": "light"
     },
     "output_type": "display_data"
    }
   ],
   "source": [
    "by = GaussianNB(var_smoothing=2.22e-6)\n",
    "by.fit(X_train,y_train)\n",
    "ConfusionMatrixDisplay.from_estimator(by, X_val, y_val)"
   ]
  },
  {
   "cell_type": "markdown",
   "metadata": {},
   "source": [
    "## Linear Classifier"
   ]
  },
  {
   "cell_type": "code",
   "execution_count": 380,
   "metadata": {},
   "outputs": [
    {
     "name": "stderr",
     "output_type": "stream",
     "text": [
      "C:\\Users\\kay_t\\AppData\\Local\\Packages\\PythonSoftwareFoundation.Python.3.9_qbz5n2kfra8p0\\LocalCache\\local-packages\\Python39\\site-packages\\sklearn\\linear_model\\_base.py:148: FutureWarning: 'normalize' was deprecated in version 1.0 and will be removed in 1.2. Please leave the normalize parameter to its default value to silence this warning. The default behavior of this estimator is to not do any normalization. If normalization is needed please use sklearn.preprocessing.StandardScaler instead.\n",
      "  warnings.warn(\n",
      "C:\\Users\\kay_t\\AppData\\Local\\Packages\\PythonSoftwareFoundation.Python.3.9_qbz5n2kfra8p0\\LocalCache\\local-packages\\Python39\\site-packages\\sklearn\\linear_model\\_base.py:148: FutureWarning: 'normalize' was deprecated in version 1.0 and will be removed in 1.2. Please leave the normalize parameter to its default value to silence this warning. The default behavior of this estimator is to not do any normalization. If normalization is needed please use sklearn.preprocessing.StandardScaler instead.\n",
      "  warnings.warn(\n",
      "C:\\Users\\kay_t\\AppData\\Local\\Packages\\PythonSoftwareFoundation.Python.3.9_qbz5n2kfra8p0\\LocalCache\\local-packages\\Python39\\site-packages\\sklearn\\linear_model\\_base.py:148: FutureWarning: 'normalize' was deprecated in version 1.0 and will be removed in 1.2. Please leave the normalize parameter to its default value to silence this warning. The default behavior of this estimator is to not do any normalization. If normalization is needed please use sklearn.preprocessing.StandardScaler instead.\n",
      "  warnings.warn(\n",
      "C:\\Users\\kay_t\\AppData\\Local\\Packages\\PythonSoftwareFoundation.Python.3.9_qbz5n2kfra8p0\\LocalCache\\local-packages\\Python39\\site-packages\\sklearn\\linear_model\\_base.py:148: FutureWarning: 'normalize' was deprecated in version 1.0 and will be removed in 1.2. Please leave the normalize parameter to its default value to silence this warning. The default behavior of this estimator is to not do any normalization. If normalization is needed please use sklearn.preprocessing.StandardScaler instead.\n",
      "  warnings.warn(\n",
      "C:\\Users\\kay_t\\AppData\\Local\\Packages\\PythonSoftwareFoundation.Python.3.9_qbz5n2kfra8p0\\LocalCache\\local-packages\\Python39\\site-packages\\sklearn\\linear_model\\_base.py:148: FutureWarning: 'normalize' was deprecated in version 1.0 and will be removed in 1.2. Please leave the normalize parameter to its default value to silence this warning. The default behavior of this estimator is to not do any normalization. If normalization is needed please use sklearn.preprocessing.StandardScaler instead.\n",
      "  warnings.warn(\n",
      "C:\\Users\\kay_t\\AppData\\Local\\Packages\\PythonSoftwareFoundation.Python.3.9_qbz5n2kfra8p0\\LocalCache\\local-packages\\Python39\\site-packages\\sklearn\\linear_model\\_base.py:148: FutureWarning: 'normalize' was deprecated in version 1.0 and will be removed in 1.2. Please leave the normalize parameter to its default value to silence this warning. The default behavior of this estimator is to not do any normalization. If normalization is needed please use sklearn.preprocessing.StandardScaler instead.\n",
      "  warnings.warn(\n",
      "C:\\Users\\kay_t\\AppData\\Local\\Packages\\PythonSoftwareFoundation.Python.3.9_qbz5n2kfra8p0\\LocalCache\\local-packages\\Python39\\site-packages\\sklearn\\linear_model\\_base.py:148: FutureWarning: 'normalize' was deprecated in version 1.0 and will be removed in 1.2. Please leave the normalize parameter to its default value to silence this warning. The default behavior of this estimator is to not do any normalization. If normalization is needed please use sklearn.preprocessing.StandardScaler instead.\n",
      "  warnings.warn(\n",
      "C:\\Users\\kay_t\\AppData\\Local\\Packages\\PythonSoftwareFoundation.Python.3.9_qbz5n2kfra8p0\\LocalCache\\local-packages\\Python39\\site-packages\\sklearn\\linear_model\\_base.py:148: FutureWarning: 'normalize' was deprecated in version 1.0 and will be removed in 1.2. Please leave the normalize parameter to its default value to silence this warning. The default behavior of this estimator is to not do any normalization. If normalization is needed please use sklearn.preprocessing.StandardScaler instead.\n",
      "  warnings.warn(\n",
      "C:\\Users\\kay_t\\AppData\\Local\\Packages\\PythonSoftwareFoundation.Python.3.9_qbz5n2kfra8p0\\LocalCache\\local-packages\\Python39\\site-packages\\sklearn\\linear_model\\_base.py:148: FutureWarning: 'normalize' was deprecated in version 1.0 and will be removed in 1.2. Please leave the normalize parameter to its default value to silence this warning. The default behavior of this estimator is to not do any normalization. If normalization is needed please use sklearn.preprocessing.StandardScaler instead.\n",
      "  warnings.warn(\n",
      "C:\\Users\\kay_t\\AppData\\Local\\Packages\\PythonSoftwareFoundation.Python.3.9_qbz5n2kfra8p0\\LocalCache\\local-packages\\Python39\\site-packages\\sklearn\\linear_model\\_base.py:148: FutureWarning: 'normalize' was deprecated in version 1.0 and will be removed in 1.2. Please leave the normalize parameter to its default value to silence this warning. The default behavior of this estimator is to not do any normalization. If normalization is needed please use sklearn.preprocessing.StandardScaler instead.\n",
      "  warnings.warn(\n",
      "C:\\Users\\kay_t\\AppData\\Local\\Packages\\PythonSoftwareFoundation.Python.3.9_qbz5n2kfra8p0\\LocalCache\\local-packages\\Python39\\site-packages\\sklearn\\linear_model\\_base.py:148: FutureWarning: 'normalize' was deprecated in version 1.0 and will be removed in 1.2. Please leave the normalize parameter to its default value to silence this warning. The default behavior of this estimator is to not do any normalization. If normalization is needed please use sklearn.preprocessing.StandardScaler instead.\n",
      "  warnings.warn(\n",
      "C:\\Users\\kay_t\\AppData\\Local\\Packages\\PythonSoftwareFoundation.Python.3.9_qbz5n2kfra8p0\\LocalCache\\local-packages\\Python39\\site-packages\\sklearn\\linear_model\\_base.py:148: FutureWarning: 'normalize' was deprecated in version 1.0 and will be removed in 1.2. Please leave the normalize parameter to its default value to silence this warning. The default behavior of this estimator is to not do any normalization. If normalization is needed please use sklearn.preprocessing.StandardScaler instead.\n",
      "  warnings.warn(\n",
      "C:\\Users\\kay_t\\AppData\\Local\\Packages\\PythonSoftwareFoundation.Python.3.9_qbz5n2kfra8p0\\LocalCache\\local-packages\\Python39\\site-packages\\sklearn\\linear_model\\_base.py:148: FutureWarning: 'normalize' was deprecated in version 1.0 and will be removed in 1.2. Please leave the normalize parameter to its default value to silence this warning. The default behavior of this estimator is to not do any normalization. If normalization is needed please use sklearn.preprocessing.StandardScaler instead.\n",
      "  warnings.warn(\n"
     ]
    },
    {
     "data": {
      "text/html": [
       "<div>\n",
       "<style scoped>\n",
       "    .dataframe tbody tr th:only-of-type {\n",
       "        vertical-align: middle;\n",
       "    }\n",
       "\n",
       "    .dataframe tbody tr th {\n",
       "        vertical-align: top;\n",
       "    }\n",
       "\n",
       "    .dataframe thead th {\n",
       "        text-align: right;\n",
       "    }\n",
       "</style>\n",
       "<table border=\"1\" class=\"dataframe\">\n",
       "  <thead>\n",
       "    <tr style=\"text-align: right;\">\n",
       "      <th></th>\n",
       "      <th>smoothing</th>\n",
       "      <th>class</th>\n",
       "      <th>val</th>\n",
       "    </tr>\n",
       "  </thead>\n",
       "  <tbody>\n",
       "    <tr>\n",
       "      <th>9</th>\n",
       "      <td>316.227766</td>\n",
       "      <td>83.518931</td>\n",
       "      <td>82.666667</td>\n",
       "    </tr>\n",
       "    <tr>\n",
       "      <th>0</th>\n",
       "      <td>0.000010</td>\n",
       "      <td>100.000000</td>\n",
       "      <td>82.000000</td>\n",
       "    </tr>\n",
       "    <tr>\n",
       "      <th>1</th>\n",
       "      <td>0.000068</td>\n",
       "      <td>100.000000</td>\n",
       "      <td>82.000000</td>\n",
       "    </tr>\n",
       "    <tr>\n",
       "      <th>2</th>\n",
       "      <td>0.000464</td>\n",
       "      <td>100.000000</td>\n",
       "      <td>82.000000</td>\n",
       "    </tr>\n",
       "    <tr>\n",
       "      <th>3</th>\n",
       "      <td>0.003162</td>\n",
       "      <td>100.000000</td>\n",
       "      <td>82.000000</td>\n",
       "    </tr>\n",
       "    <tr>\n",
       "      <th>4</th>\n",
       "      <td>0.021544</td>\n",
       "      <td>100.000000</td>\n",
       "      <td>82.000000</td>\n",
       "    </tr>\n",
       "    <tr>\n",
       "      <th>5</th>\n",
       "      <td>0.146780</td>\n",
       "      <td>100.000000</td>\n",
       "      <td>82.000000</td>\n",
       "    </tr>\n",
       "    <tr>\n",
       "      <th>6</th>\n",
       "      <td>1.000000</td>\n",
       "      <td>99.777283</td>\n",
       "      <td>82.000000</td>\n",
       "    </tr>\n",
       "    <tr>\n",
       "      <th>7</th>\n",
       "      <td>6.812921</td>\n",
       "      <td>88.641425</td>\n",
       "      <td>82.000000</td>\n",
       "    </tr>\n",
       "    <tr>\n",
       "      <th>8</th>\n",
       "      <td>46.415888</td>\n",
       "      <td>84.187082</td>\n",
       "      <td>82.000000</td>\n",
       "    </tr>\n",
       "    <tr>\n",
       "      <th>10</th>\n",
       "      <td>2154.434690</td>\n",
       "      <td>79.955457</td>\n",
       "      <td>76.666667</td>\n",
       "    </tr>\n",
       "    <tr>\n",
       "      <th>11</th>\n",
       "      <td>14677.992676</td>\n",
       "      <td>70.601336</td>\n",
       "      <td>72.000000</td>\n",
       "    </tr>\n",
       "    <tr>\n",
       "      <th>12</th>\n",
       "      <td>100000.000000</td>\n",
       "      <td>56.124722</td>\n",
       "      <td>54.666667</td>\n",
       "    </tr>\n",
       "  </tbody>\n",
       "</table>\n",
       "</div>"
      ],
      "text/plain": [
       "        smoothing       class        val\n",
       "9      316.227766   83.518931  82.666667\n",
       "0        0.000010  100.000000  82.000000\n",
       "1        0.000068  100.000000  82.000000\n",
       "2        0.000464  100.000000  82.000000\n",
       "3        0.003162  100.000000  82.000000\n",
       "4        0.021544  100.000000  82.000000\n",
       "5        0.146780  100.000000  82.000000\n",
       "6        1.000000   99.777283  82.000000\n",
       "7        6.812921   88.641425  82.000000\n",
       "8       46.415888   84.187082  82.000000\n",
       "10    2154.434690   79.955457  76.666667\n",
       "11   14677.992676   70.601336  72.000000\n",
       "12  100000.000000   56.124722  54.666667"
      ]
     },
     "execution_count": 380,
     "metadata": {},
     "output_type": "execute_result"
    }
   ],
   "source": [
    "df_rc = pd.DataFrame(columns=['smoothing','class','val'])\n",
    "for alph in np.logspace(-5,5,13):\n",
    "    rc = RidgeClassifier(alpha=alph, normalize=False)\n",
    "    rc.fit(X_train,y_train)\n",
    "    df_rc=df_rc.append(dict(zip(['smoothing','class','val'], [alph ,sum(y_train==rc.predict(X_train))/len(y_train)*100,  sum(y_val==rc.predict(X_val))/len(y_val)*100])),ignore_index=True)\n",
    "    #ConfusionMatrixDisplay.from_estimator(knn, X_val, y_val)\n",
    "df_rc.sort_values(by='val',ascending=False)\n"
   ]
  },
  {
   "cell_type": "code",
   "execution_count": 381,
   "metadata": {},
   "outputs": [
    {
     "name": "stderr",
     "output_type": "stream",
     "text": [
      "C:\\Users\\kay_t\\AppData\\Local\\Packages\\PythonSoftwareFoundation.Python.3.9_qbz5n2kfra8p0\\LocalCache\\local-packages\\Python39\\site-packages\\sklearn\\linear_model\\_base.py:148: FutureWarning: 'normalize' was deprecated in version 1.0 and will be removed in 1.2. Please leave the normalize parameter to its default value to silence this warning. The default behavior of this estimator is to not do any normalization. If normalization is needed please use sklearn.preprocessing.StandardScaler instead.\n",
      "  warnings.warn(\n"
     ]
    },
    {
     "data": {
      "text/plain": [
       "<sklearn.metrics._plot.confusion_matrix.ConfusionMatrixDisplay at 0x1c72eb1b3d0>"
      ]
     },
     "execution_count": 381,
     "metadata": {},
     "output_type": "execute_result"
    },
    {
     "data": {
      "image/png": "[encoded data removed]",
      "text/plain": [
       "<Figure size 432x288 with 2 Axes>"
      ]
     },
     "metadata": {
      "needs_background": "light"
     },
     "output_type": "display_data"
    }
   ],
   "source": [
    "rc = RidgeClassifier(alpha=400, normalize=False)\n",
    "rc.fit(X_train,y_train)\n",
    "ConfusionMatrixDisplay.from_estimator(rc, X_val, y_val)\n"
   ]
  },
  {
   "cell_type": "markdown",
   "metadata": {},
   "source": [
    "## Neural Network"
   ]
  },
  {
   "cell_type": "code",
   "execution_count": 382,
   "metadata": {},
   "outputs": [],
   "source": [
    "import tensorflow as tf\n",
    "from tensorflow import keras\n",
    "from tensorflow.keras import layers, models\n",
    "from keras.wrappers.scikit_learn import KerasClassifier"
   ]
  },
  {
   "cell_type": "code",
   "execution_count": 383,
   "metadata": {},
   "outputs": [
    {
     "name": "stderr",
     "output_type": "stream",
     "text": [
      "C:\\Users\\kay_t\\AppData\\Local\\Temp/ipykernel_50436/2751352491.py:9: DeprecationWarning: KerasClassifier is deprecated, use Sci-Keras (https://github.com/adriangb/scikeras) instead.\n",
      "  kr = KerasClassifier(build_fn=build_model)\n"
     ]
    }
   ],
   "source": [
    "def build_model(optimizer='adam', init='normal'):\n",
    "    model = models.Sequential()\n",
    "    model.add(layers.Dense(9,use_bias=True, kernel_initializer=init))\n",
    "    model.add(layers.LayerNormalization(axis=1))\n",
    "    model.add(layers.Dense(6, activation='softmax'))\n",
    "    #model.compile(loss='mean_squared_error', optimizer='adam')\n",
    "    model.compile(loss='categorical_crossentropy', optimizer=optimizer, metrics=['accuracy'])\n",
    "    return model\n",
    "kr = KerasClassifier(build_fn=build_model)"
   ]
  },
  {
   "cell_type": "code",
   "execution_count": 512,
   "metadata": {},
   "outputs": [
    {
     "name": "stderr",
     "output_type": "stream",
     "text": [
      "C:\\Users\\kay_t\\AppData\\Local\\Temp/ipykernel_50436/2603338624.py:1: DeprecationWarning: KerasClassifier is deprecated, use Sci-Keras (https://github.com/adriangb/scikeras) instead.\n",
      "  kr2 = make_pipeline(RobustScaler(),KerasClassifier(build_fn=build_model,epochs=300,batch_size=20,verbose=False))\n"
     ]
    },
    {
     "data": {
      "text/plain": [
       "[100.0, 87.33333333333333]"
      ]
     },
     "execution_count": 512,
     "metadata": {},
     "output_type": "execute_result"
    },
    {
     "data": {
      "image/png": "[encoded data removed]",
      "text/plain": [
       "<Figure size 432x288 with 2 Axes>"
      ]
     },
     "metadata": {
      "needs_background": "light"
     },
     "output_type": "display_data"
    }
   ],
   "source": [
    "kr2 = make_pipeline(RobustScaler(),KerasClassifier(build_fn=build_model,epochs=300,batch_size=20,verbose=False))\n",
    "kr2.fit(X_train,y_train)\n",
    "ConfusionMatrixDisplay.from_predictions(y_val,kr2.predict(X_val))\n",
    "[sum(y_train==kr2.predict(X_train))/len(y_train)*100,  sum(y_val==kr2.predict(X_val))/len(y_val)*100]"
   ]
  },
  {
   "cell_type": "code",
   "execution_count": 337,
   "metadata": {},
   "outputs": [],
   "source": [
    "from sklearn.model_selection import GridSearchCV"
   ]
  },
  {
   "cell_type": "code",
   "execution_count": 513,
   "metadata": {},
   "outputs": [
    {
     "name": "stderr",
     "output_type": "stream",
     "text": [
      "C:\\Users\\kay_t\\AppData\\Local\\Temp/ipykernel_50436/1217269252.py:1: DeprecationWarning: KerasClassifier is deprecated, use Sci-Keras (https://github.com/adriangb/scikeras) instead.\n",
      "  model = KerasClassifier(build_fn=build_model,verbose=1)\n"
     ]
    },
    {
     "name": "stdout",
     "output_type": "stream",
     "text": [
      "23/23 [==============================] - 1s 1ms/step - loss: 1.8910 - accuracy: 0.1504\n",
      "6/6 [==============================] - 0s 1ms/step - loss: 1.5541 - accuracy: 0.5000\n",
      "23/23 [==============================] - 1s 1ms/step - loss: 1.5743 - accuracy: 0.5097\n",
      "6/6 [==============================] - 0s 1ms/step - loss: 1.2800 - accuracy: 0.6111\n",
      "23/23 [==============================] - 1s 1ms/step - loss: 1.6271 - accuracy: 0.3203\n",
      "6/6 [==============================] - 0s 1ms/step - loss: 1.4907 - accuracy: 0.4889\n",
      "23/23 [==============================] - 1s 1ms/step - loss: 1.5957 - accuracy: 0.5209\n",
      "6/6 [==============================] - 0s 1ms/step - loss: 1.4040 - accuracy: 0.5667\n",
      "23/23 [==============================] - 1s 1ms/step - loss: 2.1396 - accuracy: 0.0861 \n",
      "6/6 [==============================] - 0s 1ms/step - loss: 1.8429 - accuracy: 0.1461\n",
      "23/23 [==============================] - 3s 1ms/step - loss: 1.9130 - accuracy: 0.1365\n",
      "6/6 [==============================] - 0s 1ms/step - loss: 1.7029 - accuracy: 0.1556\n",
      "23/23 [==============================] - 0s 1ms/step - loss: 1.5778 - accuracy: 0.5097\n",
      "6/6 [==============================] - 0s 1ms/step - loss: 1.4434 - accuracy: 0.6111\n",
      "23/23 [==============================] - 1s 1ms/step - loss: 1.9608 - accuracy: 0.2953\n",
      "6/6 [==============================] - 0s 1ms/step - loss: 1.8881 - accuracy: 0.4889\n",
      "23/23 [==============================] - 0s 1ms/step - loss: 1.7366 - accuracy: 0.1337\n",
      "6/6 [==============================] - 0s 1ms/step - loss: 1.5920 - accuracy: 0.1222\n",
      "23/23 [==============================] - 0s 1ms/step - loss: 2.0017 - accuracy: 0.0944\n",
      "6/6 [==============================] - 0s 1ms/step - loss: 1.7341 - accuracy: 0.1011\n",
      "23/23 [==============================] - 1s 1ms/step - loss: 1.6739 - accuracy: 0.4345\n",
      "6/6 [==============================] - 0s 1ms/step - loss: 1.5051 - accuracy: 0.5000\n",
      "23/23 [==============================] - 1s 1ms/step - loss: 2.0688 - accuracy: 0.1588\n",
      "6/6 [==============================] - 0s 1ms/step - loss: 1.5664 - accuracy: 0.4333\n",
      "23/23 [==============================] - 1s 1ms/step - loss: 1.9246 - accuracy: 0.2451 \n",
      "6/6 [==============================] - 0s 1ms/step - loss: 1.6468 - accuracy: 0.4889\n",
      "23/23 [==============================] - 1s 1ms/step - loss: 2.6440 - accuracy: 0.0251\n",
      "6/6 [==============================] - 0s 1ms/step - loss: 1.9556 - accuracy: 0.0556\n",
      "23/23 [==============================] - 1s 1ms/step - loss: 2.5291 - accuracy: 0.1278\n",
      "6/6 [==============================] - 0s 1ms/step - loss: 1.8534 - accuracy: 0.1461\n",
      "23/23 [==============================] - 0s 1ms/step - loss: 1.4468 - accuracy: 0.5292\n",
      "6/6 [==============================] - 0s 1ms/step - loss: 1.4676 - accuracy: 0.5000\n",
      "23/23 [==============================] - 0s 1ms/step - loss: 1.7972 - accuracy: 0.3510\n",
      "6/6 [==============================] - 0s 1ms/step - loss: 1.3602 - accuracy: 0.6111\n",
      "23/23 [==============================] - 0s 1ms/step - loss: 1.4630 - accuracy: 0.5097\n",
      "6/6 [==============================] - 0s 1ms/step - loss: 1.4587 - accuracy: 0.4889\n",
      "23/23 [==============================] - 0s 2ms/step - loss: 1.4810 - accuracy: 0.5153\n",
      "6/6 [==============================] - 0s 1ms/step - loss: 1.3436 - accuracy: 0.5667\n",
      "23/23 [==============================] - 0s 1ms/step - loss: 1.6154 - accuracy: 0.4361\n",
      "6/6 [==============================] - 0s 1ms/step - loss: 1.4920 - accuracy: 0.4831\n",
      "23/23 [==============================] - 0s 1ms/step - loss: 1.5083 - accuracy: 0.4457\n",
      "6/6 [==============================] - 0s 1ms/step - loss: 1.4008 - accuracy: 0.5000\n",
      "23/23 [==============================] - 0s 1ms/step - loss: 1.6541 - accuracy: 0.4262\n",
      "6/6 [==============================] - 0s 1ms/step - loss: 1.2928 - accuracy: 0.6111\n",
      "23/23 [==============================] - 0s 1ms/step - loss: 1.5587 - accuracy: 0.5348\n",
      "6/6 [==============================] - 0s 1ms/step - loss: 1.5957 - accuracy: 0.4889\n",
      "23/23 [==============================] - 0s 1ms/step - loss: 1.5475 - accuracy: 0.4540\n",
      "6/6 [==============================] - 0s 2ms/step - loss: 1.3911 - accuracy: 0.5667\n",
      "23/23 [==============================] - 0s 1ms/step - loss: 2.0674 - accuracy: 0.2389\n",
      "6/6 [==============================] - 0s 1ms/step - loss: 1.7706 - accuracy: 0.4831\n",
      "23/23 [==============================] - 0s 1ms/step - loss: 1.7084 - accuracy: 0.2033\n",
      "6/6 [==============================] - 0s 1ms/step - loss: 1.6143 - accuracy: 0.5000\n",
      "23/23 [==============================] - 0s 1ms/step - loss: 1.7450 - accuracy: 0.2117\n",
      "6/6 [==============================] - 0s 1ms/step - loss: 1.5013 - accuracy: 0.6111\n",
      "23/23 [==============================] - 0s 1ms/step - loss: 2.8229 - accuracy: 0.0195\n",
      "6/6 [==============================] - 0s 1ms/step - loss: 2.4491 - accuracy: 0.0222\n",
      "23/23 [==============================] - 0s 1ms/step - loss: 2.2246 - accuracy: 0.1309\n",
      "6/6 [==============================] - 0s 1ms/step - loss: 1.9648 - accuracy: 0.1444\n",
      "23/23 [==============================] - 0s 1ms/step - loss: 1.8421 - accuracy: 0.2750\n",
      "6/6 [==============================] - 0s 1ms/step - loss: 1.8718 - accuracy: 0.4831\n",
      "23/23 [==============================] - 1s 2ms/step - loss: 1.5611 - accuracy: 0.5376\n",
      "6/6 [==============================] - 0s 1ms/step - loss: 1.5174 - accuracy: 0.5000\n",
      "23/23 [==============================] - 1s 1ms/step - loss: 1.8744 - accuracy: 0.1031\n",
      "6/6 [==============================] - 0s 1ms/step - loss: 1.5294 - accuracy: 0.6111\n",
      "23/23 [==============================] - 1s 1ms/step - loss: 1.4909 - accuracy: 0.5404\n",
      "6/6 [==============================] - 0s 1ms/step - loss: 1.4988 - accuracy: 0.4889\n",
      "23/23 [==============================] - 1s 1ms/step - loss: 1.5208 - accuracy: 0.5209\n",
      "6/6 [==============================] - 0s 1ms/step - loss: 1.3534 - accuracy: 0.5667\n",
      "23/23 [==============================] - 1s 1ms/step - loss: 1.4014 - accuracy: 0.5417\n",
      "6/6 [==============================] - 0s 1ms/step - loss: 1.5114 - accuracy: 0.4831\n",
      "23/23 [==============================] - 1s 2ms/step - loss: 1.5080 - accuracy: 0.5014\n",
      "6/6 [==============================] - 0s 1ms/step - loss: 1.4514 - accuracy: 0.5000\n",
      "23/23 [==============================] - 0s 1ms/step - loss: 1.5668 - accuracy: 0.4847\n",
      "6/6 [==============================] - 0s 2ms/step - loss: 1.1908 - accuracy: 0.6111\n",
      "23/23 [==============================] - 0s 2ms/step - loss: 1.5201 - accuracy: 0.4735\n",
      "6/6 [==============================] - 0s 1ms/step - loss: 1.5016 - accuracy: 0.4889\n",
      "23/23 [==============================] - 0s 1ms/step - loss: 1.4413 - accuracy: 0.5125\n",
      "6/6 [==============================] - 0s 1ms/step - loss: 1.3103 - accuracy: 0.5667\n",
      "23/23 [==============================] - 0s 1ms/step - loss: 1.5313 - accuracy: 0.4944\n",
      "6/6 [==============================] - 0s 1ms/step - loss: 1.5827 - accuracy: 0.4831\n",
      "23/23 [==============================] - 1s 1ms/step - loss: 2.1356 - accuracy: 0.1866\n",
      "6/6 [==============================] - 0s 1ms/step - loss: 1.5233 - accuracy: 0.4889\n",
      "23/23 [==============================] - 0s 1ms/step - loss: 1.5175 - accuracy: 0.4067\n",
      "6/6 [==============================] - 0s 1ms/step - loss: 1.3106 - accuracy: 0.6111\n",
      "23/23 [==============================] - 0s 1ms/step - loss: 2.3416 - accuracy: 0.0557\n",
      "6/6 [==============================] - 0s 1ms/step - loss: 1.8182 - accuracy: 0.2000\n",
      "23/23 [==============================] - 0s 2ms/step - loss: 1.6428 - accuracy: 0.3705\n",
      "6/6 [==============================] - 0s 1ms/step - loss: 1.3506 - accuracy: 0.5667\n",
      "23/23 [==============================] - 1s 2ms/step - loss: 2.4252 - accuracy: 0.1111\n",
      "6/6 [==============================] - 0s 1ms/step - loss: 1.6450 - accuracy: 0.4831\n",
      "23/23 [==============================] - 0s 1ms/step - loss: 1.8234 - accuracy: 0.2674\n",
      "6/6 [==============================] - 0s 1ms/step - loss: 1.5656 - accuracy: 0.5000\n",
      "23/23 [==============================] - 0s 1ms/step - loss: 1.6255 - accuracy: 0.3370\n",
      "6/6 [==============================] - 0s 1ms/step - loss: 1.3198 - accuracy: 0.6111\n",
      "23/23 [==============================] - 0s 1ms/step - loss: 2.1661 - accuracy: 0.1560\n",
      "6/6 [==============================] - 0s 1ms/step - loss: 1.9035 - accuracy: 0.0667\n",
      "23/23 [==============================] - 1s 2ms/step - loss: 1.8808 - accuracy: 0.1699\n",
      "6/6 [==============================] - 0s 1ms/step - loss: 1.6337 - accuracy: 0.5667\n",
      "23/23 [==============================] - 1s 1ms/step - loss: 1.8093 - accuracy: 0.3361\n",
      "6/6 [==============================] - 0s 1ms/step - loss: 1.5411 - accuracy: 0.4831\n",
      "23/23 [==============================] - 1s 2ms/step - loss: 1.8317 - accuracy: 0.2173 \n",
      "6/6 [==============================] - 0s 1ms/step - loss: 1.7461 - accuracy: 0.5000\n",
      "23/23 [==============================] - 1s 1ms/step - loss: 1.4490 - accuracy: 0.5097\n",
      "6/6 [==============================] - 0s 1ms/step - loss: 1.2142 - accuracy: 0.6111\n",
      "23/23 [==============================] - 1s 2ms/step - loss: 1.6255 - accuracy: 0.3315\n",
      "6/6 [==============================] - 0s 1ms/step - loss: 1.5100 - accuracy: 0.4889\n",
      "23/23 [==============================] - 1s 2ms/step - loss: 1.5007 - accuracy: 0.4875\n",
      "6/6 [==============================] - 0s 1ms/step - loss: 1.3210 - accuracy: 0.5667\n",
      "23/23 [==============================] - 2s 1ms/step - loss: 1.6310 - accuracy: 0.4806\n",
      "6/6 [==============================] - 0s 1ms/step - loss: 1.5462 - accuracy: 0.4831\n",
      "23/23 [==============================] - 0s 1ms/step - loss: 1.4366 - accuracy: 0.5181\n",
      "6/6 [==============================] - 0s 1ms/step - loss: 1.4380 - accuracy: 0.5000\n",
      "23/23 [==============================] - 0s 1ms/step - loss: 1.5495 - accuracy: 0.4401\n",
      "6/6 [==============================] - 0s 1ms/step - loss: 1.3973 - accuracy: 0.6111\n",
      "23/23 [==============================] - 0s 1ms/step - loss: 1.4478 - accuracy: 0.5125\n",
      "6/6 [==============================] - 0s 1ms/step - loss: 1.5006 - accuracy: 0.4889\n",
      "23/23 [==============================] - 0s 1ms/step - loss: 1.4462 - accuracy: 0.5042\n",
      "6/6 [==============================] - 0s 1ms/step - loss: 1.3410 - accuracy: 0.5667\n",
      "23/23 [==============================] - 0s 1ms/step - loss: 1.4304 - accuracy: 0.5306\n",
      "6/6 [==============================] - 0s 1ms/step - loss: 1.4837 - accuracy: 0.4831\n",
      "23/23 [==============================] - 1s 3ms/step - loss: 1.4804 - accuracy: 0.4680\n",
      "6/6 [==============================] - 0s 1ms/step - loss: 1.4901 - accuracy: 0.5000\n",
      "23/23 [==============================] - 1s 3ms/step - loss: 1.4893 - accuracy: 0.5097\n",
      "6/6 [==============================] - 0s 1ms/step - loss: 1.3681 - accuracy: 0.6111\n",
      "23/23 [==============================] - 1s 1ms/step - loss: 1.5265 - accuracy: 0.4708\n",
      "6/6 [==============================] - 0s 1ms/step - loss: 1.4754 - accuracy: 0.4889\n",
      "23/23 [==============================] - 0s 1ms/step - loss: 1.9141 - accuracy: 0.2340\n",
      "6/6 [==============================] - 0s 1ms/step - loss: 1.4908 - accuracy: 0.5667\n",
      "23/23 [==============================] - 0s 1ms/step - loss: 1.7739 - accuracy: 0.3778\n",
      "6/6 [==============================] - 0s 1ms/step - loss: 1.5614 - accuracy: 0.4831\n",
      "23/23 [==============================] - 0s 1ms/step - loss: 1.4442 - accuracy: 0.5376\n",
      "6/6 [==============================] - 0s 1ms/step - loss: 1.4665 - accuracy: 0.5000\n",
      "23/23 [==============================] - 0s 1ms/step - loss: 1.8369 - accuracy: 0.2033\n",
      "6/6 [==============================] - 0s 1ms/step - loss: 1.3828 - accuracy: 0.6111\n",
      "23/23 [==============================] - 0s 1ms/step - loss: 1.8272 - accuracy: 0.5404\n",
      "6/6 [==============================] - 0s 1ms/step - loss: 1.8805 - accuracy: 0.4889\n",
      "23/23 [==============================] - 0s 1ms/step - loss: 1.8792 - accuracy: 0.0891\n",
      "6/6 [==============================] - 0s 1ms/step - loss: 1.6579 - accuracy: 0.1000\n",
      "23/23 [==============================] - 0s 1ms/step - loss: 1.7764 - accuracy: 0.2194\n",
      "6/6 [==============================] - 0s 1ms/step - loss: 1.5955 - accuracy: 0.4831\n",
      "23/23 [==============================] - 1s 1ms/step - loss: 1.4628 - accuracy: 0.5097\n",
      "6/6 [==============================] - 0s 1ms/step - loss: 1.4370 - accuracy: 0.5000\n",
      "23/23 [==============================] - 1s 1ms/step - loss: 1.6598 - accuracy: 0.4011\n",
      "6/6 [==============================] - 0s 1ms/step - loss: 1.2494 - accuracy: 0.6111\n",
      "23/23 [==============================] - 1s 1ms/step - loss: 1.7849 - accuracy: 0.3482\n",
      "6/6 [==============================] - 0s 1ms/step - loss: 1.5123 - accuracy: 0.4889\n",
      "23/23 [==============================] - 1s 1ms/step - loss: 1.4445 - accuracy: 0.5125\n",
      "6/6 [==============================] - 0s 1ms/step - loss: 1.3341 - accuracy: 0.5667\n",
      "23/23 [==============================] - 1s 2ms/step - loss: 2.6132 - accuracy: 0.1250\n",
      "6/6 [==============================] - 0s 1ms/step - loss: 1.8104 - accuracy: 0.1348\n",
      "23/23 [==============================] - 0s 2ms/step - loss: 1.4727 - accuracy: 0.5376\n",
      "6/6 [==============================] - 0s 1ms/step - loss: 1.4492 - accuracy: 0.5000\n",
      "23/23 [==============================] - 0s 1ms/step - loss: 1.5178 - accuracy: 0.4875\n",
      "6/6 [==============================] - 0s 1ms/step - loss: 1.3186 - accuracy: 0.6111\n",
      "23/23 [==============================] - 0s 1ms/step - loss: 1.7225 - accuracy: 0.5153\n",
      "6/6 [==============================] - 0s 1ms/step - loss: 1.4614 - accuracy: 0.4889\n",
      "23/23 [==============================] - 0s 1ms/step - loss: 1.6039 - accuracy: 0.4930\n",
      "6/6 [==============================] - 0s 1ms/step - loss: 1.3708 - accuracy: 0.5667\n",
      "23/23 [==============================] - 0s 1ms/step - loss: 1.4008 - accuracy: 0.5250\n",
      "6/6 [==============================] - 0s 2ms/step - loss: 1.4514 - accuracy: 0.4831\n",
      "23/23 [==============================] - 2s 1ms/step - loss: 2.5910 - accuracy: 0.0891 \n",
      "6/6 [==============================] - 0s 1ms/step - loss: 1.8559 - accuracy: 0.1222\n",
      "23/23 [==============================] - 1s 1ms/step - loss: 1.5451 - accuracy: 0.4039\n",
      "6/6 [==============================] - 0s 1ms/step - loss: 1.3042 - accuracy: 0.6111\n",
      "23/23 [==============================] - 0s 1ms/step - loss: 1.6425 - accuracy: 0.5348\n",
      "6/6 [==============================] - 0s 1ms/step - loss: 1.5708 - accuracy: 0.4889\n",
      "23/23 [==============================] - 0s 1ms/step - loss: 1.4236 - accuracy: 0.5209\n",
      "6/6 [==============================] - 0s 1ms/step - loss: 1.3225 - accuracy: 0.5667\n",
      "23/23 [==============================] - 0s 1ms/step - loss: 2.4398 - accuracy: 0.0944\n",
      "6/6 [==============================] - 0s 1ms/step - loss: 1.9258 - accuracy: 0.1011\n",
      "23/23 [==============================] - 0s 1ms/step - loss: 2.4209 - accuracy: 0.0641\n",
      "6/6 [==============================] - 0s 1ms/step - loss: 1.9465 - accuracy: 0.0556\n",
      "23/23 [==============================] - 0s 1ms/step - loss: 2.3566 - accuracy: 0.0836\n",
      "6/6 [==============================] - 0s 1ms/step - loss: 2.0570 - accuracy: 0.0222\n",
      "23/23 [==============================] - 0s 1ms/step - loss: 2.5968 - accuracy: 0.0669 \n",
      "6/6 [==============================] - 0s 1ms/step - loss: 1.9687 - accuracy: 0.0444\n",
      "23/23 [==============================] - 0s 1ms/step - loss: 1.6129 - accuracy: 0.4624\n",
      "6/6 [==============================] - 0s 1ms/step - loss: 1.4324 - accuracy: 0.5667\n",
      "23/23 [==============================] - 0s 1ms/step - loss: 1.4916 - accuracy: 0.4972\n",
      "6/6 [==============================] - 0s 1ms/step - loss: 1.5111 - accuracy: 0.4831\n",
      "23/23 [==============================] - 1s 2ms/step - loss: 1.6499 - accuracy: 0.4986\n",
      "6/6 [==============================] - 0s 1ms/step - loss: 1.4034 - accuracy: 0.5000\n",
      "23/23 [==============================] - 1s 1ms/step - loss: 1.5330 - accuracy: 0.5097\n",
      "6/6 [==============================] - 0s 1ms/step - loss: 1.2746 - accuracy: 0.6111\n",
      "23/23 [==============================] - 1s 1ms/step - loss: 1.4981 - accuracy: 0.5432\n",
      "6/6 [==============================] - 0s 1ms/step - loss: 1.4671 - accuracy: 0.4889\n",
      "23/23 [==============================] - 1s 1ms/step - loss: 1.5156 - accuracy: 0.5209\n",
      "6/6 [==============================] - 0s 1ms/step - loss: 1.3503 - accuracy: 0.5667\n",
      "23/23 [==============================] - 1s 1ms/step - loss: 1.7290 - accuracy: 0.3583\n",
      "6/6 [==============================] - 0s 2ms/step - loss: 1.5812 - accuracy: 0.4831\n",
      "23/23 [==============================] - 0s 1ms/step - loss: 1.5010 - accuracy: 0.5125\n",
      "6/6 [==============================] - 0s 1ms/step - loss: 1.4610 - accuracy: 0.5000\n",
      "23/23 [==============================] - 0s 1ms/step - loss: 1.5952 - accuracy: 0.4624\n",
      "6/6 [==============================] - 0s 1ms/step - loss: 1.3827 - accuracy: 0.6111\n",
      "23/23 [==============================] - 0s 1ms/step - loss: 1.3878 - accuracy: 0.5265\n",
      "6/6 [==============================] - 0s 1ms/step - loss: 1.4553 - accuracy: 0.4889\n",
      "23/23 [==============================] - 0s 1ms/step - loss: 1.5418 - accuracy: 0.5014\n",
      "6/6 [==============================] - 0s 1ms/step - loss: 1.3526 - accuracy: 0.5667\n",
      "23/23 [==============================] - 0s 1ms/step - loss: 1.4227 - accuracy: 0.5306\n",
      "6/6 [==============================] - 0s 1ms/step - loss: 1.5437 - accuracy: 0.4831\n",
      "23/23 [==============================] - 1s 1ms/step - loss: 1.7717 - accuracy: 0.2786\n",
      "6/6 [==============================] - 0s 1ms/step - loss: 1.6229 - accuracy: 0.5000\n",
      "23/23 [==============================] - 0s 1ms/step - loss: 1.6937 - accuracy: 0.2396\n",
      "6/6 [==============================] - 0s 1ms/step - loss: 1.2838 - accuracy: 0.6111\n",
      "23/23 [==============================] - 0s 1ms/step - loss: 1.9478 - accuracy: 0.1421\n",
      "6/6 [==============================] - 0s 1ms/step - loss: 1.6426 - accuracy: 0.1556\n",
      "23/23 [==============================] - 1s 2ms/step - loss: 1.5450 - accuracy: 0.3816\n",
      "6/6 [==============================] - 0s 1ms/step - loss: 1.3227 - accuracy: 0.5667\n",
      "23/23 [==============================] - 0s 1ms/step - loss: 2.9033 - accuracy: 0.0194\n",
      "6/6 [==============================] - 0s 1ms/step - loss: 2.3226 - accuracy: 0.0225\n",
      "23/23 [==============================] - 0s 1ms/step - loss: 2.4283 - accuracy: 0.0223\n",
      "6/6 [==============================] - 0s 1ms/step - loss: 1.9781 - accuracy: 0.0111\n",
      "23/23 [==============================] - 0s 1ms/step - loss: 1.7628 - accuracy: 0.1643\n",
      "6/6 [==============================] - 0s 1ms/step - loss: 1.4565 - accuracy: 0.3778\n",
      "23/23 [==============================] - 0s 1ms/step - loss: 1.9923 - accuracy: 0.0864\n",
      "6/6 [==============================] - 0s 1ms/step - loss: 1.7356 - accuracy: 0.1333\n",
      "23/23 [==============================] - 0s 2ms/step - loss: 1.6969 - accuracy: 0.3788 \n",
      "6/6 [==============================] - 0s 1ms/step - loss: 1.5507 - accuracy: 0.5667\n",
      "23/23 [==============================] - 0s 1ms/step - loss: 2.1374 - accuracy: 0.1611\n",
      "6/6 [==============================] - 0s 1ms/step - loss: 1.7841 - accuracy: 0.1573\n",
      "23/23 [==============================] - 1s 1ms/step - loss: 1.6945 - accuracy: 0.4596\n",
      "6/6 [==============================] - 0s 1ms/step - loss: 1.5073 - accuracy: 0.5000\n",
      "23/23 [==============================] - 1s 1ms/step - loss: 1.9757 - accuracy: 0.1643 \n",
      "6/6 [==============================] - 0s 1ms/step - loss: 1.5111 - accuracy: 0.1556\n",
      "23/23 [==============================] - 1s 1ms/step - loss: 1.5537 - accuracy: 0.4513\n",
      "6/6 [==============================] - 0s 1ms/step - loss: 1.4954 - accuracy: 0.4889\n",
      "23/23 [==============================] - 1s 1ms/step - loss: 1.9712 - accuracy: 0.2423\n",
      "6/6 [==============================] - 0s 1ms/step - loss: 1.4659 - accuracy: 0.5667\n",
      "23/23 [==============================] - 1s 1ms/step - loss: 1.4019 - accuracy: 0.5250\n",
      "6/6 [==============================] - 0s 1ms/step - loss: 1.4655 - accuracy: 0.4831\n",
      "23/23 [==============================] - 0s 1ms/step - loss: 1.5200 - accuracy: 0.4735\n",
      "6/6 [==============================] - 0s 1ms/step - loss: 1.5307 - accuracy: 0.5000\n",
      "23/23 [==============================] - 0s 1ms/step - loss: 1.4853 - accuracy: 0.4791\n",
      "6/6 [==============================] - 0s 1ms/step - loss: 1.3142 - accuracy: 0.6111\n",
      "23/23 [==============================] - 0s 1ms/step - loss: 1.5457 - accuracy: 0.5181\n",
      "6/6 [==============================] - 0s 1ms/step - loss: 1.5175 - accuracy: 0.4889\n",
      "23/23 [==============================] - 0s 1ms/step - loss: 1.5144 - accuracy: 0.5042\n",
      "6/6 [==============================] - 0s 1ms/step - loss: 1.3454 - accuracy: 0.5667\n",
      "23/23 [==============================] - 0s 1ms/step - loss: 1.6430 - accuracy: 0.4889\n",
      "6/6 [==============================] - 0s 1ms/step - loss: 1.5908 - accuracy: 0.4831\n",
      "12/12 [==============================] - 0s 1ms/step - loss: 2.7001 - accuracy: 0.0223\n",
      "3/3 [==============================] - 0s 2ms/step - loss: 2.2896 - accuracy: 0.0667\n",
      "12/12 [==============================] - 0s 1ms/step - loss: 3.0869 - accuracy: 0.1448\n",
      "3/3 [==============================] - 0s 2ms/step - loss: 2.8447 - accuracy: 0.0778\n",
      "12/12 [==============================] - 0s 3ms/step - loss: 2.8257 - accuracy: 0.1253\n",
      "3/3 [==============================] - 0s 1ms/step - loss: 2.3753 - accuracy: 0.1556\n",
      "12/12 [==============================] - 0s 2ms/step - loss: 2.5912 - accuracy: 0.1337\n",
      "3/3 [==============================] - 0s 2ms/step - loss: 2.2996 - accuracy: 0.1222\n",
      "12/12 [==============================] - 0s 1ms/step - loss: 1.5438 - accuracy: 0.4889\n",
      "3/3 [==============================] - 0s 2ms/step - loss: 1.5329 - accuracy: 0.4831\n",
      "12/12 [==============================] - 0s 2ms/step - loss: 3.0459 - accuracy: 0.1226\n",
      "3/3 [==============================] - 0s 3ms/step - loss: 2.7048 - accuracy: 0.1222\n",
      "12/12 [==============================] - 0s 2ms/step - loss: 2.4059 - accuracy: 0.1532\n",
      "3/3 [==============================] - 0s 1ms/step - loss: 2.2792 - accuracy: 0.1889\n",
      "12/12 [==============================] - 0s 1ms/step - loss: 1.5981 - accuracy: 0.5404\n",
      "3/3 [==============================] - 0s 2ms/step - loss: 1.5692 - accuracy: 0.4889\n",
      "12/12 [==============================] - 0s 1ms/step - loss: 1.9082 - accuracy: 0.1643\n",
      "3/3 [==============================] - 0s 2ms/step - loss: 1.7393 - accuracy: 0.1444\n",
      "12/12 [==============================] - 0s 1ms/step - loss: 3.2975 - accuracy: 0.0944\n",
      "3/3 [==============================] - 0s 1ms/step - loss: 2.9524 - accuracy: 0.1011\n",
      "12/12 [==============================] - 2s 1ms/step - loss: 2.7989 - accuracy: 0.0641\n",
      "3/3 [==============================] - 0s 2ms/step - loss: 2.4412 - accuracy: 0.0889\n",
      "12/12 [==============================] - 1s 2ms/step - loss: 2.4907 - accuracy: 0.1532\n",
      "3/3 [==============================] - 0s 2ms/step - loss: 1.9182 - accuracy: 0.1889\n",
      "12/12 [==============================] - 1s 2ms/step - loss: 1.9074 - accuracy: 0.0669\n",
      "3/3 [==============================] - 0s 2ms/step - loss: 1.7341 - accuracy: 0.0111\n",
      "12/12 [==============================] - 1s 2ms/step - loss: 1.6120 - accuracy: 0.2591\n",
      "3/3 [==============================] - 0s 1ms/step - loss: 1.3715 - accuracy: 0.5667\n",
      "12/12 [==============================] - 1s 2ms/step - loss: 1.6296 - accuracy: 0.1611\n",
      "3/3 [==============================] - 0s 1ms/step - loss: 1.5695 - accuracy: 0.3596\n",
      "12/12 [==============================] - 0s 1ms/step - loss: 1.4890 - accuracy: 0.5070\n",
      "3/3 [==============================] - 0s 1ms/step - loss: 1.6807 - accuracy: 0.1222\n",
      "12/12 [==============================] - 0s 1ms/step - loss: 1.7117 - accuracy: 0.4373\n",
      "3/3 [==============================] - 0s 2ms/step - loss: 1.2804 - accuracy: 0.6111\n",
      "12/12 [==============================] - 0s 2ms/step - loss: 1.4023 - accuracy: 0.5404\n",
      "3/3 [==============================] - 0s 1ms/step - loss: 1.4558 - accuracy: 0.4889\n",
      "12/12 [==============================] - 0s 1ms/step - loss: 1.4751 - accuracy: 0.4791\n",
      "3/3 [==============================] - 0s 1ms/step - loss: 1.3852 - accuracy: 0.5667\n",
      "12/12 [==============================] - 0s 1ms/step - loss: 1.4788 - accuracy: 0.5361\n",
      "3/3 [==============================] - 0s 1ms/step - loss: 1.4996 - accuracy: 0.4831\n",
      "12/12 [==============================] - 0s 1ms/step - loss: 1.4125 - accuracy: 0.5376\n",
      "3/3 [==============================] - 0s 2ms/step - loss: 1.3768 - accuracy: 0.5000\n",
      "12/12 [==============================] - 0s 2ms/step - loss: 1.4476 - accuracy: 0.5097\n",
      "3/3 [==============================] - 0s 2ms/step - loss: 1.3382 - accuracy: 0.6111\n",
      "12/12 [==============================] - 0s 2ms/step - loss: 1.6314 - accuracy: 0.4318\n",
      "3/3 [==============================] - 0s 2ms/step - loss: 1.5684 - accuracy: 0.4889\n",
      "12/12 [==============================] - 0s 2ms/step - loss: 1.6680 - accuracy: 0.1922\n",
      "3/3 [==============================] - 0s 2ms/step - loss: 1.4439 - accuracy: 0.5667\n",
      "12/12 [==============================] - 0s 1ms/step - loss: 2.2203 - accuracy: 0.0944\n",
      "3/3 [==============================] - 0s 2ms/step - loss: 1.9848 - accuracy: 0.1011\n",
      "12/12 [==============================] - 0s 1ms/step - loss: 1.4840 - accuracy: 0.5042\n",
      "3/3 [==============================] - 0s 2ms/step - loss: 1.5117 - accuracy: 0.5000\n",
      "12/12 [==============================] - 0s 2ms/step - loss: 2.5182 - accuracy: 0.0585\n",
      "3/3 [==============================] - 0s 2ms/step - loss: 2.1539 - accuracy: 0.0778\n",
      "12/12 [==============================] - 0s 1ms/step - loss: 1.5382 - accuracy: 0.5515\n",
      "3/3 [==============================] - 0s 2ms/step - loss: 1.4626 - accuracy: 0.4889\n",
      "12/12 [==============================] - 0s 1ms/step - loss: 2.4161 - accuracy: 0.0669\n",
      "3/3 [==============================] - 0s 2ms/step - loss: 2.1303 - accuracy: 0.0444\n",
      "12/12 [==============================] - 0s 1ms/step - loss: 1.9264 - accuracy: 0.0833\n",
      "3/3 [==============================] - 0s 2ms/step - loss: 1.7633 - accuracy: 0.4831\n",
      "12/12 [==============================] - 1s 1ms/step - loss: 1.5738 - accuracy: 0.5376\n",
      "3/3 [==============================] - 0s 2ms/step - loss: 1.5114 - accuracy: 0.5000\n",
      "12/12 [==============================] - 1s 2ms/step - loss: 2.7068 - accuracy: 0.1142\n",
      "3/3 [==============================] - 0s 1ms/step - loss: 2.5259 - accuracy: 0.0222\n",
      "12/12 [==============================] - 1s 2ms/step - loss: 1.4384 - accuracy: 0.5181\n",
      "3/3 [==============================] - 0s 1ms/step - loss: 1.4952 - accuracy: 0.4889\n",
      "12/12 [==============================] - 1s 2ms/step - loss: 1.4417 - accuracy: 0.5209\n",
      "3/3 [==============================] - 0s 2ms/step - loss: 1.3490 - accuracy: 0.5667\n",
      "12/12 [==============================] - 1s 2ms/step - loss: 1.3818 - accuracy: 0.5417\n",
      "3/3 [==============================] - 0s 2ms/step - loss: 1.4649 - accuracy: 0.4831\n",
      "12/12 [==============================] - 1s 1ms/step - loss: 1.6255 - accuracy: 0.4039\n",
      "3/3 [==============================] - 0s 1ms/step - loss: 1.4479 - accuracy: 0.5000\n",
      "12/12 [==============================] - 0s 1ms/step - loss: 1.6968 - accuracy: 0.4290\n",
      "3/3 [==============================] - 0s 2ms/step - loss: 1.3517 - accuracy: 0.6111\n",
      "12/12 [==============================] - 0s 1ms/step - loss: 1.4114 - accuracy: 0.4875\n",
      "3/3 [==============================] - 0s 1ms/step - loss: 1.4748 - accuracy: 0.4889\n",
      "12/12 [==============================] - 0s 1ms/step - loss: 1.6203 - accuracy: 0.4763\n",
      "3/3 [==============================] - 0s 2ms/step - loss: 1.3677 - accuracy: 0.5667\n",
      "12/12 [==============================] - 0s 2ms/step - loss: 1.5082 - accuracy: 0.5083\n",
      "3/3 [==============================] - 0s 2ms/step - loss: 1.6369 - accuracy: 0.4831\n",
      "12/12 [==============================] - 0s 1ms/step - loss: 2.2993 - accuracy: 0.1811\n",
      "3/3 [==============================] - 0s 2ms/step - loss: 1.9269 - accuracy: 0.1889\n",
      "12/12 [==============================] - 0s 2ms/step - loss: 1.7019 - accuracy: 0.2312\n",
      "3/3 [==============================] - 0s 2ms/step - loss: 1.3520 - accuracy: 0.6111\n",
      "12/12 [==============================] - 0s 2ms/step - loss: 1.5967 - accuracy: 0.3955\n",
      "3/3 [==============================] - 0s 2ms/step - loss: 1.5437 - accuracy: 0.4889\n",
      "12/12 [==============================] - 0s 2ms/step - loss: 2.2696 - accuracy: 0.1337\n",
      "3/3 [==============================] - 0s 2ms/step - loss: 1.7652 - accuracy: 0.1222\n",
      "12/12 [==============================] - 0s 2ms/step - loss: 1.7325 - accuracy: 0.2389\n",
      "3/3 [==============================] - 0s 2ms/step - loss: 1.6475 - accuracy: 0.4831\n",
      "12/12 [==============================] - 0s 1ms/step - loss: 1.6796 - accuracy: 0.2646\n",
      "3/3 [==============================] - 0s 2ms/step - loss: 1.4814 - accuracy: 0.5000\n",
      "12/12 [==============================] - 0s 1ms/step - loss: 2.0977 - accuracy: 0.1532\n",
      "3/3 [==============================] - 0s 1ms/step - loss: 1.6903 - accuracy: 0.1889\n",
      "12/12 [==============================] - 0s 1ms/step - loss: 1.5889 - accuracy: 0.5404\n",
      "3/3 [==============================] - 0s 2ms/step - loss: 1.5655 - accuracy: 0.4889\n",
      "12/12 [==============================] - 0s 2ms/step - loss: 2.5098 - accuracy: 0.0669\n",
      "3/3 [==============================] - 0s 2ms/step - loss: 2.2162 - accuracy: 0.0444\n",
      "12/12 [==============================] - 0s 1ms/step - loss: 1.7699 - accuracy: 0.2056\n",
      "3/3 [==============================] - 0s 1ms/step - loss: 1.6940 - accuracy: 0.4831\n",
      "12/12 [==============================] - 1s 1ms/step - loss: 1.8638 - accuracy: 0.2646\n",
      "3/3 [==============================] - 0s 2ms/step - loss: 1.5798 - accuracy: 0.5000\n",
      "12/12 [==============================] - 1s 2ms/step - loss: 1.5857 - accuracy: 0.3900\n",
      "3/3 [==============================] - 0s 1ms/step - loss: 1.4411 - accuracy: 0.6111\n",
      "12/12 [==============================] - 1s 2ms/step - loss: 2.5976 - accuracy: 0.0390\n",
      "3/3 [==============================] - 0s 2ms/step - loss: 1.7169 - accuracy: 0.3889\n",
      "12/12 [==============================] - 1s 1ms/step - loss: 1.4661 - accuracy: 0.5209\n",
      "3/3 [==============================] - 0s 2ms/step - loss: 1.3457 - accuracy: 0.5667\n",
      "12/12 [==============================] - 1s 1ms/step - loss: 1.6613 - accuracy: 0.4972\n",
      "3/3 [==============================] - 0s 2ms/step - loss: 1.6340 - accuracy: 0.4831\n",
      "12/12 [==============================] - 0s 1ms/step - loss: 1.5273 - accuracy: 0.4206\n",
      "3/3 [==============================] - 0s 2ms/step - loss: 1.4162 - accuracy: 0.5000\n",
      "12/12 [==============================] - 0s 1ms/step - loss: 1.5861 - accuracy: 0.4540\n",
      "3/3 [==============================] - 0s 2ms/step - loss: 1.3199 - accuracy: 0.6111\n",
      "12/12 [==============================] - 0s 1ms/step - loss: 1.5003 - accuracy: 0.5404\n",
      "3/3 [==============================] - 0s 2ms/step - loss: 1.5140 - accuracy: 0.4889\n",
      "12/12 [==============================] - 0s 1ms/step - loss: 1.6476 - accuracy: 0.3733\n",
      "3/3 [==============================] - 0s 1ms/step - loss: 1.3841 - accuracy: 0.5667\n",
      "12/12 [==============================] - 0s 2ms/step - loss: 1.4516 - accuracy: 0.5167\n",
      "3/3 [==============================] - 0s 2ms/step - loss: 1.5368 - accuracy: 0.4831\n",
      "12/12 [==============================] - 0s 1ms/step - loss: 2.2804 - accuracy: 0.1281\n",
      "3/3 [==============================] - 0s 2ms/step - loss: 1.7327 - accuracy: 0.5000\n",
      "12/12 [==============================] - 1s 1ms/step - loss: 1.5379 - accuracy: 0.5097\n",
      "3/3 [==============================] - 0s 2ms/step - loss: 1.3890 - accuracy: 0.6111\n",
      "12/12 [==============================] - 1s 2ms/step - loss: 2.2407 - accuracy: 0.1253\n",
      "3/3 [==============================] - 0s 1ms/step - loss: 1.7530 - accuracy: 0.1556\n",
      "12/12 [==============================] - 0s 1ms/step - loss: 2.0834 - accuracy: 0.2173\n",
      "3/3 [==============================] - 0s 2ms/step - loss: 1.5655 - accuracy: 0.5667\n",
      "12/12 [==============================] - 0s 2ms/step - loss: 1.9408 - accuracy: 0.3056\n",
      "3/3 [==============================] - 0s 2ms/step - loss: 1.7507 - accuracy: 0.4831\n",
      "12/12 [==============================] - 0s 1ms/step - loss: 1.7374 - accuracy: 0.3092\n",
      "3/3 [==============================] - 0s 2ms/step - loss: 1.6474 - accuracy: 0.5000\n",
      "12/12 [==============================] - 0s 2ms/step - loss: 2.0213 - accuracy: 0.1421\n",
      "3/3 [==============================] - 0s 3ms/step - loss: 1.6976 - accuracy: 0.0778\n",
      "12/12 [==============================] - 0s 2ms/step - loss: 2.5346 - accuracy: 0.1253\n",
      "3/3 [==============================] - 0s 1ms/step - loss: 2.1209 - accuracy: 0.1556\n",
      "12/12 [==============================] - 0s 1ms/step - loss: 2.5665 - accuracy: 0.1643\n",
      "3/3 [==============================] - 0s 2ms/step - loss: 1.8133 - accuracy: 0.1444\n",
      "12/12 [==============================] - 0s 1ms/step - loss: 1.7565 - accuracy: 0.5056\n",
      "3/3 [==============================] - 0s 2ms/step - loss: 1.6688 - accuracy: 0.4831\n",
      "12/12 [==============================] - 1s 2ms/step - loss: 1.4205 - accuracy: 0.5376\n",
      "3/3 [==============================] - 0s 2ms/step - loss: 1.4474 - accuracy: 0.5000\n",
      "12/12 [==============================] - 1s 2ms/step - loss: 1.7339 - accuracy: 0.4150\n",
      "3/3 [==============================] - 0s 1ms/step - loss: 1.4619 - accuracy: 0.6111\n",
      "12/12 [==============================] - 1s 2ms/step - loss: 1.8067 - accuracy: 0.2451\n",
      "3/3 [==============================] - 0s 1ms/step - loss: 1.6547 - accuracy: 0.4889\n",
      "12/12 [==============================] - 1s 2ms/step - loss: 1.4461 - accuracy: 0.5209\n",
      "3/3 [==============================] - 0s 2ms/step - loss: 1.3433 - accuracy: 0.5667\n",
      "12/12 [==============================] - 1s 1ms/step - loss: 1.5545 - accuracy: 0.5056\n",
      "3/3 [==============================] - 0s 2ms/step - loss: 1.6550 - accuracy: 0.4831\n",
      "12/12 [==============================] - 0s 1ms/step - loss: 1.5213 - accuracy: 0.4847\n",
      "3/3 [==============================] - 0s 1ms/step - loss: 1.4108 - accuracy: 0.5000\n",
      "12/12 [==============================] - 0s 1ms/step - loss: 1.5503 - accuracy: 0.4708\n",
      "3/3 [==============================] - 0s 2ms/step - loss: 1.2923 - accuracy: 0.6111\n",
      "12/12 [==============================] - 0s 1ms/step - loss: 1.5433 - accuracy: 0.4819\n",
      "3/3 [==============================] - 0s 2ms/step - loss: 1.4740 - accuracy: 0.4889\n",
      "12/12 [==============================] - 0s 1ms/step - loss: 1.5939 - accuracy: 0.4290\n",
      "3/3 [==============================] - 0s 2ms/step - loss: 1.3285 - accuracy: 0.5667\n",
      "12/12 [==============================] - 0s 1ms/step - loss: 1.4807 - accuracy: 0.4694\n",
      "3/3 [==============================] - 0s 3ms/step - loss: 1.4734 - accuracy: 0.4831\n",
      "12/12 [==============================] - 1s 1ms/step - loss: 1.6971 - accuracy: 0.1421\n",
      "3/3 [==============================] - 0s 2ms/step - loss: 1.5977 - accuracy: 0.4778\n",
      "12/12 [==============================] - 0s 2ms/step - loss: 2.8438 - accuracy: 0.1393\n",
      "3/3 [==============================] - 0s 2ms/step - loss: 2.5561 - accuracy: 0.1889\n",
      "12/12 [==============================] - 1s 2ms/step - loss: 2.0195 - accuracy: 0.0669\n",
      "3/3 [==============================] - 0s 2ms/step - loss: 1.8018 - accuracy: 0.0444\n",
      "12/12 [==============================] - 1s 2ms/step - loss: 2.4748 - accuracy: 0.1337\n",
      "3/3 [==============================] - 0s 1ms/step - loss: 2.0838 - accuracy: 0.1222\n",
      "12/12 [==============================] - 0s 1ms/step - loss: 2.0323 - accuracy: 0.2083\n",
      "3/3 [==============================] - 0s 2ms/step - loss: 1.6830 - accuracy: 0.4831\n",
      "12/12 [==============================] - 0s 1ms/step - loss: 2.0199 - accuracy: 0.0585\n",
      "3/3 [==============================] - 0s 2ms/step - loss: 1.7282 - accuracy: 0.4778\n",
      "12/12 [==============================] - 1s 1ms/step - loss: 2.3751 - accuracy: 0.0195 \n",
      "3/3 [==============================] - 0s 2ms/step - loss: 2.1417 - accuracy: 0.0222\n",
      "12/12 [==============================] - 0s 1ms/step - loss: 1.5449 - accuracy: 0.5042\n",
      "3/3 [==============================] - 0s 2ms/step - loss: 1.5589 - accuracy: 0.4889\n",
      "12/12 [==============================] - 0s 1ms/step - loss: 2.7870 - accuracy: 0.1337\n",
      "3/3 [==============================] - 0s 2ms/step - loss: 2.6182 - accuracy: 0.1222\n",
      "12/12 [==============================] - 0s 2ms/step - loss: 2.2559 - accuracy: 0.0556\n",
      "3/3 [==============================] - 0s 1ms/step - loss: 1.9363 - accuracy: 0.0899\n",
      "12/12 [==============================] - 1s 2ms/step - loss: 2.8782 - accuracy: 0.0641\n",
      "3/3 [==============================] - 0s 2ms/step - loss: 2.2745 - accuracy: 0.0556\n",
      "12/12 [==============================] - 1s 1ms/step - loss: 1.8249 - accuracy: 0.1393\n",
      "3/3 [==============================] - 0s 2ms/step - loss: 1.5042 - accuracy: 0.1889\n",
      "12/12 [==============================] - 1s 2ms/step - loss: 2.5771 - accuracy: 0.1003\n",
      "3/3 [==============================] - 0s 2ms/step - loss: 1.8596 - accuracy: 0.1333\n",
      "12/12 [==============================] - 1s 2ms/step - loss: 1.9297 - accuracy: 0.2256\n",
      "3/3 [==============================] - 0s 2ms/step - loss: 1.5625 - accuracy: 0.5667\n",
      "12/12 [==============================] - 1s 1ms/step - loss: 1.9939 - accuracy: 0.0194\n",
      "3/3 [==============================] - 0s 2ms/step - loss: 1.8053 - accuracy: 0.0225\n",
      "12/12 [==============================] - 0s 1ms/step - loss: 1.4492 - accuracy: 0.4875\n",
      "3/3 [==============================] - 0s 1ms/step - loss: 1.4433 - accuracy: 0.5000\n",
      "12/12 [==============================] - 0s 1ms/step - loss: 1.5624 - accuracy: 0.4708\n",
      "3/3 [==============================] - 0s 2ms/step - loss: 1.3078 - accuracy: 0.6111\n",
      "12/12 [==============================] - 0s 1ms/step - loss: 1.4723 - accuracy: 0.4958\n",
      "3/3 [==============================] - 0s 1ms/step - loss: 1.5920 - accuracy: 0.4889\n",
      "12/12 [==============================] - 0s 1ms/step - loss: 1.4786 - accuracy: 0.4930\n",
      "3/3 [==============================] - 0s 2ms/step - loss: 1.3865 - accuracy: 0.5667\n",
      "12/12 [==============================] - 0s 1ms/step - loss: 1.4559 - accuracy: 0.5278\n",
      "3/3 [==============================] - 0s 2ms/step - loss: 1.5051 - accuracy: 0.4831\n",
      "12/12 [==============================] - 0s 2ms/step - loss: 2.2079 - accuracy: 0.0891\n",
      "3/3 [==============================] - 0s 1ms/step - loss: 1.7823 - accuracy: 0.3222\n",
      "12/12 [==============================] - 0s 2ms/step - loss: 2.0797 - accuracy: 0.1448\n",
      "3/3 [==============================] - 0s 2ms/step - loss: 1.8089 - accuracy: 0.0778\n",
      "12/12 [==============================] - 0s 2ms/step - loss: 1.5830 - accuracy: 0.5404\n",
      "3/3 [==============================] - 0s 2ms/step - loss: 1.5723 - accuracy: 0.4889\n",
      "12/12 [==============================] - 0s 2ms/step - loss: 2.4987 - accuracy: 0.0223\n",
      "3/3 [==============================] - 0s 2ms/step - loss: 2.2356 - accuracy: 0.0444\n",
      "12/12 [==============================] - 1s 3ms/step - loss: 1.4637 - accuracy: 0.5417\n",
      "3/3 [==============================] - 0s 2ms/step - loss: 1.5505 - accuracy: 0.4831\n",
      "12/12 [==============================] - 1s 2ms/step - loss: 1.5806 - accuracy: 0.3621\n",
      "3/3 [==============================] - 0s 2ms/step - loss: 1.5075 - accuracy: 0.5000\n",
      "12/12 [==============================] - 1s 2ms/step - loss: 2.6588 - accuracy: 0.0585\n",
      "3/3 [==============================] - 0s 2ms/step - loss: 2.5379 - accuracy: 0.0778\n",
      "12/12 [==============================] - 1s 2ms/step - loss: 3.1864 - accuracy: 0.0195\n",
      "3/3 [==============================] - 0s 2ms/step - loss: 2.7386 - accuracy: 0.0222\n",
      "12/12 [==============================] - 1s 2ms/step - loss: 2.9672 - accuracy: 0.0669\n",
      "3/3 [==============================] - 0s 2ms/step - loss: 2.7886 - accuracy: 0.0444\n",
      "12/12 [==============================] - 1s 2ms/step - loss: 1.7448 - accuracy: 0.1083\n",
      "3/3 [==============================] - 0s 2ms/step - loss: 1.6713 - accuracy: 0.4157\n",
      "12/12 [==============================] - 1s 2ms/step - loss: 1.7993 - accuracy: 0.3593\n",
      "3/3 [==============================] - 0s 2ms/step - loss: 1.5946 - accuracy: 0.5000\n",
      "12/12 [==============================] - 2s 2ms/step - loss: 2.3761 - accuracy: 0.0195 \n",
      "3/3 [==============================] - 0s 2ms/step - loss: 1.7150 - accuracy: 0.6111\n",
      "12/12 [==============================] - 1s 2ms/step - loss: 1.6990 - accuracy: 0.3955\n",
      "3/3 [==============================] - 0s 2ms/step - loss: 1.6400 - accuracy: 0.4889\n",
      "12/12 [==============================] - 1s 2ms/step - loss: 1.8700 - accuracy: 0.1643\n",
      "3/3 [==============================] - 0s 2ms/step - loss: 1.6389 - accuracy: 0.1444\n",
      "12/12 [==============================] - 1s 2ms/step - loss: 2.4993 - accuracy: 0.0556\n",
      "3/3 [==============================] - 0s 2ms/step - loss: 2.1417 - accuracy: 0.0899\n",
      "12/12 [==============================] - 1s 2ms/step - loss: 1.5637 - accuracy: 0.4930\n",
      "3/3 [==============================] - 0s 2ms/step - loss: 1.4233 - accuracy: 0.5000\n",
      "12/12 [==============================] - 1s 2ms/step - loss: 1.6067 - accuracy: 0.4680\n",
      "3/3 [==============================] - 0s 2ms/step - loss: 1.2768 - accuracy: 0.6111\n",
      "12/12 [==============================] - 1s 2ms/step - loss: 1.4415 - accuracy: 0.5404\n",
      "3/3 [==============================] - 0s 2ms/step - loss: 1.4487 - accuracy: 0.4889\n",
      "12/12 [==============================] - 1s 2ms/step - loss: 1.4955 - accuracy: 0.5209\n",
      "3/3 [==============================] - 0s 2ms/step - loss: 1.3482 - accuracy: 0.5667\n",
      "12/12 [==============================] - 1s 2ms/step - loss: 1.4484 - accuracy: 0.5278\n",
      "3/3 [==============================] - 0s 3ms/step - loss: 1.5149 - accuracy: 0.4831\n",
      "6/6 [==============================] - 1s 2ms/step - loss: 2.2105 - accuracy: 0.1253\n",
      "2/2 [==============================] - 0s 3ms/step - loss: 2.0566 - accuracy: 0.1556\n",
      "6/6 [==============================] - 1s 2ms/step - loss: 2.0035 - accuracy: 0.1448\n",
      "2/2 [==============================] - 0s 3ms/step - loss: 2.0293 - accuracy: 0.0778\n",
      "6/6 [==============================] - 1s 2ms/step - loss: 2.3895 - accuracy: 0.0195\n",
      "2/2 [==============================] - 0s 3ms/step - loss: 2.3758 - accuracy: 0.0222\n",
      "6/6 [==============================] - 1s 2ms/step - loss: 1.8304 - accuracy: 0.1643\n",
      "2/2 [==============================] - 0s 3ms/step - loss: 1.6634 - accuracy: 0.1444\n",
      "6/6 [==============================] - 1s 2ms/step - loss: 1.7641 - accuracy: 0.0556\n",
      "2/2 [==============================] - 0s 3ms/step - loss: 1.7046 - accuracy: 0.0899\n",
      "6/6 [==============================] - 1s 2ms/step - loss: 2.5097 - accuracy: 0.0223\n",
      "2/2 [==============================] - 0s 3ms/step - loss: 2.4224 - accuracy: 0.0111\n",
      "6/6 [==============================] - 1s 2ms/step - loss: 2.2587 - accuracy: 0.1142\n",
      "2/2 [==============================] - 0s 3ms/step - loss: 2.2848 - accuracy: 0.0222\n",
      "6/6 [==============================] - 1s 2ms/step - loss: 2.2180 - accuracy: 0.0195\n",
      "2/2 [==============================] - 0s 3ms/step - loss: 2.0646 - accuracy: 0.0222\n",
      "6/6 [==============================] - 1s 2ms/step - loss: 1.6326 - accuracy: 0.3148\n",
      "2/2 [==============================] - 0s 3ms/step - loss: 1.5539 - accuracy: 0.5667\n",
      "6/6 [==============================] - 1s 2ms/step - loss: 1.8869 - accuracy: 0.1278\n",
      "2/2 [==============================] - 0s 3ms/step - loss: 1.8439 - accuracy: 0.1461\n",
      "6/6 [==============================] - 1s 2ms/step - loss: 1.4424 - accuracy: 0.5376\n",
      "2/2 [==============================] - 0s 2ms/step - loss: 1.4978 - accuracy: 0.5000\n",
      "6/6 [==============================] - 1s 3ms/step - loss: 1.8343 - accuracy: 0.1448\n",
      "2/2 [==============================] - 0s 3ms/step - loss: 1.7371 - accuracy: 0.0778\n",
      "6/6 [==============================] - 1s 4ms/step - loss: 2.2574 - accuracy: 0.0975\n",
      "2/2 [==============================] - 0s 3ms/step - loss: 2.0268 - accuracy: 0.0889\n",
      "6/6 [==============================] - 1s 3ms/step - loss: 1.6720 - accuracy: 0.5209\n",
      "2/2 [==============================] - 0s 3ms/step - loss: 1.4784 - accuracy: 0.5667\n",
      "6/6 [==============================] - 1s 3ms/step - loss: 2.8577 - accuracy: 0.0194\n",
      "2/2 [==============================] - 0s 4ms/step - loss: 2.5316 - accuracy: 0.0225\n",
      "6/6 [==============================] - 1s 3ms/step - loss: 1.5776 - accuracy: 0.4652\n",
      "2/2 [==============================] - 0s 4ms/step - loss: 1.4905 - accuracy: 0.5000\n",
      "6/6 [==============================] - 1s 2ms/step - loss: 1.8629 - accuracy: 0.4262\n",
      "2/2 [==============================] - 2s 3ms/step - loss: 1.3898 - accuracy: 0.6111\n",
      "6/6 [==============================] - 1s 2ms/step - loss: 1.7060 - accuracy: 0.4373\n",
      "2/2 [==============================] - 0s 2ms/step - loss: 1.6071 - accuracy: 0.4889\n",
      "6/6 [==============================] - 0s 2ms/step - loss: 1.5945 - accuracy: 0.4513\n",
      "2/2 [==============================] - 0s 3ms/step - loss: 1.4376 - accuracy: 0.5667\n",
      "6/6 [==============================] - 1s 2ms/step - loss: 1.4063 - accuracy: 0.5417\n",
      "2/2 [==============================] - 0s 3ms/step - loss: 1.4588 - accuracy: 0.4831\n",
      "6/6 [==============================] - 1s 2ms/step - loss: 2.5925 - accuracy: 0.1253\n",
      "2/2 [==============================] - 0s 3ms/step - loss: 2.3946 - accuracy: 0.1556\n",
      "6/6 [==============================] - 1s 2ms/step - loss: 2.3758 - accuracy: 0.0223\n",
      "2/2 [==============================] - 0s 3ms/step - loss: 2.4192 - accuracy: 0.0667\n",
      "6/6 [==============================] - 1s 3ms/step - loss: 3.0954 - accuracy: 0.0864\n",
      "2/2 [==============================] - 0s 4ms/step - loss: 2.6266 - accuracy: 0.1333\n",
      "6/6 [==============================] - 1s 3ms/step - loss: 1.5677 - accuracy: 0.2256\n",
      "2/2 [==============================] - 0s 3ms/step - loss: 1.4687 - accuracy: 0.5556\n",
      "6/6 [==============================] - 1s 2ms/step - loss: 2.3883 - accuracy: 0.0194\n",
      "2/2 [==============================] - 0s 3ms/step - loss: 2.1706 - accuracy: 0.1124\n",
      "6/6 [==============================] - 1s 2ms/step - loss: 1.8299 - accuracy: 0.1114\n",
      "2/2 [==============================] - 0s 3ms/step - loss: 1.6852 - accuracy: 0.1556\n",
      "6/6 [==============================] - 1s 2ms/step - loss: 1.9249 - accuracy: 0.0306\n",
      "2/2 [==============================] - 0s 3ms/step - loss: 1.6873 - accuracy: 0.2222\n",
      "6/6 [==============================] - 1s 2ms/step - loss: 3.0648 - accuracy: 0.0669\n",
      "2/2 [==============================] - 0s 3ms/step - loss: 2.7960 - accuracy: 0.0444\n",
      "6/6 [==============================] - 1s 2ms/step - loss: 3.0353 - accuracy: 0.0669\n",
      "2/2 [==============================] - 0s 3ms/step - loss: 2.9022 - accuracy: 0.0444\n",
      "6/6 [==============================] - 1s 2ms/step - loss: 2.4544 - accuracy: 0.0556\n",
      "2/2 [==============================] - 0s 3ms/step - loss: 2.2737 - accuracy: 0.0899\n",
      "6/6 [==============================] - 1s 2ms/step - loss: 1.6487 - accuracy: 0.5376\n",
      "2/2 [==============================] - 0s 3ms/step - loss: 1.6068 - accuracy: 0.5000\n",
      "6/6 [==============================] - 1s 2ms/step - loss: 1.4290 - accuracy: 0.5097\n",
      "2/2 [==============================] - 0s 3ms/step - loss: 1.2850 - accuracy: 0.6111\n",
      "6/6 [==============================] - 1s 2ms/step - loss: 2.1195 - accuracy: 0.1616\n",
      "2/2 [==============================] - 0s 3ms/step - loss: 1.9780 - accuracy: 0.1556\n",
      "6/6 [==============================] - 1s 2ms/step - loss: 1.4569 - accuracy: 0.5209\n",
      "2/2 [==============================] - 0s 4ms/step - loss: 1.3476 - accuracy: 0.5667\n",
      "6/6 [==============================] - 1s 2ms/step - loss: 2.8284 - accuracy: 0.0194\n",
      "2/2 [==============================] - 0s 4ms/step - loss: 2.4691 - accuracy: 0.0225\n",
      "6/6 [==============================] - 1s 2ms/step - loss: 1.7785 - accuracy: 0.3120\n",
      "2/2 [==============================] - 0s 2ms/step - loss: 1.4889 - accuracy: 0.5000\n",
      "6/6 [==============================] - 1s 2ms/step - loss: 1.4917 - accuracy: 0.4485\n",
      "2/2 [==============================] - 0s 2ms/step - loss: 1.2887 - accuracy: 0.6111\n",
      "6/6 [==============================] - 0s 2ms/step - loss: 1.9079 - accuracy: 0.2897\n",
      "2/2 [==============================] - 0s 3ms/step - loss: 1.5301 - accuracy: 0.4889\n",
      "6/6 [==============================] - 1s 2ms/step - loss: 2.7224 - accuracy: 0.0864\n",
      "2/2 [==============================] - 0s 3ms/step - loss: 1.8318 - accuracy: 0.0444\n",
      "6/6 [==============================] - 1s 2ms/step - loss: 1.5054 - accuracy: 0.4611\n",
      "2/2 [==============================] - 0s 3ms/step - loss: 1.4828 - accuracy: 0.4831\n",
      "6/6 [==============================] - 1s 2ms/step - loss: 2.0566 - accuracy: 0.0669\n",
      "2/2 [==============================] - 0s 2ms/step - loss: 1.8873 - accuracy: 0.3444\n",
      "6/6 [==============================] - 1s 2ms/step - loss: 1.9745 - accuracy: 0.1281\n",
      "2/2 [==============================] - 0s 3ms/step - loss: 1.7783 - accuracy: 0.6000\n",
      "6/6 [==============================] - 2s 2ms/step - loss: 2.2308 - accuracy: 0.1616\n",
      "2/2 [==============================] - 0s 3ms/step - loss: 1.9849 - accuracy: 0.1556\n",
      "6/6 [==============================] - 1s 2ms/step - loss: 2.4504 - accuracy: 0.0947\n",
      "2/2 [==============================] - 0s 4ms/step - loss: 2.0979 - accuracy: 0.1000\n",
      "6/6 [==============================] - 1s 3ms/step - loss: 1.7426 - accuracy: 0.1083\n",
      "2/2 [==============================] - 0s 4ms/step - loss: 1.6755 - accuracy: 0.3708\n",
      "6/6 [==============================] - 1s 2ms/step - loss: 3.1706 - accuracy: 0.1253\n",
      "2/2 [==============================] - 0s 4ms/step - loss: 2.6173 - accuracy: 0.1556\n",
      "6/6 [==============================] - 1s 2ms/step - loss: 1.8363 - accuracy: 0.1950\n",
      "2/2 [==============================] - 0s 3ms/step - loss: 1.5707 - accuracy: 0.6111\n",
      "6/6 [==============================] - 1s 2ms/step - loss: 1.7560 - accuracy: 0.3565\n",
      "2/2 [==============================] - 0s 3ms/step - loss: 1.5855 - accuracy: 0.4889\n",
      "6/6 [==============================] - 1s 2ms/step - loss: 1.4969 - accuracy: 0.5209\n",
      "2/2 [==============================] - 0s 3ms/step - loss: 1.4148 - accuracy: 0.5667\n",
      "6/6 [==============================] - 1s 2ms/step - loss: 2.8670 - accuracy: 0.1611\n",
      "2/2 [==============================] - 0s 3ms/step - loss: 2.5713 - accuracy: 0.2247\n",
      "6/6 [==============================] - 1s 2ms/step - loss: 2.2043 - accuracy: 0.0641\n",
      "2/2 [==============================] - 0s 4ms/step - loss: 1.6684 - accuracy: 0.0111\n",
      "6/6 [==============================] - 1s 2ms/step - loss: 2.6709 - accuracy: 0.1365\n",
      "2/2 [==============================] - 0s 3ms/step - loss: 2.0750 - accuracy: 0.0556\n",
      "6/6 [==============================] - 1s 2ms/step - loss: 1.3962 - accuracy: 0.5404\n",
      "2/2 [==============================] - 0s 2ms/step - loss: 1.4691 - accuracy: 0.4889\n",
      "6/6 [==============================] - 1s 2ms/step - loss: 1.5805 - accuracy: 0.4123\n",
      "2/2 [==============================] - 0s 3ms/step - loss: 1.3478 - accuracy: 0.5667\n",
      "6/6 [==============================] - 1s 2ms/step - loss: 1.6049 - accuracy: 0.2972\n",
      "2/2 [==============================] - 0s 4ms/step - loss: 1.4944 - accuracy: 0.4831\n",
      "6/6 [==============================] - 0s 2ms/step - loss: 1.6696 - accuracy: 0.4513\n",
      "2/2 [==============================] - 0s 2ms/step - loss: 1.4817 - accuracy: 0.5000\n",
      "6/6 [==============================] - 1s 2ms/step - loss: 1.8382 - accuracy: 0.4067\n",
      "2/2 [==============================] - 0s 3ms/step - loss: 1.3103 - accuracy: 0.6111\n",
      "6/6 [==============================] - 1s 2ms/step - loss: 1.9795 - accuracy: 0.2730\n",
      "2/2 [==============================] - 0s 4ms/step - loss: 1.4867 - accuracy: 0.4889\n",
      "6/6 [==============================] - 1s 2ms/step - loss: 1.6130 - accuracy: 0.3983\n",
      "2/2 [==============================] - 0s 2ms/step - loss: 1.3387 - accuracy: 0.5667\n",
      "6/6 [==============================] - 1s 2ms/step - loss: 1.6045 - accuracy: 0.5417\n",
      "2/2 [==============================] - 0s 3ms/step - loss: 1.4855 - accuracy: 0.4831\n",
      "6/6 [==============================] - 1s 2ms/step - loss: 1.7344 - accuracy: 0.2981\n",
      "2/2 [==============================] - 0s 3ms/step - loss: 1.5942 - accuracy: 0.5000\n",
      "6/6 [==============================] - 1s 2ms/step - loss: 2.0599 - accuracy: 0.0474\n",
      "2/2 [==============================] - 0s 3ms/step - loss: 1.7958 - accuracy: 0.0778\n",
      "6/6 [==============================] - 1s 2ms/step - loss: 1.6943 - accuracy: 0.5404\n",
      "2/2 [==============================] - 0s 3ms/step - loss: 1.6552 - accuracy: 0.4889\n",
      "6/6 [==============================] - 1s 2ms/step - loss: 2.3661 - accuracy: 0.0195\n",
      "2/2 [==============================] - 0s 3ms/step - loss: 1.8667 - accuracy: 0.0222\n",
      "6/6 [==============================] - 1s 2ms/step - loss: 1.9621 - accuracy: 0.0361\n",
      "2/2 [==============================] - 0s 4ms/step - loss: 1.8434 - accuracy: 0.1011\n",
      "6/6 [==============================] - 1s 2ms/step - loss: 2.4668 - accuracy: 0.1699\n",
      "2/2 [==============================] - 0s 2ms/step - loss: 2.1950 - accuracy: 0.1667\n",
      "6/6 [==============================] - 1s 2ms/step - loss: 2.7318 - accuracy: 0.0669\n",
      "2/2 [==============================] - 0s 2ms/step - loss: 2.6505 - accuracy: 0.0333\n",
      "6/6 [==============================] - 1s 2ms/step - loss: 2.7110 - accuracy: 0.0864\n",
      "2/2 [==============================] - 0s 3ms/step - loss: 2.4232 - accuracy: 0.1333\n",
      "6/6 [==============================] - 2s 2ms/step - loss: 2.5525 - accuracy: 0.0669\n",
      "2/2 [==============================] - 0s 3ms/step - loss: 2.1430 - accuracy: 0.0444\n",
      "6/6 [==============================] - 1s 2ms/step - loss: 1.5899 - accuracy: 0.3611\n",
      "2/2 [==============================] - 0s 3ms/step - loss: 1.5012 - accuracy: 0.4831\n",
      "6/6 [==============================] - 1s 2ms/step - loss: 2.0069 - accuracy: 0.0808\n",
      "2/2 [==============================] - 0s 3ms/step - loss: 1.7792 - accuracy: 0.2111\n",
      "6/6 [==============================] - 1s 2ms/step - loss: 1.8162 - accuracy: 0.1894\n",
      "2/2 [==============================] - 0s 3ms/step - loss: 1.4344 - accuracy: 0.6111\n",
      "6/6 [==============================] - 1s 2ms/step - loss: 1.7886 - accuracy: 0.1671\n",
      "2/2 [==============================] - 0s 2ms/step - loss: 1.5383 - accuracy: 0.4667\n",
      "6/6 [==============================] - 1s 2ms/step - loss: 2.0911 - accuracy: 0.1643\n",
      "2/2 [==============================] - 0s 3ms/step - loss: 1.8136 - accuracy: 0.1444\n",
      "6/6 [==============================] - 1s 2ms/step - loss: 1.4761 - accuracy: 0.4694\n",
      "2/2 [==============================] - 0s 3ms/step - loss: 1.4924 - accuracy: 0.4831\n",
      "6/6 [==============================] - 1s 2ms/step - loss: 1.8195 - accuracy: 0.3649\n",
      "2/2 [==============================] - 0s 3ms/step - loss: 1.5072 - accuracy: 0.5000\n",
      "6/6 [==============================] - 1s 2ms/step - loss: 1.6043 - accuracy: 0.4262\n",
      "2/2 [==============================] - 0s 3ms/step - loss: 1.3189 - accuracy: 0.6111\n",
      "6/6 [==============================] - 0s 2ms/step - loss: 1.7568 - accuracy: 0.4680\n",
      "2/2 [==============================] - 0s 3ms/step - loss: 1.6830 - accuracy: 0.4889\n",
      "6/6 [==============================] - 1s 2ms/step - loss: 1.8609 - accuracy: 0.4429\n",
      "2/2 [==============================] - 0s 3ms/step - loss: 1.4283 - accuracy: 0.5667\n",
      "6/6 [==============================] - 1s 2ms/step - loss: 1.4764 - accuracy: 0.5028\n",
      "2/2 [==============================] - 0s 3ms/step - loss: 1.5695 - accuracy: 0.4831\n",
      "6/6 [==============================] - 1s 3ms/step - loss: 3.0196 - accuracy: 0.0223\n",
      "2/2 [==============================] - 0s 4ms/step - loss: 2.6907 - accuracy: 0.0111\n",
      "6/6 [==============================] - 1s 2ms/step - loss: 1.9292 - accuracy: 0.5097\n",
      "2/2 [==============================] - 0s 4ms/step - loss: 1.6282 - accuracy: 0.6111\n",
      "6/6 [==============================] - 1s 2ms/step - loss: 2.1390 - accuracy: 0.0669\n",
      "2/2 [==============================] - 0s 4ms/step - loss: 2.0234 - accuracy: 0.0444\n",
      "6/6 [==============================] - 1s 2ms/step - loss: 1.4255 - accuracy: 0.5209\n",
      "2/2 [==============================] - 0s 3ms/step - loss: 1.3349 - accuracy: 0.5667\n",
      "6/6 [==============================] - 1s 2ms/step - loss: 1.9074 - accuracy: 0.1556\n",
      "2/2 [==============================] - 0s 3ms/step - loss: 1.7351 - accuracy: 0.4157\n",
      "6/6 [==============================] - 1s 2ms/step - loss: 2.0488 - accuracy: 0.2089\n",
      "2/2 [==============================] - 0s 3ms/step - loss: 1.9646 - accuracy: 0.5000\n",
      "6/6 [==============================] - 1s 2ms/step - loss: 2.4538 - accuracy: 0.0529\n",
      "2/2 [==============================] - 0s 3ms/step - loss: 2.4614 - accuracy: 0.0222\n",
      "6/6 [==============================] - 1s 2ms/step - loss: 2.6239 - accuracy: 0.0864\n",
      "2/2 [==============================] - 0s 4ms/step - loss: 2.2895 - accuracy: 0.1333\n",
      "6/6 [==============================] - 1s 2ms/step - loss: 2.4680 - accuracy: 0.1337\n",
      "2/2 [==============================] - 0s 2ms/step - loss: 2.3294 - accuracy: 0.1222\n",
      "6/6 [==============================] - 1s 2ms/step - loss: 1.9627 - accuracy: 0.1278\n",
      "2/2 [==============================] - 0s 3ms/step - loss: 1.7815 - accuracy: 0.1461\n",
      "6/6 [==============================] - 1s 2ms/step - loss: 2.6745 - accuracy: 0.1616\n",
      "2/2 [==============================] - 0s 3ms/step - loss: 2.4000 - accuracy: 0.1556\n",
      "6/6 [==============================] - 1s 2ms/step - loss: 2.3280 - accuracy: 0.1448\n",
      "2/2 [==============================] - 0s 4ms/step - loss: 1.9348 - accuracy: 0.0778\n",
      "6/6 [==============================] - 2s 2ms/step - loss: 1.6689 - accuracy: 0.2869\n",
      "2/2 [==============================] - 0s 3ms/step - loss: 1.5410 - accuracy: 0.4889\n",
      "6/6 [==============================] - 1s 2ms/step - loss: 1.5015 - accuracy: 0.4429\n",
      "2/2 [==============================] - 0s 3ms/step - loss: 1.3719 - accuracy: 0.5667\n",
      "6/6 [==============================] - 1s 2ms/step - loss: 1.7843 - accuracy: 0.2111\n",
      "2/2 [==============================] - 0s 3ms/step - loss: 1.6948 - accuracy: 0.4831\n",
      "6/6 [==============================] - 1s 2ms/step - loss: 1.4463 - accuracy: 0.5376\n",
      "2/2 [==============================] - 0s 3ms/step - loss: 1.4626 - accuracy: 0.5000\n",
      "6/6 [==============================] - 1s 2ms/step - loss: 1.5459 - accuracy: 0.4373\n",
      "2/2 [==============================] - 0s 3ms/step - loss: 1.3111 - accuracy: 0.6111\n",
      "6/6 [==============================] - 1s 2ms/step - loss: 1.4533 - accuracy: 0.5404\n",
      "2/2 [==============================] - 0s 3ms/step - loss: 1.4795 - accuracy: 0.4889\n",
      "6/6 [==============================] - 1s 2ms/step - loss: 1.6739 - accuracy: 0.4290\n",
      "2/2 [==============================] - 0s 3ms/step - loss: 1.3552 - accuracy: 0.5667\n",
      "6/6 [==============================] - 1s 2ms/step - loss: 1.7155 - accuracy: 0.4389\n",
      "2/2 [==============================] - 0s 3ms/step - loss: 1.5059 - accuracy: 0.4831\n",
      "6/6 [==============================] - 1s 2ms/step - loss: 1.4967 - accuracy: 0.5376\n",
      "2/2 [==============================] - 0s 3ms/step - loss: 1.4521 - accuracy: 0.5000\n",
      "6/6 [==============================] - 1s 2ms/step - loss: 1.5388 - accuracy: 0.5097\n",
      "2/2 [==============================] - 0s 3ms/step - loss: 1.2974 - accuracy: 0.6111\n",
      "6/6 [==============================] - 1s 2ms/step - loss: 1.5226 - accuracy: 0.5237\n",
      "2/2 [==============================] - 0s 3ms/step - loss: 1.5707 - accuracy: 0.4889\n",
      "6/6 [==============================] - 1s 2ms/step - loss: 1.8314 - accuracy: 0.0669\n",
      "2/2 [==============================] - 0s 3ms/step - loss: 1.6747 - accuracy: 0.0444\n",
      "6/6 [==============================] - 1s 2ms/step - loss: 2.2229 - accuracy: 0.0556\n",
      "2/2 [==============================] - 0s 3ms/step - loss: 2.0379 - accuracy: 0.0899\n",
      "6/6 [==============================] - 1s 2ms/step - loss: 2.5711 - accuracy: 0.0223\n",
      "2/2 [==============================] - 0s 4ms/step - loss: 2.3160 - accuracy: 0.0111\n",
      "6/6 [==============================] - 1s 2ms/step - loss: 1.7952 - accuracy: 0.1532\n",
      "2/2 [==============================] - 0s 4ms/step - loss: 1.6113 - accuracy: 0.1889\n",
      "6/6 [==============================] - 1s 2ms/step - loss: 3.0093 - accuracy: 0.0195\n",
      "2/2 [==============================] - 0s 3ms/step - loss: 2.7064 - accuracy: 0.0222\n",
      "6/6 [==============================] - 1s 2ms/step - loss: 2.1710 - accuracy: 0.1643\n",
      "2/2 [==============================] - 0s 3ms/step - loss: 2.0378 - accuracy: 0.1111\n",
      "6/6 [==============================] - 1s 2ms/step - loss: 2.7496 - accuracy: 0.1167\n",
      "2/2 [==============================] - 0s 3ms/step - loss: 2.5568 - accuracy: 0.1011\n",
      "6/6 [==============================] - 1s 2ms/step - loss: 2.1746 - accuracy: 0.0891\n",
      "2/2 [==============================] - 0s 3ms/step - loss: 1.8888 - accuracy: 0.1556\n",
      "6/6 [==============================] - 1s 2ms/step - loss: 2.9906 - accuracy: 0.1142\n",
      "2/2 [==============================] - 0s 4ms/step - loss: 2.6498 - accuracy: 0.0222\n",
      "6/6 [==============================] - 1s 2ms/step - loss: 1.6292 - accuracy: 0.3788\n",
      "2/2 [==============================] - 0s 3ms/step - loss: 1.5741 - accuracy: 0.4889\n",
      "6/6 [==============================] - 1s 2ms/step - loss: 2.2885 - accuracy: 0.0195\n",
      "2/2 [==============================] - 0s 3ms/step - loss: 2.0236 - accuracy: 0.0222\n",
      "6/6 [==============================] - 1s 2ms/step - loss: 1.6330 - accuracy: 0.2639\n",
      "2/2 [==============================] - 0s 3ms/step - loss: 1.5866 - accuracy: 0.4831\n",
      "6/6 [==============================] - 1s 2ms/step - loss: 1.7897 - accuracy: 0.4429\n",
      "2/2 [==============================] - 0s 3ms/step - loss: 1.4679 - accuracy: 0.5000\n",
      "6/6 [==============================] - 1s 2ms/step - loss: 1.5516 - accuracy: 0.4234\n",
      "2/2 [==============================] - 0s 3ms/step - loss: 1.3337 - accuracy: 0.6111\n",
      "6/6 [==============================] - 1s 2ms/step - loss: 1.6804 - accuracy: 0.3510\n",
      "2/2 [==============================] - 0s 3ms/step - loss: 1.4656 - accuracy: 0.4889\n",
      "6/6 [==============================] - 2s 2ms/step - loss: 1.5372 - accuracy: 0.5209\n",
      "2/2 [==============================] - 0s 3ms/step - loss: 1.3261 - accuracy: 0.5667\n",
      "6/6 [==============================] - 1s 3ms/step - loss: 1.7747 - accuracy: 0.5417\n",
      "2/2 [==============================] - 0s 3ms/step - loss: 1.6493 - accuracy: 0.4831\n",
      "29/29 [==============================] - 1s 1ms/step - loss: 1.5465 - accuracy: 0.4967\n"
     ]
    }
   ],
   "source": [
    "model = KerasClassifier(build_fn=build_model,verbose=1)\n",
    "optimizers = ['adam','adamax','rmsprop', 'SGD']\n",
    "epochs = np.array([100,200])\n",
    "batches = np.array([16,32,64])\n",
    "init = ['glorot_uniform',\n",
    "        'uniform',\n",
    "        'normal'\n",
    "       ]\n",
    "param_grid = dict(optimizer=optimizers, nb_epoch=epochs, batch_size=batches, init=init)\n",
    "grid = GridSearchCV(estimator=model, param_grid=param_grid)\n",
    "grid_result = grid.fit(X_train, y_train)"
   ]
  },
  {
   "cell_type": "code",
   "execution_count": 514,
   "metadata": {},
   "outputs": [
    {
     "data": {
      "text/plain": [
       "{'batch_size': 16,\n",
       " 'init': 'glorot_uniform',\n",
       " 'nb_epoch': 100,\n",
       " 'optimizer': 'SGD'}"
      ]
     },
     "execution_count": 514,
     "metadata": {},
     "output_type": "execute_result"
    }
   ],
   "source": [
    "grid_result.best_params_"
   ]
  },
  {
   "cell_type": "code",
   "execution_count": 437,
   "metadata": {},
   "outputs": [
    {
     "name": "stderr",
     "output_type": "stream",
     "text": [
      "C:\\Users\\kay_t\\AppData\\Local\\Temp/ipykernel_50436/2906496052.py:10: DeprecationWarning: KerasClassifier is deprecated, use Sci-Keras (https://github.com/adriangb/scikeras) instead.\n",
      "  kr2 = KerasClassifier(build_fn=build_model,epochs=500,batch_size=32,verbose=False,optimizer='adam',init='uniform')\n"
     ]
    },
    {
     "data": {
      "text/plain": [
       "[99.77728285077951, 80.0]"
      ]
     },
     "execution_count": 437,
     "metadata": {},
     "output_type": "execute_result"
    },
    {
     "data": {
      "image/png": "[encoded data removed]",
      "text/plain": [
       "<Figure size 432x288 with 2 Axes>"
      ]
     },
     "metadata": {
      "needs_background": "light"
     },
     "output_type": "display_data"
    }
   ],
   "source": [
    "def build_model(optimizer='adam', init='normal'):\n",
    "    model = models.Sequential()\n",
    "    model.add(layers.Dense(9,use_bias=True, kernel_initializer=init))\n",
    "    model.add(layers.LayerNormalization(axis=1))\n",
    "    model.add(layers.Dense(6, activation='softmax'))\n",
    "    #model.compile(loss='mean_squared_error', optimizer='adam')\n",
    "    model.compile(loss='categorical_crossentropy', optimizer=optimizer, metrics=['accuracy'])\n",
    "    return model\n",
    "\n",
    "kr2 = KerasClassifier(build_fn=build_model,epochs=500,batch_size=32,verbose=False,optimizer='adam',init='uniform')\n",
    "kr2.fit(X_train,y_train)\n",
    "ConfusionMatrixDisplay.from_predictions(y_val,kr2.predict(X_val))\n",
    "[sum(y_train==kr2.predict(X_train))/len(y_train)*100,  sum(y_val==kr2.predict(X_val))/len(y_val)*100]"
   ]
  },
  {
   "cell_type": "markdown",
   "metadata": {},
   "source": [
    "## Linear SVC"
   ]
  },
  {
   "cell_type": "code",
   "execution_count": 388,
   "metadata": {},
   "outputs": [
    {
     "data": {
      "text/plain": [
       "[100.0, 89.33333333333333]"
      ]
     },
     "execution_count": 388,
     "metadata": {},
     "output_type": "execute_result"
    },
    {
     "data": {
      "image/png": "[encoded data removed]",
      "text/plain": [
       "<Figure size 432x288 with 2 Axes>"
      ]
     },
     "metadata": {
      "needs_background": "light"
     },
     "output_type": "display_data"
    }
   ],
   "source": [
    "from sklearn.svm import LinearSVC\n",
    "from sklearn.preprocessing import RobustScaler\n",
    "from sklearn.pipeline import make_pipeline\n",
    "clf = make_pipeline(RobustScaler(),\n",
    "                     LinearSVC(random_state=0, tol=1e-2))\n",
    "clf.fit(X_train, y_train)\n",
    "ConfusionMatrixDisplay.from_predictions(y_val,clf.predict(X_val))\n",
    "[sum(y_train==clf.predict(X_train))/len(y_train)*100,  sum(y_val==clf.predict(X_val))/len(y_val)*100]"
   ]
  },
  {
   "cell_type": "markdown",
   "metadata": {},
   "source": [
    "## Extra Ensemble Classifier"
   ]
  },
  {
   "cell_type": "markdown",
   "metadata": {},
   "source": [
    "## Voting"
   ]
  },
  {
   "cell_type": "code",
   "execution_count": 439,
   "metadata": {},
   "outputs": [
    {
     "data": {
      "text/plain": [
       "[100.0, 90.66666666666666]"
      ]
     },
     "execution_count": 439,
     "metadata": {},
     "output_type": "execute_result"
    },
    {
     "data": {
      "image/png": "[encoded data removed]",
      "text/plain": [
       "<Figure size 432x288 with 2 Axes>"
      ]
     },
     "metadata": {
      "needs_background": "light"
     },
     "output_type": "display_data"
    }
   ],
   "source": [
    "from sklearn.ensemble import VotingClassifier\n",
    "\n",
    "kr2._estimator_type='classifier'\n",
    "eclf1 = VotingClassifier(estimators=[\n",
    "       ('dt', dt), ('rf', rf),('svc',clf),('nn',kr2)], voting='hard')\n",
    "eclf1 = eclf1.fit(X_train, y_train)       \n",
    "ConfusionMatrixDisplay.from_predictions(y_val,eclf1.predict(X_val))\n",
    "[sum(y_train==eclf1.predict(X_train))/len(y_train)*100,  sum(y_val==eclf1.predict(X_val))/len(y_val)*100]"
   ]
  },
  {
   "cell_type": "code",
   "execution_count": 405,
   "metadata": {},
   "outputs": [
    {
     "data": {
      "text/plain": [
       "Pipeline(steps=[('robustscaler', RobustScaler()),\n",
       "                ('kerasclassifier',\n",
       "                 <keras.wrappers.scikit_learn.KerasClassifier object at 0x000001C73CB63C40>)])"
      ]
     },
     "execution_count": 405,
     "metadata": {},
     "output_type": "execute_result"
    }
   ],
   "source": [
    "kr2"
   ]
  },
  {
   "cell_type": "markdown",
   "metadata": {},
   "source": [
    "## Stacking Clf"
   ]
  },
  {
   "cell_type": "code",
   "execution_count": 447,
   "metadata": {},
   "outputs": [
    {
     "data": {
      "text/plain": [
       "[99.10913140311804, 93.33333333333333]"
      ]
     },
     "execution_count": 447,
     "metadata": {},
     "output_type": "execute_result"
    },
    {
     "data": {
      "image/png": "[encoded data removed]",
      "text/plain": [
       "<Figure size 432x288 with 2 Axes>"
      ]
     },
     "metadata": {
      "needs_background": "light"
     },
     "output_type": "display_data"
    }
   ],
   "source": [
    "from sklearn.ensemble import StackingClassifier\n",
    "stck = StackingClassifier(\n",
    "     estimators=[\n",
    "       ('dt', dt), ('rf', rf),('svc',clf),('nn',kr2)], final_estimator=rf)\n",
    "stck = stck.fit(X_train, y_train)       \n",
    "ConfusionMatrixDisplay.from_predictions(y_val,stck.predict(X_val))\n",
    "[sum(y_train==stck.predict(X_train))/len(y_train)*100,  sum(y_val==stck.predict(X_val))/len(y_val)*100]"
   ]
  },
  {
   "cell_type": "code",
   "execution_count": 442,
   "metadata": {},
   "outputs": [
    {
     "data": {
      "text/plain": [
       "[98.21826280623608, 94.0]"
      ]
     },
     "execution_count": 442,
     "metadata": {},
     "output_type": "execute_result"
    },
    {
     "data": {
      "image/png": "[encoded data removed]",
      "text/plain": [
       "<Figure size 432x288 with 2 Axes>"
      ]
     },
     "metadata": {
      "needs_background": "light"
     },
     "output_type": "display_data"
    }
   ],
   "source": [
    "from sklearn.model_selection import KFold\n",
    "kf = KFold(n_splits=2)\n",
    "kf.get_n_splits(X_val,y_val)\n",
    "\n",
    "from sklearn.ensemble import StackingClassifier\n",
    "stck = StackingClassifier(\n",
    "     estimators=[\n",
    "       ('dt', dt), ('rf', rf),('svc',clf),('nn',kr2)], final_estimator=rf,cv=kf)\n",
    "stck = stck.fit(X_train, y_train)       \n",
    "ConfusionMatrixDisplay.from_predictions(y_val,stck.predict(X_val))\n",
    "[sum(y_train==stck.predict(X_train))/len(y_train)*100,  sum(y_val==stck.predict(X_val))/len(y_val)*100]"
   ]
  },
  {
   "cell_type": "markdown",
   "metadata": {},
   "source": [
    "## Stack without NN (cause NN causes error)"
   ]
  },
  {
   "cell_type": "code",
   "execution_count": 472,
   "metadata": {},
   "outputs": [
    {
     "data": {
      "text/plain": [
       "[98.88641425389754, 93.33333333333333]"
      ]
     },
     "execution_count": 472,
     "metadata": {},
     "output_type": "execute_result"
    },
    {
     "data": {
      "image/png": "[encoded data removed]",
      "text/plain": [
       "<Figure size 432x288 with 2 Axes>"
      ]
     },
     "metadata": {
      "needs_background": "light"
     },
     "output_type": "display_data"
    }
   ],
   "source": [
    "from sklearn.model_selection import KFold\n",
    "kf = KFold(n_splits=2)\n",
    "kf.get_n_splits(X_val,y_val)\n",
    "\n",
    "from sklearn.ensemble import StackingClassifier\n",
    "stck = StackingClassifier(\n",
    "     estimators=[\n",
    "       ('dt', dt), ('rf', rf),('svc',clf)], final_estimator=rf,cv=kf)\n",
    "stck = stck.fit(X_train, y_train)       \n",
    "ConfusionMatrixDisplay.from_predictions(y_val,stck.predict(X_val))\n",
    "[sum(y_train==stck.predict(X_train))/len(y_train)*100,  sum(y_val==stck.predict(X_val))/len(y_val)*100]"
   ]
  },
  {
   "cell_type": "markdown",
   "metadata": {},
   "source": [
    "## Summary"
   ]
  },
  {
   "cell_type": "markdown",
   "metadata": {},
   "source": [
    "|                           | Stacking | Stacking without NN | Voting | Linear SVC | NN   | Ridge | Bayes | KNN   | ExtraTree | DecisionTree | Random Forest |\n",
    "|---------------------------|----------|---------------------|--------|------------|------|-------|-------|-------|-----------|--------------|---------------|\n",
    "| Classification   Accuracy | 87.21    | 98.88               |100    | 100        | 99.7 | 83.51 | 89.08 | 88.41 | 100       | 100          | 100           |\n",
    "| Validation   Accuracy     | 94       | 93.33               |90.66  | 89.33      | 80   | 82.66 | 86    | 83.33 | 87.33     | 92           | 92            |"
   ]
  },
  {
   "cell_type": "markdown",
   "metadata": {},
   "source": [
    "Stacking classifier provides the best validation accuracy of 94%; it's therefore selected\n",
    "\n",
    "However it's NOT exportable... I have tried pickle/cpickle/dill/%store/gzip+py-ubjson, none has worked\n",
    "Therefore, I have chosen Stacking without NN (93.33 vs 94 is not big deal)"
   ]
  },
  {
   "cell_type": "markdown",
   "metadata": {},
   "source": [
    "## Export pickle"
   ]
  },
  {
   "cell_type": "code",
   "execution_count": 474,
   "metadata": {},
   "outputs": [],
   "source": [
    "import pickle\n",
    "with open('model.bin','wb') as f: pickle.dump(stck,f)\n",
    "with open(\"dv.bin\", 'wb') as f: pickle.dump(dv,f)"
   ]
  },
  {
   "cell_type": "code",
   "execution_count": 477,
   "metadata": {},
   "outputs": [],
   "source": [
    "# with open('df_test.bin','wb') as f: pickle.dump(df_test,f)\n",
    "with open('y_test.bin','wb') as f: pickle.dump(y_test,f)\n",
    "\n",
    "#"
   ]
  },
  {
   "cell_type": "code",
   "execution_count": 476,
   "metadata": {},
   "outputs": [
    {
     "data": {
      "text/html": [
       "<div>\n",
       "<style scoped>\n",
       "    .dataframe tbody tr th:only-of-type {\n",
       "        vertical-align: middle;\n",
       "    }\n",
       "\n",
       "    .dataframe tbody tr th {\n",
       "        vertical-align: top;\n",
       "    }\n",
       "\n",
       "    .dataframe thead th {\n",
       "        text-align: right;\n",
       "    }\n",
       "</style>\n",
       "<table border=\"1\" class=\"dataframe\">\n",
       "  <thead>\n",
       "    <tr style=\"text-align: right;\">\n",
       "      <th></th>\n",
       "      <th>product_id</th>\n",
       "      <th>type</th>\n",
       "      <th>air_temperature</th>\n",
       "      <th>process_temperature</th>\n",
       "      <th>rot_speed</th>\n",
       "      <th>torque</th>\n",
       "      <th>tool_wear</th>\n",
       "    </tr>\n",
       "  </thead>\n",
       "  <tbody>\n",
       "    <tr>\n",
       "      <th>0</th>\n",
       "      <td>M24735</td>\n",
       "      <td>M</td>\n",
       "      <td>298.9</td>\n",
       "      <td>309.8</td>\n",
       "      <td>1363</td>\n",
       "      <td>50.6</td>\n",
       "      <td>115</td>\n",
       "    </tr>\n",
       "    <tr>\n",
       "      <th>1</th>\n",
       "      <td>M24777</td>\n",
       "      <td>M</td>\n",
       "      <td>298.5</td>\n",
       "      <td>308.8</td>\n",
       "      <td>1557</td>\n",
       "      <td>36.0</td>\n",
       "      <td>21</td>\n",
       "    </tr>\n",
       "    <tr>\n",
       "      <th>2</th>\n",
       "      <td>L56845</td>\n",
       "      <td>L</td>\n",
       "      <td>299.2</td>\n",
       "      <td>310.3</td>\n",
       "      <td>1610</td>\n",
       "      <td>33.3</td>\n",
       "      <td>233</td>\n",
       "    </tr>\n",
       "    <tr>\n",
       "      <th>3</th>\n",
       "      <td>M24646</td>\n",
       "      <td>M</td>\n",
       "      <td>298.7</td>\n",
       "      <td>309.6</td>\n",
       "      <td>1738</td>\n",
       "      <td>27.3</td>\n",
       "      <td>79</td>\n",
       "    </tr>\n",
       "    <tr>\n",
       "      <th>4</th>\n",
       "      <td>L50759</td>\n",
       "      <td>L</td>\n",
       "      <td>301.8</td>\n",
       "      <td>310.6</td>\n",
       "      <td>2672</td>\n",
       "      <td>11.8</td>\n",
       "      <td>124</td>\n",
       "    </tr>\n",
       "    <tr>\n",
       "      <th>...</th>\n",
       "      <td>...</td>\n",
       "      <td>...</td>\n",
       "      <td>...</td>\n",
       "      <td>...</td>\n",
       "      <td>...</td>\n",
       "      <td>...</td>\n",
       "      <td>...</td>\n",
       "    </tr>\n",
       "    <tr>\n",
       "      <th>145</th>\n",
       "      <td>M24651</td>\n",
       "      <td>M</td>\n",
       "      <td>298.5</td>\n",
       "      <td>309.4</td>\n",
       "      <td>1521</td>\n",
       "      <td>37.5</td>\n",
       "      <td>94</td>\n",
       "    </tr>\n",
       "    <tr>\n",
       "      <th>146</th>\n",
       "      <td>M24849</td>\n",
       "      <td>M</td>\n",
       "      <td>298.8</td>\n",
       "      <td>308.5</td>\n",
       "      <td>1577</td>\n",
       "      <td>33.2</td>\n",
       "      <td>0</td>\n",
       "    </tr>\n",
       "    <tr>\n",
       "      <th>147</th>\n",
       "      <td>L56949</td>\n",
       "      <td>L</td>\n",
       "      <td>298.6</td>\n",
       "      <td>309.6</td>\n",
       "      <td>1386</td>\n",
       "      <td>48.6</td>\n",
       "      <td>25</td>\n",
       "    </tr>\n",
       "    <tr>\n",
       "      <th>148</th>\n",
       "      <td>L50864</td>\n",
       "      <td>L</td>\n",
       "      <td>302.0</td>\n",
       "      <td>311.2</td>\n",
       "      <td>1270</td>\n",
       "      <td>65.3</td>\n",
       "      <td>182</td>\n",
       "    </tr>\n",
       "    <tr>\n",
       "      <th>149</th>\n",
       "      <td>L57118</td>\n",
       "      <td>L</td>\n",
       "      <td>298.3</td>\n",
       "      <td>308.1</td>\n",
       "      <td>1528</td>\n",
       "      <td>33.9</td>\n",
       "      <td>82</td>\n",
       "    </tr>\n",
       "  </tbody>\n",
       "</table>\n",
       "<p>150 rows × 7 columns</p>\n",
       "</div>"
      ],
      "text/plain": [
       "    product_id type  air_temperature  process_temperature  rot_speed  torque  \\\n",
       "0       M24735    M            298.9                309.8       1363    50.6   \n",
       "1       M24777    M            298.5                308.8       1557    36.0   \n",
       "2       L56845    L            299.2                310.3       1610    33.3   \n",
       "3       M24646    M            298.7                309.6       1738    27.3   \n",
       "4       L50759    L            301.8                310.6       2672    11.8   \n",
       "..         ...  ...              ...                  ...        ...     ...   \n",
       "145     M24651    M            298.5                309.4       1521    37.5   \n",
       "146     M24849    M            298.8                308.5       1577    33.2   \n",
       "147     L56949    L            298.6                309.6       1386    48.6   \n",
       "148     L50864    L            302.0                311.2       1270    65.3   \n",
       "149     L57118    L            298.3                308.1       1528    33.9   \n",
       "\n",
       "     tool_wear  \n",
       "0          115  \n",
       "1           21  \n",
       "2          233  \n",
       "3           79  \n",
       "4          124  \n",
       "..         ...  \n",
       "145         94  \n",
       "146          0  \n",
       "147         25  \n",
       "148        182  \n",
       "149         82  \n",
       "\n",
       "[150 rows x 7 columns]"
      ]
     },
     "execution_count": 476,
     "metadata": {},
     "output_type": "execute_result"
    }
   ],
   "source": [
    "df_test"
   ]
  },
  {
   "cell_type": "markdown",
   "metadata": {},
   "source": [
    "## Tester (predict_tester.py)"
   ]
  },
  {
   "cell_type": "code",
   "execution_count": 504,
   "metadata": {},
   "outputs": [
    {
     "name": "stdout",
     "output_type": "stream",
     "text": [
      "error_type of 13 : Heat Dissipation Failure\n",
      "(Real Database results: Heat Dissipation Failure )\n"
     ]
    }
   ],
   "source": [
    "\n",
    "import requests\n",
    "#import json\n",
    "import pickle\n",
    "\n",
    "with open(\"predictTesterLocal/df_test.bin\", 'rb') as f: df_test = pickle.load(f)\n",
    "with open(\"predictTesterLocal/y_test.bin\", 'rb') as f: y_test = pickle.load(f)\n",
    "\n",
    "\n",
    "\n",
    "id =  13\n",
    "try:\n",
    "    id = int(id)\n",
    "    example = df_test.iloc[id].to_json()\n",
    "    expected_res = y_test[id]\n",
    "\n",
    "\n",
    "    url = \"http://127.0.0.1:9696/predict\"\n",
    "    results = requests.post(url, json=example).json()\n",
    "    print(\"error_type of %d : %s\" % (id, results[\"fail_type\"]))\n",
    "\n",
    "    print(\"(Real Database results: %s )\" % expected_res)\n",
    "except Exception as e:\n",
    "    print(e)"
   ]
  },
  {
   "cell_type": "markdown",
   "metadata": {},
   "source": [
    "# Cloud"
   ]
  },
  {
   "cell_type": "code",
   "execution_count": 511,
   "metadata": {},
   "outputs": [
    {
     "name": "stdout",
     "output_type": "stream",
     "text": [
      "failure type for ID 11 : No Failure\n"
     ]
    }
   ],
   "source": [
    "# client.py: get data of the new user\n",
    "import requests\n",
    "import json\n",
    "\n",
    "id = 11 #select here an id to test!\n",
    "example = df_test.iloc[id].to_json()\n",
    "expected_res = y_test[id]\n",
    "\n",
    "url=\"https://kallelay.eu.pythonanywhere.com/predict\"\n",
    "results = requests.post(url, json=example).json()\n",
    "fail_type = results[\"fail_type\"]\n",
    "print(\"failure type for ID %d : %s\" % (id, fail_type))\n",
    "\n"
   ]
  },
  {
   "cell_type": "code",
   "execution_count": null,
   "metadata": {},
   "outputs": [],
   "source": []
  }
 ],
 "metadata": {
  "interpreter": {
   "hash": "da90f46fa8a14be9631a6692cf25b531474837a478d46ca898e64c54b1530bf9"
  },
  "kernelspec": {
   "display_name": "Python 3.9.9 64-bit (windows store)",
   "language": "python",
   "name": "python3"
  },
  "language_info": {
   "codemirror_mode": {
    "name": "ipython",
    "version": 3
   },
   "file_extension": ".py",
   "mimetype": "text/x-python",
   "name": "python",
   "nbconvert_exporter": "python",
   "pygments_lexer": "ipython3",
   "version": "3.9.9"
  },
  "orig_nbformat": 4
 },
 "nbformat": 4,
 "nbformat_minor": 2
}
